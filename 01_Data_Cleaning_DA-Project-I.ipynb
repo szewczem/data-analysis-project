{
 "cells": [
  {
   "cell_type": "markdown",
   "id": "70061c67-aec3-45f0-b782-beddba1be245",
   "metadata": {},
   "source": [
    "# Analysis of the motor vehicle collisions in NYC part I"
   ]
  },
  {
   "cell_type": "markdown",
   "id": "44e36928-b10e-4107-94e0-bbe35f6dd065",
   "metadata": {},
   "source": [
    "## 1. Data cleaning and preparation with early data exploration"
   ]
  },
  {
   "cell_type": "markdown",
   "id": "a544bdae-6c21-4e17-80ed-1d0d36270f74",
   "metadata": {
    "jp-MarkdownHeadingCollapsed": true
   },
   "source": [
    "### &nbsp;&nbsp;&nbsp;&nbsp;1.1 Dataset loading from CSV file"
   ]
  },
  {
   "cell_type": "code",
   "execution_count": 1,
   "id": "51effe77-ac6a-469c-8c50-20701ab3eadb",
   "metadata": {},
   "outputs": [],
   "source": [
    "import pandas as pd"
   ]
  },
  {
   "cell_type": "code",
   "execution_count": 2,
   "id": "aea0968b-9210-4494-8648-1b470dd92ba4",
   "metadata": {},
   "outputs": [
    {
     "name": "stderr",
     "output_type": "stream",
     "text": [
      "C:\\Users\\ewsze\\AppData\\Local\\Temp\\ipykernel_17308\\2587788685.py:1: DtypeWarning: Columns (3) have mixed types. Specify dtype option on import or set low_memory=False.\n",
      "  df = pd.read_csv('nypd-motor-vehicle-collisions.csv')\n"
     ]
    }
   ],
   "source": [
    "df = pd.read_csv('nypd-motor-vehicle-collisions.csv')"
   ]
  },
  {
   "cell_type": "code",
   "execution_count": 3,
   "id": "bf8c7ad9-6333-42fa-bc0f-8a8bcc8579eb",
   "metadata": {},
   "outputs": [
    {
     "name": "stdout",
     "output_type": "stream",
     "text": [
      "<class 'pandas.core.frame.DataFrame'>\n",
      "RangeIndex: 1612178 entries, 0 to 1612177\n",
      "Data columns (total 29 columns):\n",
      " #   Column                         Non-Null Count    Dtype  \n",
      "---  ------                         --------------    -----  \n",
      " 0   ACCIDENT DATE                  1612178 non-null  object \n",
      " 1   ACCIDENT TIME                  1612178 non-null  object \n",
      " 2   BOROUGH                        1127553 non-null  object \n",
      " 3   ZIP CODE                       1127376 non-null  object \n",
      " 4   LATITUDE                       1415893 non-null  float64\n",
      " 5   LONGITUDE                      1415893 non-null  float64\n",
      " 6   LOCATION                       1415893 non-null  object \n",
      " 7   ON STREET NAME                 1298002 non-null  object \n",
      " 8   CROSS STREET NAME              1079193 non-null  object \n",
      " 9   OFF STREET NAME                219732 non-null   object \n",
      " 10  NUMBER OF PERSONS INJURED      1612161 non-null  float64\n",
      " 11  NUMBER OF PERSONS KILLED       1612145 non-null  float64\n",
      " 12  NUMBER OF PEDESTRIANS INJURED  1612178 non-null  int64  \n",
      " 13  NUMBER OF PEDESTRIANS KILLED   1612178 non-null  int64  \n",
      " 14  NUMBER OF CYCLIST INJURED      1612178 non-null  int64  \n",
      " 15  NUMBER OF CYCLIST KILLED       1612178 non-null  int64  \n",
      " 16  NUMBER OF MOTORIST INJURED     1612178 non-null  int64  \n",
      " 17  NUMBER OF MOTORIST KILLED      1612178 non-null  int64  \n",
      " 18  CONTRIBUTING FACTOR VEHICLE 1  1607854 non-null  object \n",
      " 19  CONTRIBUTING FACTOR VEHICLE 2  1396127 non-null  object \n",
      " 20  CONTRIBUTING FACTOR VEHICLE 3  104254 non-null   object \n",
      " 21  CONTRIBUTING FACTOR VEHICLE 4  21789 non-null    object \n",
      " 22  CONTRIBUTING FACTOR VEHICLE 5  5622 non-null     object \n",
      " 23  COLLISION_ID                   1612178 non-null  int64  \n",
      " 24  VEHICLE TYPE CODE 1            1606597 non-null  object \n",
      " 25  VEHICLE TYPE CODE 2            1346858 non-null  object \n",
      " 26  VEHICLE TYPE CODE 3            128742 non-null   object \n",
      " 27  VEHICLE TYPE CODE 4            46009 non-null    object \n",
      " 28  VEHICLE TYPE CODE 5            10150 non-null    object \n",
      "dtypes: float64(4), int64(7), object(18)\n",
      "memory usage: 356.7+ MB\n"
     ]
    }
   ],
   "source": [
    "df.info()"
   ]
  },
  {
   "cell_type": "code",
   "execution_count": 4,
   "id": "96f74de4-cecd-46cb-9c07-1522d5860fd0",
   "metadata": {},
   "outputs": [
    {
     "data": {
      "text/plain": [
       "ACCIDENT DATE                          0\n",
       "ACCIDENT TIME                          0\n",
       "BOROUGH                           484625\n",
       "ZIP CODE                          484802\n",
       "LATITUDE                          196285\n",
       "LONGITUDE                         196285\n",
       "LOCATION                          196285\n",
       "ON STREET NAME                    314176\n",
       "CROSS STREET NAME                 532985\n",
       "OFF STREET NAME                  1392446\n",
       "NUMBER OF PERSONS INJURED             17\n",
       "NUMBER OF PERSONS KILLED              33\n",
       "NUMBER OF PEDESTRIANS INJURED          0\n",
       "NUMBER OF PEDESTRIANS KILLED           0\n",
       "NUMBER OF CYCLIST INJURED              0\n",
       "NUMBER OF CYCLIST KILLED               0\n",
       "NUMBER OF MOTORIST INJURED             0\n",
       "NUMBER OF MOTORIST KILLED              0\n",
       "CONTRIBUTING FACTOR VEHICLE 1       4324\n",
       "CONTRIBUTING FACTOR VEHICLE 2     216051\n",
       "CONTRIBUTING FACTOR VEHICLE 3    1507924\n",
       "CONTRIBUTING FACTOR VEHICLE 4    1590389\n",
       "CONTRIBUTING FACTOR VEHICLE 5    1606556\n",
       "COLLISION_ID                           0\n",
       "VEHICLE TYPE CODE 1                 5581\n",
       "VEHICLE TYPE CODE 2               265320\n",
       "VEHICLE TYPE CODE 3              1483436\n",
       "VEHICLE TYPE CODE 4              1566169\n",
       "VEHICLE TYPE CODE 5              1602028\n",
       "dtype: int64"
      ]
     },
     "execution_count": 4,
     "metadata": {},
     "output_type": "execute_result"
    }
   ],
   "source": [
    "df.isnull().sum()"
   ]
  },
  {
   "cell_type": "markdown",
   "id": "b125e885-6826-492e-b837-e12dfa7629c0",
   "metadata": {},
   "source": [
    "First insights:\n",
    "- 1,6 milion data samples (rows);\n",
    "- 29 columns;\n",
    "- date and time always provided;\n",
    "- column [3] ZIP CODE contains mixed types;\n",
    "- memory usage: 356,7+ MB;\n",
    "- 8 columns describing location (BOROUGH, ZIP CODE< LATITUDE, LONGITUDE< LOCATION< ON STREET NAME< CROSS STREET NAME< OFF STREET NAME);\n",
    "- 8 columns describing the number of persons injured/killed (NUMBER OF PERSONS INJURED, NUMBER OF PERSONS KILLED, NUMBER OF PEDESTRIANS INJURED, NUMBER OF PEDESTRIANS KILLED, NUMBER OF CYCLIST INJURED, NUMBER OF CYCLIST KILLED, NUMBER OF MOTORIST INJURED, NUMBER OF MOTORIST KILLED);\n",
    "- 5 columns describing the factor of the collision (CONTRIBUTING FACTOR VEHICLE 1 to 5);\n",
    "- 5 columns describing the type of vehicle (VEHICLE TYPE CODE 1 to 5);\n",
    "- provided all values for DATETIME, NUMBER OF PEDESTRIANS/CYCLIST/MOTORIST INJURED/KILLED (some values are missing in NUMBER OF PERSONS INJURED, NUMBER OF PERSONS KILLED, propably a total number of injured/killed), COLLISION_ID;\n",
    "- for higher-numbered CONTRIBUTING FACTOR VEHICLE (1-5) the number of missing values increases, the same trend is observed for VEHICLE TYPE CODE (1-5);"
   ]
  },
  {
   "cell_type": "markdown",
   "id": "0ddabd88-2047-444b-b350-b528d4e491c7",
   "metadata": {},
   "source": [
    "Settings to display all columns:"
   ]
  },
  {
   "cell_type": "code",
   "execution_count": 5,
   "id": "0c4dee9c-6087-477d-91f9-280c9e2914ee",
   "metadata": {},
   "outputs": [
    {
     "data": {
      "text/html": [
       "<div>\n",
       "<style scoped>\n",
       "    .dataframe tbody tr th:only-of-type {\n",
       "        vertical-align: middle;\n",
       "    }\n",
       "\n",
       "    .dataframe tbody tr th {\n",
       "        vertical-align: top;\n",
       "    }\n",
       "\n",
       "    .dataframe thead th {\n",
       "        text-align: right;\n",
       "    }\n",
       "</style>\n",
       "<table border=\"1\" class=\"dataframe\">\n",
       "  <thead>\n",
       "    <tr style=\"text-align: right;\">\n",
       "      <th></th>\n",
       "      <th>ACCIDENT DATE</th>\n",
       "      <th>ACCIDENT TIME</th>\n",
       "      <th>BOROUGH</th>\n",
       "      <th>ZIP CODE</th>\n",
       "      <th>LATITUDE</th>\n",
       "      <th>LONGITUDE</th>\n",
       "      <th>LOCATION</th>\n",
       "      <th>ON STREET NAME</th>\n",
       "      <th>CROSS STREET NAME</th>\n",
       "      <th>OFF STREET NAME</th>\n",
       "      <th>NUMBER OF PERSONS INJURED</th>\n",
       "      <th>NUMBER OF PERSONS KILLED</th>\n",
       "      <th>NUMBER OF PEDESTRIANS INJURED</th>\n",
       "      <th>NUMBER OF PEDESTRIANS KILLED</th>\n",
       "      <th>NUMBER OF CYCLIST INJURED</th>\n",
       "      <th>NUMBER OF CYCLIST KILLED</th>\n",
       "      <th>NUMBER OF MOTORIST INJURED</th>\n",
       "      <th>NUMBER OF MOTORIST KILLED</th>\n",
       "      <th>CONTRIBUTING FACTOR VEHICLE 1</th>\n",
       "      <th>CONTRIBUTING FACTOR VEHICLE 2</th>\n",
       "      <th>CONTRIBUTING FACTOR VEHICLE 3</th>\n",
       "      <th>CONTRIBUTING FACTOR VEHICLE 4</th>\n",
       "      <th>CONTRIBUTING FACTOR VEHICLE 5</th>\n",
       "      <th>COLLISION_ID</th>\n",
       "      <th>VEHICLE TYPE CODE 1</th>\n",
       "      <th>VEHICLE TYPE CODE 2</th>\n",
       "      <th>VEHICLE TYPE CODE 3</th>\n",
       "      <th>VEHICLE TYPE CODE 4</th>\n",
       "      <th>VEHICLE TYPE CODE 5</th>\n",
       "    </tr>\n",
       "  </thead>\n",
       "  <tbody>\n",
       "    <tr>\n",
       "      <th>0</th>\n",
       "      <td>2019-08-05T00:00:00.000</td>\n",
       "      <td>16:30</td>\n",
       "      <td>QUEENS</td>\n",
       "      <td>11434.0</td>\n",
       "      <td>40.676052</td>\n",
       "      <td>-73.790184</td>\n",
       "      <td>{'type': 'Point', 'coordinates': [-73.790184, ...</td>\n",
       "      <td>NaN</td>\n",
       "      <td>NaN</td>\n",
       "      <td>150-08    123 AVENUE</td>\n",
       "      <td>0.0</td>\n",
       "      <td>0.0</td>\n",
       "      <td>0</td>\n",
       "      <td>0</td>\n",
       "      <td>0</td>\n",
       "      <td>0</td>\n",
       "      <td>0</td>\n",
       "      <td>0</td>\n",
       "      <td>Passing Too Closely</td>\n",
       "      <td>Unspecified</td>\n",
       "      <td>NaN</td>\n",
       "      <td>NaN</td>\n",
       "      <td>NaN</td>\n",
       "      <td>4184637</td>\n",
       "      <td>Sedan</td>\n",
       "      <td>Pick-up Truck</td>\n",
       "      <td>NaN</td>\n",
       "      <td>NaN</td>\n",
       "      <td>NaN</td>\n",
       "    </tr>\n",
       "    <tr>\n",
       "      <th>1</th>\n",
       "      <td>2019-08-27T00:00:00.000</td>\n",
       "      <td>16:02</td>\n",
       "      <td>BROOKLYN</td>\n",
       "      <td>11225.0</td>\n",
       "      <td>40.657780</td>\n",
       "      <td>-73.951096</td>\n",
       "      <td>{'type': 'Point', 'coordinates': [-73.951096, ...</td>\n",
       "      <td>NaN</td>\n",
       "      <td>NaN</td>\n",
       "      <td>288       HAWTHORNE STREET</td>\n",
       "      <td>0.0</td>\n",
       "      <td>0.0</td>\n",
       "      <td>0</td>\n",
       "      <td>0</td>\n",
       "      <td>0</td>\n",
       "      <td>0</td>\n",
       "      <td>0</td>\n",
       "      <td>0</td>\n",
       "      <td>Passing Too Closely</td>\n",
       "      <td>Unspecified</td>\n",
       "      <td>NaN</td>\n",
       "      <td>NaN</td>\n",
       "      <td>NaN</td>\n",
       "      <td>4195773</td>\n",
       "      <td>Station Wagon/Sport Utility Vehicle</td>\n",
       "      <td>Station Wagon/Sport Utility Vehicle</td>\n",
       "      <td>NaN</td>\n",
       "      <td>NaN</td>\n",
       "      <td>NaN</td>\n",
       "    </tr>\n",
       "    <tr>\n",
       "      <th>2</th>\n",
       "      <td>2019-08-15T00:00:00.000</td>\n",
       "      <td>17:57</td>\n",
       "      <td>MANHATTAN</td>\n",
       "      <td>10002.0</td>\n",
       "      <td>40.718143</td>\n",
       "      <td>-73.993835</td>\n",
       "      <td>{'type': 'Point', 'coordinates': [-73.993835, ...</td>\n",
       "      <td>CHRYSTIE STREET</td>\n",
       "      <td>GRAND STREET</td>\n",
       "      <td>NaN</td>\n",
       "      <td>1.0</td>\n",
       "      <td>0.0</td>\n",
       "      <td>0</td>\n",
       "      <td>0</td>\n",
       "      <td>0</td>\n",
       "      <td>0</td>\n",
       "      <td>1</td>\n",
       "      <td>0</td>\n",
       "      <td>Driver Inattention/Distraction</td>\n",
       "      <td>NaN</td>\n",
       "      <td>NaN</td>\n",
       "      <td>NaN</td>\n",
       "      <td>NaN</td>\n",
       "      <td>4202457</td>\n",
       "      <td>Sedan</td>\n",
       "      <td>NaN</td>\n",
       "      <td>NaN</td>\n",
       "      <td>NaN</td>\n",
       "      <td>NaN</td>\n",
       "    </tr>\n",
       "    <tr>\n",
       "      <th>3</th>\n",
       "      <td>2019-08-30T00:00:00.000</td>\n",
       "      <td>21:53</td>\n",
       "      <td>BRONX</td>\n",
       "      <td>10460.0</td>\n",
       "      <td>40.840534</td>\n",
       "      <td>-73.866610</td>\n",
       "      <td>{'type': 'Point', 'coordinates': [-73.86661, 4...</td>\n",
       "      <td>NaN</td>\n",
       "      <td>NaN</td>\n",
       "      <td>1837      EAST TREMONT AVENUE</td>\n",
       "      <td>0.0</td>\n",
       "      <td>0.0</td>\n",
       "      <td>0</td>\n",
       "      <td>0</td>\n",
       "      <td>0</td>\n",
       "      <td>0</td>\n",
       "      <td>0</td>\n",
       "      <td>0</td>\n",
       "      <td>Unspecified</td>\n",
       "      <td>Unspecified</td>\n",
       "      <td>NaN</td>\n",
       "      <td>NaN</td>\n",
       "      <td>NaN</td>\n",
       "      <td>4198749</td>\n",
       "      <td>Taxi</td>\n",
       "      <td>Station Wagon/Sport Utility Vehicle</td>\n",
       "      <td>NaN</td>\n",
       "      <td>NaN</td>\n",
       "      <td>NaN</td>\n",
       "    </tr>\n",
       "    <tr>\n",
       "      <th>4</th>\n",
       "      <td>2019-08-06T00:00:00.000</td>\n",
       "      <td>9:45</td>\n",
       "      <td>MANHATTAN</td>\n",
       "      <td>10016.0</td>\n",
       "      <td>40.745440</td>\n",
       "      <td>-73.975400</td>\n",
       "      <td>{'type': 'Point', 'coordinates': [-73.9754, 40...</td>\n",
       "      <td>EAST 35 STREET</td>\n",
       "      <td>2 AVENUE</td>\n",
       "      <td>NaN</td>\n",
       "      <td>1.0</td>\n",
       "      <td>0.0</td>\n",
       "      <td>0</td>\n",
       "      <td>0</td>\n",
       "      <td>1</td>\n",
       "      <td>0</td>\n",
       "      <td>0</td>\n",
       "      <td>0</td>\n",
       "      <td>Driver Inattention/Distraction</td>\n",
       "      <td>Driver Inattention/Distraction</td>\n",
       "      <td>NaN</td>\n",
       "      <td>NaN</td>\n",
       "      <td>NaN</td>\n",
       "      <td>4183798</td>\n",
       "      <td>Station Wagon/Sport Utility Vehicle</td>\n",
       "      <td>Bike</td>\n",
       "      <td>NaN</td>\n",
       "      <td>NaN</td>\n",
       "      <td>NaN</td>\n",
       "    </tr>\n",
       "  </tbody>\n",
       "</table>\n",
       "</div>"
      ],
      "text/plain": [
       "             ACCIDENT DATE ACCIDENT TIME    BOROUGH ZIP CODE   LATITUDE  \\\n",
       "0  2019-08-05T00:00:00.000         16:30     QUEENS  11434.0  40.676052   \n",
       "1  2019-08-27T00:00:00.000         16:02   BROOKLYN  11225.0  40.657780   \n",
       "2  2019-08-15T00:00:00.000         17:57  MANHATTAN  10002.0  40.718143   \n",
       "3  2019-08-30T00:00:00.000         21:53      BRONX  10460.0  40.840534   \n",
       "4  2019-08-06T00:00:00.000          9:45  MANHATTAN  10016.0  40.745440   \n",
       "\n",
       "   LONGITUDE                                           LOCATION  \\\n",
       "0 -73.790184  {'type': 'Point', 'coordinates': [-73.790184, ...   \n",
       "1 -73.951096  {'type': 'Point', 'coordinates': [-73.951096, ...   \n",
       "2 -73.993835  {'type': 'Point', 'coordinates': [-73.993835, ...   \n",
       "3 -73.866610  {'type': 'Point', 'coordinates': [-73.86661, 4...   \n",
       "4 -73.975400  {'type': 'Point', 'coordinates': [-73.9754, 40...   \n",
       "\n",
       "                     ON STREET NAME CROSS STREET NAME  \\\n",
       "0                               NaN               NaN   \n",
       "1                               NaN               NaN   \n",
       "2  CHRYSTIE STREET                       GRAND STREET   \n",
       "3                               NaN               NaN   \n",
       "4  EAST 35 STREET                            2 AVENUE   \n",
       "\n",
       "                            OFF STREET NAME  NUMBER OF PERSONS INJURED  \\\n",
       "0  150-08    123 AVENUE                                            0.0   \n",
       "1  288       HAWTHORNE STREET                                      0.0   \n",
       "2                                       NaN                        1.0   \n",
       "3  1837      EAST TREMONT AVENUE                                   0.0   \n",
       "4                                       NaN                        1.0   \n",
       "\n",
       "   NUMBER OF PERSONS KILLED  NUMBER OF PEDESTRIANS INJURED  \\\n",
       "0                       0.0                              0   \n",
       "1                       0.0                              0   \n",
       "2                       0.0                              0   \n",
       "3                       0.0                              0   \n",
       "4                       0.0                              0   \n",
       "\n",
       "   NUMBER OF PEDESTRIANS KILLED  NUMBER OF CYCLIST INJURED  \\\n",
       "0                             0                          0   \n",
       "1                             0                          0   \n",
       "2                             0                          0   \n",
       "3                             0                          0   \n",
       "4                             0                          1   \n",
       "\n",
       "   NUMBER OF CYCLIST KILLED  NUMBER OF MOTORIST INJURED  \\\n",
       "0                         0                           0   \n",
       "1                         0                           0   \n",
       "2                         0                           1   \n",
       "3                         0                           0   \n",
       "4                         0                           0   \n",
       "\n",
       "   NUMBER OF MOTORIST KILLED   CONTRIBUTING FACTOR VEHICLE 1  \\\n",
       "0                          0             Passing Too Closely   \n",
       "1                          0             Passing Too Closely   \n",
       "2                          0  Driver Inattention/Distraction   \n",
       "3                          0                     Unspecified   \n",
       "4                          0  Driver Inattention/Distraction   \n",
       "\n",
       "    CONTRIBUTING FACTOR VEHICLE 2 CONTRIBUTING FACTOR VEHICLE 3  \\\n",
       "0                     Unspecified                           NaN   \n",
       "1                     Unspecified                           NaN   \n",
       "2                             NaN                           NaN   \n",
       "3                     Unspecified                           NaN   \n",
       "4  Driver Inattention/Distraction                           NaN   \n",
       "\n",
       "  CONTRIBUTING FACTOR VEHICLE 4 CONTRIBUTING FACTOR VEHICLE 5  COLLISION_ID  \\\n",
       "0                           NaN                           NaN       4184637   \n",
       "1                           NaN                           NaN       4195773   \n",
       "2                           NaN                           NaN       4202457   \n",
       "3                           NaN                           NaN       4198749   \n",
       "4                           NaN                           NaN       4183798   \n",
       "\n",
       "                   VEHICLE TYPE CODE 1                  VEHICLE TYPE CODE 2  \\\n",
       "0                                Sedan                        Pick-up Truck   \n",
       "1  Station Wagon/Sport Utility Vehicle  Station Wagon/Sport Utility Vehicle   \n",
       "2                                Sedan                                  NaN   \n",
       "3                                 Taxi  Station Wagon/Sport Utility Vehicle   \n",
       "4  Station Wagon/Sport Utility Vehicle                                 Bike   \n",
       "\n",
       "  VEHICLE TYPE CODE 3 VEHICLE TYPE CODE 4 VEHICLE TYPE CODE 5  \n",
       "0                 NaN                 NaN                 NaN  \n",
       "1                 NaN                 NaN                 NaN  \n",
       "2                 NaN                 NaN                 NaN  \n",
       "3                 NaN                 NaN                 NaN  \n",
       "4                 NaN                 NaN                 NaN  "
      ]
     },
     "execution_count": 5,
     "metadata": {},
     "output_type": "execute_result"
    }
   ],
   "source": [
    "pd.set_option('display.max_columns', None)\n",
    "df.head()"
   ]
  },
  {
   "cell_type": "markdown",
   "id": "8298454f-8ccb-4104-b68c-1f9a26792895",
   "metadata": {},
   "source": [
    "Specifying expected data types:"
   ]
  },
  {
   "cell_type": "code",
   "execution_count": 6,
   "id": "7988192f-9ecc-4937-b43a-fbb7b4974ba2",
   "metadata": {},
   "outputs": [],
   "source": [
    "dtypes = {\n",
    "    'BOROUGH': 'category',\n",
    "    'ZIP CODE': 'object',\n",
    "    'LATITUDE': 'float32',\n",
    "    'LONGITUDE': 'float32',\n",
    "    'LOCATION': 'category',\n",
    "    'ON STREET NAME': 'object',\n",
    "    'CROSS STREET NAME': 'object',\n",
    "    'OFF STREET NAME': 'object',\n",
    "    'NUMBER OF PERSONS INJURED': 'float32',    # some NA values\n",
    "    'NUMBER OF PERSONS KILLED': 'float32',    # some NA values\n",
    "    'NUMBER OF PEDESTRIANS INJURED': 'int8',\n",
    "    'NUMBER OF PEDESTRIANS KILLED': 'int8',\n",
    "    'NUMBER OF CYCLIST INJURED': 'int8',\n",
    "    'NUMBER OF CYCLIST KILLED': 'int8',\n",
    "    'NUMBER OF MOTORIST INJURED': 'int8',\n",
    "    'NUMBER OF MOTORIST KILLED': 'int8',\n",
    "    'CONTRIBUTING FACTOR VEHICLE 1': 'object',\n",
    "    'CONTRIBUTING FACTOR VEHICLE 2': 'object',\n",
    "    'CONTRIBUTING FACTOR VEHICLE 3': 'object',\n",
    "    'CONTRIBUTING FACTOR VEHICLE 4': 'object',\n",
    "    'CONTRIBUTING FACTOR VEHICLE 5': 'object',    \n",
    "    'COLLISION_ID': 'int32',\n",
    "    'VEHICLE TYPE CODE 1': 'object',\n",
    "    'VEHICLE TYPE CODE 2': 'object',\n",
    "    'VEHICLE TYPE CODE 3': 'object',\n",
    "    'VEHICLE TYPE CODE 4': 'object',\n",
    "    'VEHICLE TYPE CODE 5': 'object',\n",
    "}"
   ]
  },
  {
   "cell_type": "markdown",
   "id": "6c2e436c-4d25-40df-9f48-8e4ba297c3d6",
   "metadata": {},
   "source": [
    "Reading the CSV file with provided data types:"
   ]
  },
  {
   "cell_type": "code",
   "execution_count": 7,
   "id": "4eafac55-bfb7-4f5b-8625-5453af149950",
   "metadata": {},
   "outputs": [],
   "source": [
    "df = pd.read_csv('nypd-motor-vehicle-collisions.csv', dtype=dtypes, parse_dates=['ACCIDENT DATE'])"
   ]
  },
  {
   "cell_type": "markdown",
   "id": "74a59660-3a81-41f9-a0d0-fa29f81194b8",
   "metadata": {},
   "source": [
    "### &nbsp;&nbsp;&nbsp;&nbsp;1.2 Handling duplicated and missing data"
   ]
  },
  {
   "cell_type": "markdown",
   "id": "d655db6c-16b5-4422-a73a-e6b6e629e874",
   "metadata": {
    "jp-MarkdownHeadingCollapsed": true
   },
   "source": [
    "#### &nbsp;&nbsp;&nbsp;&nbsp;&nbsp;&nbsp;&nbsp;&nbsp;1.2.1 Creating one column DATETIME (merging ACCIDENT DATE and ACCIDENT TIME) and moving it for [0] index:"
   ]
  },
  {
   "cell_type": "code",
   "execution_count": 8,
   "id": "e0a3c6d7-68c9-4452-b8fa-8a763e511b61",
   "metadata": {},
   "outputs": [],
   "source": [
    "df['DATETIME'] = pd.to_datetime(df['ACCIDENT DATE'].astype(str) + ' ' + df['ACCIDENT TIME'])\n",
    "df.drop(columns=['ACCIDENT DATE', 'ACCIDENT TIME'], inplace=True)\n",
    "\n",
    "cols = df.columns.tolist()\n",
    "cols.remove('DATETIME')\n",
    "cols.insert(0, 'DATETIME')\n",
    "df = df[cols]"
   ]
  },
  {
   "cell_type": "markdown",
   "id": "5d644699-4d82-42bb-9b5a-2d9555aac793",
   "metadata": {
    "jp-MarkdownHeadingCollapsed": true
   },
   "source": [
    "#### &nbsp;&nbsp;&nbsp;&nbsp;&nbsp;&nbsp;&nbsp;&nbsp;1.2.2 Droping duplicates"
   ]
  },
  {
   "cell_type": "markdown",
   "id": "e22e25ee-d31d-417e-91c9-7522d38c525a",
   "metadata": {},
   "source": [
    "Counting duplicates:"
   ]
  },
  {
   "cell_type": "code",
   "execution_count": 9,
   "id": "b4d73d0f-07ff-4b08-a3f8-074e4980ccfc",
   "metadata": {},
   "outputs": [
    {
     "name": "stdout",
     "output_type": "stream",
     "text": [
      "Number of duplicate rows: 394221\n",
      "Duplicates make up 24.45% of the original dataset.\n"
     ]
    }
   ],
   "source": [
    "duplicate_count = df.duplicated().sum()\n",
    "print(f\"Number of duplicate rows: {duplicate_count}\")\n",
    "\n",
    "duplicate_percentage = (duplicate_count / len(df)) * 100\n",
    "print(f\"Duplicates make up {duplicate_percentage:.2f}% of the original dataset.\")"
   ]
  },
  {
   "cell_type": "markdown",
   "id": "ec2f6342-9d4c-461b-974c-e97fbe3dbd85",
   "metadata": {},
   "source": [
    "24.45% of the original dataset consists of duplicate rows."
   ]
  },
  {
   "cell_type": "markdown",
   "id": "9fb5406f-d57c-4181-aec5-64d31190b308",
   "metadata": {},
   "source": [
    "Display the head and tail of the DataFrame to inspect its structure, and check whether any duplicates are actual duplicates:"
   ]
  },
  {
   "cell_type": "code",
   "execution_count": 10,
   "id": "b2d9331b-6556-432f-80a3-879b094f6e32",
   "metadata": {},
   "outputs": [
    {
     "data": {
      "text/html": [
       "<div>\n",
       "<style scoped>\n",
       "    .dataframe tbody tr th:only-of-type {\n",
       "        vertical-align: middle;\n",
       "    }\n",
       "\n",
       "    .dataframe tbody tr th {\n",
       "        vertical-align: top;\n",
       "    }\n",
       "\n",
       "    .dataframe thead th {\n",
       "        text-align: right;\n",
       "    }\n",
       "</style>\n",
       "<table border=\"1\" class=\"dataframe\">\n",
       "  <thead>\n",
       "    <tr style=\"text-align: right;\">\n",
       "      <th></th>\n",
       "      <th>DATETIME</th>\n",
       "      <th>BOROUGH</th>\n",
       "      <th>ZIP CODE</th>\n",
       "      <th>LATITUDE</th>\n",
       "      <th>LONGITUDE</th>\n",
       "      <th>LOCATION</th>\n",
       "      <th>ON STREET NAME</th>\n",
       "      <th>CROSS STREET NAME</th>\n",
       "      <th>OFF STREET NAME</th>\n",
       "      <th>NUMBER OF PERSONS INJURED</th>\n",
       "      <th>NUMBER OF PERSONS KILLED</th>\n",
       "      <th>NUMBER OF PEDESTRIANS INJURED</th>\n",
       "      <th>NUMBER OF PEDESTRIANS KILLED</th>\n",
       "      <th>NUMBER OF CYCLIST INJURED</th>\n",
       "      <th>NUMBER OF CYCLIST KILLED</th>\n",
       "      <th>NUMBER OF MOTORIST INJURED</th>\n",
       "      <th>NUMBER OF MOTORIST KILLED</th>\n",
       "      <th>CONTRIBUTING FACTOR VEHICLE 1</th>\n",
       "      <th>CONTRIBUTING FACTOR VEHICLE 2</th>\n",
       "      <th>CONTRIBUTING FACTOR VEHICLE 3</th>\n",
       "      <th>CONTRIBUTING FACTOR VEHICLE 4</th>\n",
       "      <th>CONTRIBUTING FACTOR VEHICLE 5</th>\n",
       "      <th>COLLISION_ID</th>\n",
       "      <th>VEHICLE TYPE CODE 1</th>\n",
       "      <th>VEHICLE TYPE CODE 2</th>\n",
       "      <th>VEHICLE TYPE CODE 3</th>\n",
       "      <th>VEHICLE TYPE CODE 4</th>\n",
       "      <th>VEHICLE TYPE CODE 5</th>\n",
       "    </tr>\n",
       "  </thead>\n",
       "  <tbody>\n",
       "    <tr>\n",
       "      <th>50000</th>\n",
       "      <td>2019-11-20 15:40:00</td>\n",
       "      <td>QUEENS</td>\n",
       "      <td>11101</td>\n",
       "      <td>40.744129</td>\n",
       "      <td>-73.927055</td>\n",
       "      <td>{'type': 'Point', 'coordinates': [-73.927055, ...</td>\n",
       "      <td>QUEENS BOULEVARD</td>\n",
       "      <td>38 STREET</td>\n",
       "      <td>NaN</td>\n",
       "      <td>0.0</td>\n",
       "      <td>0.0</td>\n",
       "      <td>0</td>\n",
       "      <td>0</td>\n",
       "      <td>0</td>\n",
       "      <td>0</td>\n",
       "      <td>0</td>\n",
       "      <td>0</td>\n",
       "      <td>Driver Inattention/Distraction</td>\n",
       "      <td>Driver Inattention/Distraction</td>\n",
       "      <td>NaN</td>\n",
       "      <td>NaN</td>\n",
       "      <td>NaN</td>\n",
       "      <td>4244625</td>\n",
       "      <td>Sedan</td>\n",
       "      <td>Station Wagon/Sport Utility Vehicle</td>\n",
       "      <td>NaN</td>\n",
       "      <td>NaN</td>\n",
       "      <td>NaN</td>\n",
       "    </tr>\n",
       "    <tr>\n",
       "      <th>50001</th>\n",
       "      <td>2019-11-12 07:05:00</td>\n",
       "      <td>BROOKLYN</td>\n",
       "      <td>11208</td>\n",
       "      <td>40.675938</td>\n",
       "      <td>-73.868233</td>\n",
       "      <td>{'type': 'Point', 'coordinates': [-73.86823, 4...</td>\n",
       "      <td>PITKIN AVENUE</td>\n",
       "      <td>AUTUMN AVENUE</td>\n",
       "      <td>NaN</td>\n",
       "      <td>0.0</td>\n",
       "      <td>0.0</td>\n",
       "      <td>0</td>\n",
       "      <td>0</td>\n",
       "      <td>0</td>\n",
       "      <td>0</td>\n",
       "      <td>0</td>\n",
       "      <td>0</td>\n",
       "      <td>Unspecified</td>\n",
       "      <td>Unspecified</td>\n",
       "      <td>NaN</td>\n",
       "      <td>NaN</td>\n",
       "      <td>NaN</td>\n",
       "      <td>4242981</td>\n",
       "      <td>Sedan</td>\n",
       "      <td>Box Truck</td>\n",
       "      <td>NaN</td>\n",
       "      <td>NaN</td>\n",
       "      <td>NaN</td>\n",
       "    </tr>\n",
       "  </tbody>\n",
       "</table>\n",
       "</div>"
      ],
      "text/plain": [
       "                 DATETIME   BOROUGH ZIP CODE   LATITUDE  LONGITUDE  \\\n",
       "50000 2019-11-20 15:40:00    QUEENS    11101  40.744129 -73.927055   \n",
       "50001 2019-11-12 07:05:00  BROOKLYN    11208  40.675938 -73.868233   \n",
       "\n",
       "                                                LOCATION  \\\n",
       "50000  {'type': 'Point', 'coordinates': [-73.927055, ...   \n",
       "50001  {'type': 'Point', 'coordinates': [-73.86823, 4...   \n",
       "\n",
       "                         ON STREET NAME CROSS STREET NAME OFF STREET NAME  \\\n",
       "50000  QUEENS BOULEVARD                         38 STREET             NaN   \n",
       "50001  PITKIN AVENUE                        AUTUMN AVENUE             NaN   \n",
       "\n",
       "       NUMBER OF PERSONS INJURED  NUMBER OF PERSONS KILLED  \\\n",
       "50000                        0.0                       0.0   \n",
       "50001                        0.0                       0.0   \n",
       "\n",
       "       NUMBER OF PEDESTRIANS INJURED  NUMBER OF PEDESTRIANS KILLED  \\\n",
       "50000                              0                             0   \n",
       "50001                              0                             0   \n",
       "\n",
       "       NUMBER OF CYCLIST INJURED  NUMBER OF CYCLIST KILLED  \\\n",
       "50000                          0                         0   \n",
       "50001                          0                         0   \n",
       "\n",
       "       NUMBER OF MOTORIST INJURED  NUMBER OF MOTORIST KILLED  \\\n",
       "50000                           0                          0   \n",
       "50001                           0                          0   \n",
       "\n",
       "        CONTRIBUTING FACTOR VEHICLE 1   CONTRIBUTING FACTOR VEHICLE 2  \\\n",
       "50000  Driver Inattention/Distraction  Driver Inattention/Distraction   \n",
       "50001                     Unspecified                     Unspecified   \n",
       "\n",
       "      CONTRIBUTING FACTOR VEHICLE 3 CONTRIBUTING FACTOR VEHICLE 4  \\\n",
       "50000                           NaN                           NaN   \n",
       "50001                           NaN                           NaN   \n",
       "\n",
       "      CONTRIBUTING FACTOR VEHICLE 5  COLLISION_ID VEHICLE TYPE CODE 1  \\\n",
       "50000                           NaN       4244625               Sedan   \n",
       "50001                           NaN       4242981               Sedan   \n",
       "\n",
       "                       VEHICLE TYPE CODE 2 VEHICLE TYPE CODE 3  \\\n",
       "50000  Station Wagon/Sport Utility Vehicle                 NaN   \n",
       "50001                            Box Truck                 NaN   \n",
       "\n",
       "      VEHICLE TYPE CODE 4 VEHICLE TYPE CODE 5  \n",
       "50000                 NaN                 NaN  \n",
       "50001                 NaN                 NaN  "
      ]
     },
     "execution_count": 10,
     "metadata": {},
     "output_type": "execute_result"
    }
   ],
   "source": [
    "df[df.duplicated()].head(2)"
   ]
  },
  {
   "cell_type": "code",
   "execution_count": 11,
   "id": "3d376a46-0346-488d-937c-f3e8b64cb38c",
   "metadata": {},
   "outputs": [
    {
     "data": {
      "text/html": [
       "<div>\n",
       "<style scoped>\n",
       "    .dataframe tbody tr th:only-of-type {\n",
       "        vertical-align: middle;\n",
       "    }\n",
       "\n",
       "    .dataframe tbody tr th {\n",
       "        vertical-align: top;\n",
       "    }\n",
       "\n",
       "    .dataframe thead th {\n",
       "        text-align: right;\n",
       "    }\n",
       "</style>\n",
       "<table border=\"1\" class=\"dataframe\">\n",
       "  <thead>\n",
       "    <tr style=\"text-align: right;\">\n",
       "      <th></th>\n",
       "      <th>DATETIME</th>\n",
       "      <th>BOROUGH</th>\n",
       "      <th>ZIP CODE</th>\n",
       "      <th>LATITUDE</th>\n",
       "      <th>LONGITUDE</th>\n",
       "      <th>LOCATION</th>\n",
       "      <th>ON STREET NAME</th>\n",
       "      <th>CROSS STREET NAME</th>\n",
       "      <th>OFF STREET NAME</th>\n",
       "      <th>NUMBER OF PERSONS INJURED</th>\n",
       "      <th>NUMBER OF PERSONS KILLED</th>\n",
       "      <th>NUMBER OF PEDESTRIANS INJURED</th>\n",
       "      <th>NUMBER OF PEDESTRIANS KILLED</th>\n",
       "      <th>NUMBER OF CYCLIST INJURED</th>\n",
       "      <th>NUMBER OF CYCLIST KILLED</th>\n",
       "      <th>NUMBER OF MOTORIST INJURED</th>\n",
       "      <th>NUMBER OF MOTORIST KILLED</th>\n",
       "      <th>CONTRIBUTING FACTOR VEHICLE 1</th>\n",
       "      <th>CONTRIBUTING FACTOR VEHICLE 2</th>\n",
       "      <th>CONTRIBUTING FACTOR VEHICLE 3</th>\n",
       "      <th>CONTRIBUTING FACTOR VEHICLE 4</th>\n",
       "      <th>CONTRIBUTING FACTOR VEHICLE 5</th>\n",
       "      <th>COLLISION_ID</th>\n",
       "      <th>VEHICLE TYPE CODE 1</th>\n",
       "      <th>VEHICLE TYPE CODE 2</th>\n",
       "      <th>VEHICLE TYPE CODE 3</th>\n",
       "      <th>VEHICLE TYPE CODE 4</th>\n",
       "      <th>VEHICLE TYPE CODE 5</th>\n",
       "    </tr>\n",
       "  </thead>\n",
       "  <tbody>\n",
       "    <tr>\n",
       "      <th>1612175</th>\n",
       "      <td>2012-07-09 14:35:00</td>\n",
       "      <td>NaN</td>\n",
       "      <td>NaN</td>\n",
       "      <td>40.791492</td>\n",
       "      <td>-73.935760</td>\n",
       "      <td>{'type': 'Point', 'coordinates': [-73.935763, ...</td>\n",
       "      <td>NaN</td>\n",
       "      <td>NaN</td>\n",
       "      <td>NaN</td>\n",
       "      <td>0.0</td>\n",
       "      <td>0.0</td>\n",
       "      <td>0</td>\n",
       "      <td>0</td>\n",
       "      <td>0</td>\n",
       "      <td>0</td>\n",
       "      <td>0</td>\n",
       "      <td>0</td>\n",
       "      <td>Fatigued/Drowsy</td>\n",
       "      <td>Unspecified</td>\n",
       "      <td>NaN</td>\n",
       "      <td>NaN</td>\n",
       "      <td>NaN</td>\n",
       "      <td>2853431</td>\n",
       "      <td>PASSENGER VEHICLE</td>\n",
       "      <td>PASSENGER VEHICLE</td>\n",
       "      <td>NaN</td>\n",
       "      <td>NaN</td>\n",
       "      <td>NaN</td>\n",
       "    </tr>\n",
       "    <tr>\n",
       "      <th>1612176</th>\n",
       "      <td>2012-07-18 09:20:00</td>\n",
       "      <td>MANHATTAN</td>\n",
       "      <td>10024</td>\n",
       "      <td>40.779480</td>\n",
       "      <td>-73.973572</td>\n",
       "      <td>{'type': 'Point', 'coordinates': [-73.9735729,...</td>\n",
       "      <td>CENTRAL PARK WEST</td>\n",
       "      <td>WEST 77 STREET</td>\n",
       "      <td>NaN</td>\n",
       "      <td>0.0</td>\n",
       "      <td>0.0</td>\n",
       "      <td>0</td>\n",
       "      <td>0</td>\n",
       "      <td>0</td>\n",
       "      <td>0</td>\n",
       "      <td>0</td>\n",
       "      <td>0</td>\n",
       "      <td>Driver Inattention/Distraction</td>\n",
       "      <td>Unspecified</td>\n",
       "      <td>Unspecified</td>\n",
       "      <td>NaN</td>\n",
       "      <td>NaN</td>\n",
       "      <td>52405</td>\n",
       "      <td>SPORT UTILITY / STATION WAGON</td>\n",
       "      <td>VAN</td>\n",
       "      <td>BUS</td>\n",
       "      <td>NaN</td>\n",
       "      <td>NaN</td>\n",
       "    </tr>\n",
       "    <tr>\n",
       "      <th>1612177</th>\n",
       "      <td>2012-07-12 03:10:00</td>\n",
       "      <td>QUEENS</td>\n",
       "      <td>11361</td>\n",
       "      <td>40.762501</td>\n",
       "      <td>-73.782524</td>\n",
       "      <td>{'type': 'Point', 'coordinates': [-73.7825216,...</td>\n",
       "      <td>39 AVENUE</td>\n",
       "      <td>203 STREET</td>\n",
       "      <td>NaN</td>\n",
       "      <td>0.0</td>\n",
       "      <td>0.0</td>\n",
       "      <td>0</td>\n",
       "      <td>0</td>\n",
       "      <td>0</td>\n",
       "      <td>0</td>\n",
       "      <td>0</td>\n",
       "      <td>0</td>\n",
       "      <td>Unspecified</td>\n",
       "      <td>NaN</td>\n",
       "      <td>NaN</td>\n",
       "      <td>NaN</td>\n",
       "      <td>NaN</td>\n",
       "      <td>259445</td>\n",
       "      <td>PASSENGER VEHICLE</td>\n",
       "      <td>NaN</td>\n",
       "      <td>NaN</td>\n",
       "      <td>NaN</td>\n",
       "      <td>NaN</td>\n",
       "    </tr>\n",
       "  </tbody>\n",
       "</table>\n",
       "</div>"
      ],
      "text/plain": [
       "                   DATETIME    BOROUGH ZIP CODE   LATITUDE  LONGITUDE  \\\n",
       "1612175 2012-07-09 14:35:00        NaN      NaN  40.791492 -73.935760   \n",
       "1612176 2012-07-18 09:20:00  MANHATTAN    10024  40.779480 -73.973572   \n",
       "1612177 2012-07-12 03:10:00     QUEENS    11361  40.762501 -73.782524   \n",
       "\n",
       "                                                  LOCATION  \\\n",
       "1612175  {'type': 'Point', 'coordinates': [-73.935763, ...   \n",
       "1612176  {'type': 'Point', 'coordinates': [-73.9735729,...   \n",
       "1612177  {'type': 'Point', 'coordinates': [-73.7825216,...   \n",
       "\n",
       "                           ON STREET NAME                 CROSS STREET NAME  \\\n",
       "1612175                               NaN                               NaN   \n",
       "1612176  CENTRAL PARK WEST                 WEST 77 STREET                     \n",
       "1612177  39 AVENUE                         203 STREET                         \n",
       "\n",
       "        OFF STREET NAME  NUMBER OF PERSONS INJURED  NUMBER OF PERSONS KILLED  \\\n",
       "1612175             NaN                        0.0                       0.0   \n",
       "1612176             NaN                        0.0                       0.0   \n",
       "1612177             NaN                        0.0                       0.0   \n",
       "\n",
       "         NUMBER OF PEDESTRIANS INJURED  NUMBER OF PEDESTRIANS KILLED  \\\n",
       "1612175                              0                             0   \n",
       "1612176                              0                             0   \n",
       "1612177                              0                             0   \n",
       "\n",
       "         NUMBER OF CYCLIST INJURED  NUMBER OF CYCLIST KILLED  \\\n",
       "1612175                          0                         0   \n",
       "1612176                          0                         0   \n",
       "1612177                          0                         0   \n",
       "\n",
       "         NUMBER OF MOTORIST INJURED  NUMBER OF MOTORIST KILLED  \\\n",
       "1612175                           0                          0   \n",
       "1612176                           0                          0   \n",
       "1612177                           0                          0   \n",
       "\n",
       "          CONTRIBUTING FACTOR VEHICLE 1 CONTRIBUTING FACTOR VEHICLE 2  \\\n",
       "1612175                 Fatigued/Drowsy                   Unspecified   \n",
       "1612176  Driver Inattention/Distraction                   Unspecified   \n",
       "1612177                     Unspecified                           NaN   \n",
       "\n",
       "        CONTRIBUTING FACTOR VEHICLE 3 CONTRIBUTING FACTOR VEHICLE 4  \\\n",
       "1612175                           NaN                           NaN   \n",
       "1612176                   Unspecified                           NaN   \n",
       "1612177                           NaN                           NaN   \n",
       "\n",
       "        CONTRIBUTING FACTOR VEHICLE 5  COLLISION_ID  \\\n",
       "1612175                           NaN       2853431   \n",
       "1612176                           NaN         52405   \n",
       "1612177                           NaN        259445   \n",
       "\n",
       "                   VEHICLE TYPE CODE 1 VEHICLE TYPE CODE 2  \\\n",
       "1612175              PASSENGER VEHICLE   PASSENGER VEHICLE   \n",
       "1612176  SPORT UTILITY / STATION WAGON                 VAN   \n",
       "1612177              PASSENGER VEHICLE                 NaN   \n",
       "\n",
       "        VEHICLE TYPE CODE 3 VEHICLE TYPE CODE 4 VEHICLE TYPE CODE 5  \n",
       "1612175                 NaN                 NaN                 NaN  \n",
       "1612176                 BUS                 NaN                 NaN  \n",
       "1612177                 NaN                 NaN                 NaN  "
      ]
     },
     "execution_count": 11,
     "metadata": {},
     "output_type": "execute_result"
    }
   ],
   "source": [
    "df[df.duplicated()].tail(3)"
   ]
  },
  {
   "cell_type": "code",
   "execution_count": 12,
   "id": "f3ae0725-9845-449a-8af9-849682151b6f",
   "metadata": {},
   "outputs": [
    {
     "data": {
      "text/html": [
       "<div>\n",
       "<style scoped>\n",
       "    .dataframe tbody tr th:only-of-type {\n",
       "        vertical-align: middle;\n",
       "    }\n",
       "\n",
       "    .dataframe tbody tr th {\n",
       "        vertical-align: top;\n",
       "    }\n",
       "\n",
       "    .dataframe thead th {\n",
       "        text-align: right;\n",
       "    }\n",
       "</style>\n",
       "<table border=\"1\" class=\"dataframe\">\n",
       "  <thead>\n",
       "    <tr style=\"text-align: right;\">\n",
       "      <th></th>\n",
       "      <th>DATETIME</th>\n",
       "      <th>BOROUGH</th>\n",
       "      <th>ZIP CODE</th>\n",
       "      <th>LATITUDE</th>\n",
       "      <th>LONGITUDE</th>\n",
       "      <th>LOCATION</th>\n",
       "      <th>ON STREET NAME</th>\n",
       "      <th>CROSS STREET NAME</th>\n",
       "      <th>OFF STREET NAME</th>\n",
       "      <th>NUMBER OF PERSONS INJURED</th>\n",
       "      <th>NUMBER OF PERSONS KILLED</th>\n",
       "      <th>NUMBER OF PEDESTRIANS INJURED</th>\n",
       "      <th>NUMBER OF PEDESTRIANS KILLED</th>\n",
       "      <th>NUMBER OF CYCLIST INJURED</th>\n",
       "      <th>NUMBER OF CYCLIST KILLED</th>\n",
       "      <th>NUMBER OF MOTORIST INJURED</th>\n",
       "      <th>NUMBER OF MOTORIST KILLED</th>\n",
       "      <th>CONTRIBUTING FACTOR VEHICLE 1</th>\n",
       "      <th>CONTRIBUTING FACTOR VEHICLE 2</th>\n",
       "      <th>CONTRIBUTING FACTOR VEHICLE 3</th>\n",
       "      <th>CONTRIBUTING FACTOR VEHICLE 4</th>\n",
       "      <th>CONTRIBUTING FACTOR VEHICLE 5</th>\n",
       "      <th>COLLISION_ID</th>\n",
       "      <th>VEHICLE TYPE CODE 1</th>\n",
       "      <th>VEHICLE TYPE CODE 2</th>\n",
       "      <th>VEHICLE TYPE CODE 3</th>\n",
       "      <th>VEHICLE TYPE CODE 4</th>\n",
       "      <th>VEHICLE TYPE CODE 5</th>\n",
       "    </tr>\n",
       "  </thead>\n",
       "  <tbody>\n",
       "    <tr>\n",
       "      <th>49726</th>\n",
       "      <td>2019-11-20 15:40:00</td>\n",
       "      <td>QUEENS</td>\n",
       "      <td>11101</td>\n",
       "      <td>40.744129</td>\n",
       "      <td>-73.927055</td>\n",
       "      <td>{'type': 'Point', 'coordinates': [-73.927055, ...</td>\n",
       "      <td>QUEENS BOULEVARD</td>\n",
       "      <td>38 STREET</td>\n",
       "      <td>NaN</td>\n",
       "      <td>0.0</td>\n",
       "      <td>0.0</td>\n",
       "      <td>0</td>\n",
       "      <td>0</td>\n",
       "      <td>0</td>\n",
       "      <td>0</td>\n",
       "      <td>0</td>\n",
       "      <td>0</td>\n",
       "      <td>Driver Inattention/Distraction</td>\n",
       "      <td>Driver Inattention/Distraction</td>\n",
       "      <td>NaN</td>\n",
       "      <td>NaN</td>\n",
       "      <td>NaN</td>\n",
       "      <td>4244625</td>\n",
       "      <td>Sedan</td>\n",
       "      <td>Station Wagon/Sport Utility Vehicle</td>\n",
       "      <td>NaN</td>\n",
       "      <td>NaN</td>\n",
       "      <td>NaN</td>\n",
       "    </tr>\n",
       "    <tr>\n",
       "      <th>49727</th>\n",
       "      <td>2019-11-12 07:05:00</td>\n",
       "      <td>BROOKLYN</td>\n",
       "      <td>11208</td>\n",
       "      <td>40.675938</td>\n",
       "      <td>-73.868233</td>\n",
       "      <td>{'type': 'Point', 'coordinates': [-73.86823, 4...</td>\n",
       "      <td>PITKIN AVENUE</td>\n",
       "      <td>AUTUMN AVENUE</td>\n",
       "      <td>NaN</td>\n",
       "      <td>0.0</td>\n",
       "      <td>0.0</td>\n",
       "      <td>0</td>\n",
       "      <td>0</td>\n",
       "      <td>0</td>\n",
       "      <td>0</td>\n",
       "      <td>0</td>\n",
       "      <td>0</td>\n",
       "      <td>Unspecified</td>\n",
       "      <td>Unspecified</td>\n",
       "      <td>NaN</td>\n",
       "      <td>NaN</td>\n",
       "      <td>NaN</td>\n",
       "      <td>4242981</td>\n",
       "      <td>Sedan</td>\n",
       "      <td>Box Truck</td>\n",
       "      <td>NaN</td>\n",
       "      <td>NaN</td>\n",
       "      <td>NaN</td>\n",
       "    </tr>\n",
       "    <tr>\n",
       "      <th>50000</th>\n",
       "      <td>2019-11-20 15:40:00</td>\n",
       "      <td>QUEENS</td>\n",
       "      <td>11101</td>\n",
       "      <td>40.744129</td>\n",
       "      <td>-73.927055</td>\n",
       "      <td>{'type': 'Point', 'coordinates': [-73.927055, ...</td>\n",
       "      <td>QUEENS BOULEVARD</td>\n",
       "      <td>38 STREET</td>\n",
       "      <td>NaN</td>\n",
       "      <td>0.0</td>\n",
       "      <td>0.0</td>\n",
       "      <td>0</td>\n",
       "      <td>0</td>\n",
       "      <td>0</td>\n",
       "      <td>0</td>\n",
       "      <td>0</td>\n",
       "      <td>0</td>\n",
       "      <td>Driver Inattention/Distraction</td>\n",
       "      <td>Driver Inattention/Distraction</td>\n",
       "      <td>NaN</td>\n",
       "      <td>NaN</td>\n",
       "      <td>NaN</td>\n",
       "      <td>4244625</td>\n",
       "      <td>Sedan</td>\n",
       "      <td>Station Wagon/Sport Utility Vehicle</td>\n",
       "      <td>NaN</td>\n",
       "      <td>NaN</td>\n",
       "      <td>NaN</td>\n",
       "    </tr>\n",
       "    <tr>\n",
       "      <th>50001</th>\n",
       "      <td>2019-11-12 07:05:00</td>\n",
       "      <td>BROOKLYN</td>\n",
       "      <td>11208</td>\n",
       "      <td>40.675938</td>\n",
       "      <td>-73.868233</td>\n",
       "      <td>{'type': 'Point', 'coordinates': [-73.86823, 4...</td>\n",
       "      <td>PITKIN AVENUE</td>\n",
       "      <td>AUTUMN AVENUE</td>\n",
       "      <td>NaN</td>\n",
       "      <td>0.0</td>\n",
       "      <td>0.0</td>\n",
       "      <td>0</td>\n",
       "      <td>0</td>\n",
       "      <td>0</td>\n",
       "      <td>0</td>\n",
       "      <td>0</td>\n",
       "      <td>0</td>\n",
       "      <td>Unspecified</td>\n",
       "      <td>Unspecified</td>\n",
       "      <td>NaN</td>\n",
       "      <td>NaN</td>\n",
       "      <td>NaN</td>\n",
       "      <td>4242981</td>\n",
       "      <td>Sedan</td>\n",
       "      <td>Box Truck</td>\n",
       "      <td>NaN</td>\n",
       "      <td>NaN</td>\n",
       "      <td>NaN</td>\n",
       "    </tr>\n",
       "    <tr>\n",
       "      <th>832914</th>\n",
       "      <td>2012-07-09 14:35:00</td>\n",
       "      <td>NaN</td>\n",
       "      <td>NaN</td>\n",
       "      <td>40.791492</td>\n",
       "      <td>-73.935760</td>\n",
       "      <td>{'type': 'Point', 'coordinates': [-73.935763, ...</td>\n",
       "      <td>NaN</td>\n",
       "      <td>NaN</td>\n",
       "      <td>NaN</td>\n",
       "      <td>0.0</td>\n",
       "      <td>0.0</td>\n",
       "      <td>0</td>\n",
       "      <td>0</td>\n",
       "      <td>0</td>\n",
       "      <td>0</td>\n",
       "      <td>0</td>\n",
       "      <td>0</td>\n",
       "      <td>Fatigued/Drowsy</td>\n",
       "      <td>Unspecified</td>\n",
       "      <td>NaN</td>\n",
       "      <td>NaN</td>\n",
       "      <td>NaN</td>\n",
       "      <td>2853431</td>\n",
       "      <td>PASSENGER VEHICLE</td>\n",
       "      <td>PASSENGER VEHICLE</td>\n",
       "      <td>NaN</td>\n",
       "      <td>NaN</td>\n",
       "      <td>NaN</td>\n",
       "    </tr>\n",
       "    <tr>\n",
       "      <th>1612175</th>\n",
       "      <td>2012-07-09 14:35:00</td>\n",
       "      <td>NaN</td>\n",
       "      <td>NaN</td>\n",
       "      <td>40.791492</td>\n",
       "      <td>-73.935760</td>\n",
       "      <td>{'type': 'Point', 'coordinates': [-73.935763, ...</td>\n",
       "      <td>NaN</td>\n",
       "      <td>NaN</td>\n",
       "      <td>NaN</td>\n",
       "      <td>0.0</td>\n",
       "      <td>0.0</td>\n",
       "      <td>0</td>\n",
       "      <td>0</td>\n",
       "      <td>0</td>\n",
       "      <td>0</td>\n",
       "      <td>0</td>\n",
       "      <td>0</td>\n",
       "      <td>Fatigued/Drowsy</td>\n",
       "      <td>Unspecified</td>\n",
       "      <td>NaN</td>\n",
       "      <td>NaN</td>\n",
       "      <td>NaN</td>\n",
       "      <td>2853431</td>\n",
       "      <td>PASSENGER VEHICLE</td>\n",
       "      <td>PASSENGER VEHICLE</td>\n",
       "      <td>NaN</td>\n",
       "      <td>NaN</td>\n",
       "      <td>NaN</td>\n",
       "    </tr>\n",
       "  </tbody>\n",
       "</table>\n",
       "</div>"
      ],
      "text/plain": [
       "                   DATETIME   BOROUGH ZIP CODE   LATITUDE  LONGITUDE  \\\n",
       "49726   2019-11-20 15:40:00    QUEENS    11101  40.744129 -73.927055   \n",
       "49727   2019-11-12 07:05:00  BROOKLYN    11208  40.675938 -73.868233   \n",
       "50000   2019-11-20 15:40:00    QUEENS    11101  40.744129 -73.927055   \n",
       "50001   2019-11-12 07:05:00  BROOKLYN    11208  40.675938 -73.868233   \n",
       "832914  2012-07-09 14:35:00       NaN      NaN  40.791492 -73.935760   \n",
       "1612175 2012-07-09 14:35:00       NaN      NaN  40.791492 -73.935760   \n",
       "\n",
       "                                                  LOCATION  \\\n",
       "49726    {'type': 'Point', 'coordinates': [-73.927055, ...   \n",
       "49727    {'type': 'Point', 'coordinates': [-73.86823, 4...   \n",
       "50000    {'type': 'Point', 'coordinates': [-73.927055, ...   \n",
       "50001    {'type': 'Point', 'coordinates': [-73.86823, 4...   \n",
       "832914   {'type': 'Point', 'coordinates': [-73.935763, ...   \n",
       "1612175  {'type': 'Point', 'coordinates': [-73.935763, ...   \n",
       "\n",
       "                           ON STREET NAME CROSS STREET NAME OFF STREET NAME  \\\n",
       "49726    QUEENS BOULEVARD                         38 STREET             NaN   \n",
       "49727    PITKIN AVENUE                        AUTUMN AVENUE             NaN   \n",
       "50000    QUEENS BOULEVARD                         38 STREET             NaN   \n",
       "50001    PITKIN AVENUE                        AUTUMN AVENUE             NaN   \n",
       "832914                                NaN               NaN             NaN   \n",
       "1612175                               NaN               NaN             NaN   \n",
       "\n",
       "         NUMBER OF PERSONS INJURED  NUMBER OF PERSONS KILLED  \\\n",
       "49726                          0.0                       0.0   \n",
       "49727                          0.0                       0.0   \n",
       "50000                          0.0                       0.0   \n",
       "50001                          0.0                       0.0   \n",
       "832914                         0.0                       0.0   \n",
       "1612175                        0.0                       0.0   \n",
       "\n",
       "         NUMBER OF PEDESTRIANS INJURED  NUMBER OF PEDESTRIANS KILLED  \\\n",
       "49726                                0                             0   \n",
       "49727                                0                             0   \n",
       "50000                                0                             0   \n",
       "50001                                0                             0   \n",
       "832914                               0                             0   \n",
       "1612175                              0                             0   \n",
       "\n",
       "         NUMBER OF CYCLIST INJURED  NUMBER OF CYCLIST KILLED  \\\n",
       "49726                            0                         0   \n",
       "49727                            0                         0   \n",
       "50000                            0                         0   \n",
       "50001                            0                         0   \n",
       "832914                           0                         0   \n",
       "1612175                          0                         0   \n",
       "\n",
       "         NUMBER OF MOTORIST INJURED  NUMBER OF MOTORIST KILLED  \\\n",
       "49726                             0                          0   \n",
       "49727                             0                          0   \n",
       "50000                             0                          0   \n",
       "50001                             0                          0   \n",
       "832914                            0                          0   \n",
       "1612175                           0                          0   \n",
       "\n",
       "          CONTRIBUTING FACTOR VEHICLE 1   CONTRIBUTING FACTOR VEHICLE 2  \\\n",
       "49726    Driver Inattention/Distraction  Driver Inattention/Distraction   \n",
       "49727                       Unspecified                     Unspecified   \n",
       "50000    Driver Inattention/Distraction  Driver Inattention/Distraction   \n",
       "50001                       Unspecified                     Unspecified   \n",
       "832914                  Fatigued/Drowsy                     Unspecified   \n",
       "1612175                 Fatigued/Drowsy                     Unspecified   \n",
       "\n",
       "        CONTRIBUTING FACTOR VEHICLE 3 CONTRIBUTING FACTOR VEHICLE 4  \\\n",
       "49726                             NaN                           NaN   \n",
       "49727                             NaN                           NaN   \n",
       "50000                             NaN                           NaN   \n",
       "50001                             NaN                           NaN   \n",
       "832914                            NaN                           NaN   \n",
       "1612175                           NaN                           NaN   \n",
       "\n",
       "        CONTRIBUTING FACTOR VEHICLE 5  COLLISION_ID VEHICLE TYPE CODE 1  \\\n",
       "49726                             NaN       4244625               Sedan   \n",
       "49727                             NaN       4242981               Sedan   \n",
       "50000                             NaN       4244625               Sedan   \n",
       "50001                             NaN       4242981               Sedan   \n",
       "832914                            NaN       2853431   PASSENGER VEHICLE   \n",
       "1612175                           NaN       2853431   PASSENGER VEHICLE   \n",
       "\n",
       "                         VEHICLE TYPE CODE 2 VEHICLE TYPE CODE 3  \\\n",
       "49726    Station Wagon/Sport Utility Vehicle                 NaN   \n",
       "49727                              Box Truck                 NaN   \n",
       "50000    Station Wagon/Sport Utility Vehicle                 NaN   \n",
       "50001                              Box Truck                 NaN   \n",
       "832914                     PASSENGER VEHICLE                 NaN   \n",
       "1612175                    PASSENGER VEHICLE                 NaN   \n",
       "\n",
       "        VEHICLE TYPE CODE 4 VEHICLE TYPE CODE 5  \n",
       "49726                   NaN                 NaN  \n",
       "49727                   NaN                 NaN  \n",
       "50000                   NaN                 NaN  \n",
       "50001                   NaN                 NaN  \n",
       "832914                  NaN                 NaN  \n",
       "1612175                 NaN                 NaN  "
      ]
     },
     "execution_count": 12,
     "metadata": {},
     "output_type": "execute_result"
    }
   ],
   "source": [
    "df[df['COLLISION_ID'].isin([4244625, 4242981, 2853431])]"
   ]
  },
  {
   "cell_type": "code",
   "execution_count": 13,
   "id": "c95e86a0-d29e-47a1-a9a9-91dbaf9535ad",
   "metadata": {},
   "outputs": [],
   "source": [
    "df = df.drop_duplicates()"
   ]
  },
  {
   "cell_type": "code",
   "execution_count": 14,
   "id": "50612af5-617d-41ee-9b03-de4590dafa94",
   "metadata": {},
   "outputs": [
    {
     "name": "stdout",
     "output_type": "stream",
     "text": [
      "<class 'pandas.core.frame.DataFrame'>\n",
      "Index: 1217957 entries, 0 to 1612019\n",
      "Data columns (total 28 columns):\n",
      " #   Column                         Non-Null Count    Dtype         \n",
      "---  ------                         --------------    -----         \n",
      " 0   DATETIME                       1217957 non-null  datetime64[ns]\n",
      " 1   BOROUGH                        847386 non-null   category      \n",
      " 2   ZIP CODE                       847250 non-null   object        \n",
      " 3   LATITUDE                       1071446 non-null  float32       \n",
      " 4   LONGITUDE                      1071446 non-null  float32       \n",
      " 5   LOCATION                       1071446 non-null  category      \n",
      " 6   ON STREET NAME                 977625 non-null   object        \n",
      " 7   CROSS STREET NAME              804464 non-null   object        \n",
      " 8   OFF STREET NAME                171749 non-null   object        \n",
      " 9   NUMBER OF PERSONS INJURED      1217944 non-null  float32       \n",
      " 10  NUMBER OF PERSONS KILLED       1217932 non-null  float32       \n",
      " 11  NUMBER OF PEDESTRIANS INJURED  1217957 non-null  int8          \n",
      " 12  NUMBER OF PEDESTRIANS KILLED   1217957 non-null  int8          \n",
      " 13  NUMBER OF CYCLIST INJURED      1217957 non-null  int8          \n",
      " 14  NUMBER OF CYCLIST KILLED       1217957 non-null  int8          \n",
      " 15  NUMBER OF MOTORIST INJURED     1217957 non-null  int8          \n",
      " 16  NUMBER OF MOTORIST KILLED      1217957 non-null  int8          \n",
      " 17  CONTRIBUTING FACTOR VEHICLE 1  1214660 non-null  object        \n",
      " 18  CONTRIBUTING FACTOR VEHICLE 2  1053641 non-null  object        \n",
      " 19  CONTRIBUTING FACTOR VEHICLE 3  78659 non-null    object        \n",
      " 20  CONTRIBUTING FACTOR VEHICLE 4  16427 non-null    object        \n",
      " 21  CONTRIBUTING FACTOR VEHICLE 5  4232 non-null     object        \n",
      " 22  COLLISION_ID                   1217957 non-null  int32         \n",
      " 23  VEHICLE TYPE CODE 1            1213664 non-null  object        \n",
      " 24  VEHICLE TYPE CODE 2            1013909 non-null  object        \n",
      " 25  VEHICLE TYPE CODE 3            97168 non-null    object        \n",
      " 26  VEHICLE TYPE CODE 4            34856 non-null    object        \n",
      " 27  VEHICLE TYPE CODE 5            7630 non-null     object        \n",
      "dtypes: category(2), datetime64[ns](1), float32(4), int32(1), int8(6), object(14)\n",
      "memory usage: 190.1+ MB\n"
     ]
    }
   ],
   "source": [
    "df.info()"
   ]
  },
  {
   "cell_type": "markdown",
   "id": "df3a9d3c-c35c-4958-a60e-78e4b65362e6",
   "metadata": {},
   "source": [
    "#### &nbsp;&nbsp;&nbsp;&nbsp;&nbsp;&nbsp;&nbsp;&nbsp;1.2.3 Handling missing BOROUGH"
   ]
  },
  {
   "cell_type": "markdown",
   "id": "321dee6e-de21-4902-971d-020f4b39cc45",
   "metadata": {
    "jp-MarkdownHeadingCollapsed": true
   },
   "source": [
    "#### &nbsp;&nbsp;&nbsp;&nbsp;&nbsp;&nbsp;&nbsp;&nbsp;&nbsp;&nbsp;&nbsp;&nbsp;1.2.3.1 Checking BOROUGH coulumn"
   ]
  },
  {
   "cell_type": "code",
   "execution_count": 15,
   "id": "e3b09dc3-7067-4f48-94a3-61c59599f6dc",
   "metadata": {},
   "outputs": [
    {
     "name": "stdout",
     "output_type": "stream",
     "text": [
      "Dataset entries: 1217957\n",
      "Missing BOROUGH: 370571\n",
      "Missing BOROUGH make up 30.43% of the main dataset.\n"
     ]
    }
   ],
   "source": [
    "df_len = len(df)\n",
    "print(f'Dataset entries: {df_len}')\n",
    "\n",
    "missing_borough_sum = df['BOROUGH'].isnull().sum()\n",
    "print(f'Missing BOROUGH: {missing_borough_sum}')\n",
    "\n",
    "missing_borough_percentage = (missing_borough_sum / df_len) * 100\n",
    "print(f\"Missing BOROUGH make up {missing_borough_percentage:.2f}% of the main dataset.\")"
   ]
  },
  {
   "cell_type": "markdown",
   "id": "d981ca7f-67cd-4999-bb50-8c016c030702",
   "metadata": {},
   "source": [
    "New York City (NYC) is composed of five boroughs: Manhattan, Brooklyn, Queens, The Bronx, and Staten Island."
   ]
  },
  {
   "cell_type": "code",
   "execution_count": 16,
   "id": "4a1c9d11-a142-4085-adf3-067c616dcad8",
   "metadata": {},
   "outputs": [
    {
     "data": {
      "text/plain": [
       "BOROUGH\n",
       "BROOKLYN         263285\n",
       "QUEENS           225555\n",
       "MANHATTAN        203102\n",
       "BRONX            118701\n",
       "STATEN ISLAND     36743\n",
       "Name: count, dtype: int64"
      ]
     },
     "execution_count": 16,
     "metadata": {},
     "output_type": "execute_result"
    }
   ],
   "source": [
    "df['BOROUGH'].value_counts()"
   ]
  },
  {
   "cell_type": "code",
   "execution_count": 17,
   "id": "4b9e32f7-6a92-457a-95a0-dd55788b6485",
   "metadata": {},
   "outputs": [
    {
     "data": {
      "text/plain": [
       "[NaN]\n",
       "Categories (5, object): ['BRONX', 'BROOKLYN', 'MANHATTAN', 'QUEENS', 'STATEN ISLAND']"
      ]
     },
     "execution_count": 17,
     "metadata": {},
     "output_type": "execute_result"
    }
   ],
   "source": [
    "valid_boroughs = ['BROOKLYN', 'QUEENS', 'MANHATTAN', 'BRONX', 'STATEN ISLAND']\n",
    "\n",
    "invalid_boroughs = df[~df['BOROUGH'].isin(valid_boroughs)]\n",
    "invalid_boroughs['BOROUGH'].unique()"
   ]
  },
  {
   "cell_type": "markdown",
   "id": "a2a4fce2-e56c-414c-8d0e-d767b471e489",
   "metadata": {},
   "source": [
    " Provided values are clean and correct."
   ]
  },
  {
   "cell_type": "markdown",
   "id": "115a99c5-fea5-4156-9489-bdd47b9b4a2b",
   "metadata": {
    "jp-MarkdownHeadingCollapsed": true
   },
   "source": [
    "#### &nbsp;&nbsp;&nbsp;&nbsp;&nbsp;&nbsp;&nbsp;&nbsp;&nbsp;&nbsp;&nbsp;&nbsp;1.2.3.2 Checking columns providing localization"
   ]
  },
  {
   "cell_type": "code",
   "execution_count": 18,
   "id": "69fafa3f-b3ee-48db-90c6-3bca9f57cfa3",
   "metadata": {},
   "outputs": [
    {
     "name": "stdout",
     "output_type": "stream",
     "text": [
      "Number of rows that could potentially be filled using ZIP CODE: 0\n"
     ]
    }
   ],
   "source": [
    "mask = df['ZIP CODE'].notnull() & df['BOROUGH'].isnull()\n",
    "\n",
    "values_provided_for_zipcode = df[mask].shape[0]\n",
    "print(f'Number of rows that could potentially be filled using ZIP CODE: {values_provided_for_zipcode}')"
   ]
  },
  {
   "cell_type": "markdown",
   "id": "361e464f-3b39-4989-9fef-2fb7ed28de21",
   "metadata": {},
   "source": [
    "When BOROUGH is NaN then ZIP CODE is NaN too."
   ]
  },
  {
   "cell_type": "markdown",
   "id": "884da6a7-e7ca-49a2-a3ed-45b9170a8102",
   "metadata": {},
   "source": [
    "Decided to drop ZIP CODE column as is no longer neccesary."
   ]
  },
  {
   "cell_type": "code",
   "execution_count": 19,
   "id": "3bbf6802-2ce4-439d-93cd-e6ba48c0117c",
   "metadata": {},
   "outputs": [],
   "source": [
    "df.drop(columns=['ZIP CODE'], inplace=True)"
   ]
  },
  {
   "cell_type": "code",
   "execution_count": 20,
   "id": "0d789494-1cf8-46c4-b731-a720bc1f2f4b",
   "metadata": {},
   "outputs": [
    {
     "name": "stdout",
     "output_type": "stream",
     "text": [
      "Rows with missing BOROUGH that could potentially be filled using LATITUDE, LONGITUDE, or LOCATION: 246199, which make up 66.44% of missing BOROUGH.\n"
     ]
    }
   ],
   "source": [
    "mask = df['BOROUGH'].isnull() & df['LATITUDE'].notnull() & df['LONGITUDE'].notnull() & df['LOCATION'].notnull()\n",
    "\n",
    "values_provided_for_lat_long_loc = df[mask].shape[0]\n",
    "values_provided_for_lat_long_loc_percentage = (values_provided_for_lat_long_loc / missing_borough_sum) * 100\n",
    "print(f'Rows with missing BOROUGH that could potentially be filled using LATITUDE, LONGITUDE, or LOCATION: {values_provided_for_lat_long_loc}, which make up {values_provided_for_lat_long_loc_percentage:.2f}% of missing BOROUGH.')\n"
   ]
  },
  {
   "cell_type": "code",
   "execution_count": 21,
   "id": "9d721618-728e-4634-a9b3-a828ddda4e73",
   "metadata": {},
   "outputs": [
    {
     "name": "stdout",
     "output_type": "stream",
     "text": [
      "Number of rows that have LOCATION only: 0\n"
     ]
    }
   ],
   "source": [
    "mask = df['BOROUGH'].isnull() & df['LATITUDE'].isnull() & df['LONGITUDE'].isnull() & df['LOCATION'].notnull()\n",
    "\n",
    "values_provided_only_for_loc = df[mask].shape[0]\n",
    "print(f'Number of rows that have LOCATION only: {values_provided_only_for_loc}')"
   ]
  },
  {
   "cell_type": "markdown",
   "id": "a3a9fd52-4510-4e9a-a61c-7ac106a0a327",
   "metadata": {},
   "source": [
    "If the LOCATION is given, then LONGITUDE and LATITUDE are also provided."
   ]
  },
  {
   "cell_type": "markdown",
   "id": "9f047b62-6180-4067-8bbb-f84ca4f22337",
   "metadata": {},
   "source": [
    "Verifying whether the LONGITUDE and LATITUDE columns contain the same coordinate values as the LOCATION column:"
   ]
  },
  {
   "cell_type": "code",
   "execution_count": 22,
   "id": "6f9404d3-3c79-4ab9-a47d-32fca9fc0e21",
   "metadata": {},
   "outputs": [],
   "source": [
    "pd.set_option('display.precision', 10)"
   ]
  },
  {
   "cell_type": "code",
   "execution_count": 23,
   "id": "5eee8bd0-9815-4452-9b7f-9b4b2f94b0fd",
   "metadata": {},
   "outputs": [
    {
     "name": "stdout",
     "output_type": "stream",
     "text": [
      "0   -73.7901840210\n",
      "1   -73.9510955811\n",
      "2   -73.9938354492\n",
      "Name: LONGITUDE, dtype: float32\n",
      "0   -73.790184\n",
      "1   -73.951096\n",
      "2   -73.993835\n",
      "Name: 0, dtype: float64\n",
      "0          False\n",
      "1          False\n",
      "2          False\n",
      "3          False\n",
      "4          False\n",
      "           ...  \n",
      "1611230    False\n",
      "1611231    False\n",
      "1611232    False\n",
      "1611233    False\n",
      "1612019    False\n",
      "Length: 1217957, dtype: bool\n"
     ]
    }
   ],
   "source": [
    "longitude_values = df['LONGITUDE']\n",
    "location_longitude_values = df['LOCATION'].str.extract(r'\\[([^\\]]+)\\]')[0].str.split(',', expand=True)[0].str.strip().astype(float)\n",
    "\n",
    "print(longitude_values.head(3))\n",
    "print(location_longitude_values.head(3))\n",
    "print(longitude_values == location_longitude_values)"
   ]
  },
  {
   "cell_type": "markdown",
   "id": "bbf4ebb4-d6dd-4530-9419-4ba1d0917d63",
   "metadata": {},
   "source": [
    "The comparison above confirms that the columns contain the same coordinate values, with the LONGITUDE and LATITUDE columns providing more decimal places (and therefore higher accuracy). \n",
    "\n",
    "The approximate accuracy of geographic coordinates depends on the number of decimal places:\n",
    "- 6 decimal places provide an accuracy of ~0.11 meters\n",
    "- The difference for two such values can be around ~15 cm\n",
    "\n",
    "In this context, an accuracy of ~110 meters (corresponding to 3 decimal places) would be sufficient for general location analysis."
   ]
  },
  {
   "cell_type": "markdown",
   "id": "9be3e25a-5aa1-4acf-b77d-6acf5b408266",
   "metadata": {
    "jp-MarkdownHeadingCollapsed": true
   },
   "source": [
    "#### &nbsp;&nbsp;&nbsp;&nbsp;&nbsp;&nbsp;&nbsp;&nbsp;&nbsp;&nbsp;&nbsp;&nbsp;1.2.3.3 Attempt to infer the missing borough values using LATITUDE and LONGITUDE."
   ]
  },
  {
   "cell_type": "code",
   "execution_count": 24,
   "id": "40f056f8-5379-4161-a451-745011f92491",
   "metadata": {},
   "outputs": [],
   "source": [
    "import geopandas as gpd\n",
    "from shapely.geometry import Point"
   ]
  },
  {
   "cell_type": "code",
   "execution_count": 25,
   "id": "dcb92b0f-a527-457f-b3ed-a2a5493cba45",
   "metadata": {},
   "outputs": [
    {
     "name": "stdout",
     "output_type": "stream",
     "text": [
      "Column names in GeoDataFrame: Index(['OBJECTID', 'BoroCode', 'BoroName', 'geometry'], dtype='object')\n"
     ]
    }
   ],
   "source": [
    "NYC_boroughs = gpd.read_file(\"NYC_Borough_Boundary.geojson\")\n",
    "NYC_boroughs = NYC_boroughs.to_crs(epsg=4326)\n",
    "\n",
    "print(f'Column names in GeoDataFrame: {NYC_boroughs.columns}')"
   ]
  },
  {
   "cell_type": "code",
   "execution_count": 26,
   "id": "5667a563-5530-4624-b773-763304dd0a7b",
   "metadata": {},
   "outputs": [
    {
     "name": "stdout",
     "output_type": "stream",
     "text": [
      "<class 'pandas.core.frame.DataFrame'>\n",
      "Index: 246199 entries, 7 to 1611232\n",
      "Data columns (total 27 columns):\n",
      " #   Column                         Non-Null Count   Dtype         \n",
      "---  ------                         --------------   -----         \n",
      " 0   DATETIME                       246199 non-null  datetime64[ns]\n",
      " 1   BOROUGH                        0 non-null       category      \n",
      " 2   LATITUDE                       246199 non-null  float32       \n",
      " 3   LONGITUDE                      246199 non-null  float32       \n",
      " 4   LOCATION                       246199 non-null  category      \n",
      " 5   ON STREET NAME                 190917 non-null  object        \n",
      " 6   CROSS STREET NAME              33627 non-null   object        \n",
      " 7   OFF STREET NAME                9577 non-null    object        \n",
      " 8   NUMBER OF PERSONS INJURED      246196 non-null  float32       \n",
      " 9   NUMBER OF PERSONS KILLED       246195 non-null  float32       \n",
      " 10  NUMBER OF PEDESTRIANS INJURED  246199 non-null  int8          \n",
      " 11  NUMBER OF PEDESTRIANS KILLED   246199 non-null  int8          \n",
      " 12  NUMBER OF CYCLIST INJURED      246199 non-null  int8          \n",
      " 13  NUMBER OF CYCLIST KILLED       246199 non-null  int8          \n",
      " 14  NUMBER OF MOTORIST INJURED     246199 non-null  int8          \n",
      " 15  NUMBER OF MOTORIST KILLED      246199 non-null  int8          \n",
      " 16  CONTRIBUTING FACTOR VEHICLE 1  245677 non-null  object        \n",
      " 17  CONTRIBUTING FACTOR VEHICLE 2  216911 non-null  object        \n",
      " 18  CONTRIBUTING FACTOR VEHICLE 3  22705 non-null   object        \n",
      " 19  CONTRIBUTING FACTOR VEHICLE 4  4444 non-null    object        \n",
      " 20  CONTRIBUTING FACTOR VEHICLE 5  1042 non-null    object        \n",
      " 21  COLLISION_ID                   246199 non-null  int32         \n",
      " 22  VEHICLE TYPE CODE 1            245403 non-null  object        \n",
      " 23  VEHICLE TYPE CODE 2            202397 non-null  object        \n",
      " 24  VEHICLE TYPE CODE 3            28817 non-null   object        \n",
      " 25  VEHICLE TYPE CODE 4            10636 non-null   object        \n",
      " 26  VEHICLE TYPE CODE 5            2375 non-null    object        \n",
      "dtypes: category(2), datetime64[ns](1), float32(4), int32(1), int8(6), object(13)\n",
      "memory usage: 40.9+ MB\n"
     ]
    }
   ],
   "source": [
    "# Filter rows with missing BOROUGH and valid LAT/LON\n",
    "mask = df['BOROUGH'].isna() & df['LATITUDE'].notna() & df['LONGITUDE'].notna()\n",
    "df_missing_borough = df[mask].copy()\n",
    "df_missing_borough.info()"
   ]
  },
  {
   "cell_type": "code",
   "execution_count": 27,
   "id": "71bc88aa-43e6-4dc1-9f4a-1f9328e03139",
   "metadata": {},
   "outputs": [
    {
     "name": "stdout",
     "output_type": "stream",
     "text": [
      "Number of filled missing boroughs using coordinates: 240152, which make up 97.54% of missing BOROUGH that could potentially be filled using LATITUDE, LONGITUDE, or LOCATION.\n"
     ]
    }
   ],
   "source": [
    "# Create geometry column\n",
    "geometry = [Point(xy) for xy in zip(df_missing_borough['LONGITUDE'], df_missing_borough['LATITUDE'])]\n",
    "gdf_missing_borough = gpd.GeoDataFrame(df_missing_borough, geometry=geometry, crs='EPSG:4326')\n",
    "\n",
    "# Perform spatial join to assign boroughs\n",
    "df_borough_updated = gpd.sjoin(gdf_missing_borough, NYC_boroughs[['BoroName', 'geometry']], how='left', predicate='within')\n",
    "\n",
    "# Convert to uppercase to match existing BOROUGH categories\n",
    "df_borough_updated['BoroName'] = df_borough_updated['BoroName'].str.upper()\n",
    "\n",
    "# Fill in the BOROUGH values back to the main df\n",
    "df.loc[df_borough_updated.index, 'BOROUGH'] = df_borough_updated['BoroName']\n",
    "\n",
    "missing_borough_values_filled = df_borough_updated['BoroName'].notna().sum()\n",
    "\n",
    "missing_borough_values_filled_percentage = (missing_borough_values_filled / values_provided_for_lat_long_loc) * 100\n",
    "\n",
    "print(f\"Number of filled missing boroughs using coordinates: {missing_borough_values_filled}, which make up {missing_borough_values_filled_percentage:.2f}% of missing BOROUGH that could potentially be filled using LATITUDE, LONGITUDE, or LOCATION.\")"
   ]
  },
  {
   "cell_type": "code",
   "execution_count": 28,
   "id": "c6cb35db-b944-4416-bfd0-9172443ba76b",
   "metadata": {},
   "outputs": [
    {
     "name": "stdout",
     "output_type": "stream",
     "text": [
      "Number of missing BOROUGH values: 6047, which make up 2.46% of missing BOROUGH that could potentially be filled using LATITUDE, LONGITUDE, or LOCATION and 0.50% of the main dataset.\n"
     ]
    }
   ],
   "source": [
    "borough_values_not_filled = df_borough_updated['BoroName'].isna().sum()\n",
    "missing_borough_percentage = (df_borough_updated['BoroName'].isna().sum() / df_len) * 100\n",
    "missing_borough_values_percentage = (borough_values_not_filled / values_provided_for_lat_long_loc) * 100\n",
    "\n",
    "print(f\"Number of missing BOROUGH values: {borough_values_not_filled}, which make up {missing_borough_values_percentage:.2f}% of missing BOROUGH that could potentially be filled using LATITUDE, LONGITUDE, or LOCATION and {missing_borough_percentage:.2f}% of the main dataset.\")"
   ]
  },
  {
   "cell_type": "markdown",
   "id": "c07d2d9c-fd72-4cbf-a92a-a3f8147f1dec",
   "metadata": {},
   "source": [
    "Checking if the result is accurate:"
   ]
  },
  {
   "cell_type": "code",
   "execution_count": 29,
   "id": "1a2537f7-eff4-4c65-83fc-48806ae49f50",
   "metadata": {},
   "outputs": [
    {
     "name": "stdout",
     "output_type": "stream",
     "text": [
      "The missing BOROUGH value is consistent: True\n"
     ]
    }
   ],
   "source": [
    "expected_unfilled = values_provided_for_lat_long_loc - missing_borough_values_filled\n",
    "actual_unfilled = borough_values_not_filled\n",
    "\n",
    "result = (expected_unfilled == actual_unfilled)\n",
    "\n",
    "print(f'The missing BOROUGH value is consistent: {result}')"
   ]
  },
  {
   "cell_type": "code",
   "execution_count": 30,
   "id": "7280b367-e40f-4186-a3a9-28832210cadc",
   "metadata": {},
   "outputs": [
    {
     "name": "stdout",
     "output_type": "stream",
     "text": [
      "---\n",
      "Summary:\n",
      "---\n",
      "Missing BOROUGH: 370571\n",
      "Number of rows that could potentially be filled using LATITUDE, LONGITUDE or LOCATION: 246199\n",
      "Number of filled missing boroughs using coordinates: 240152\n",
      "Number of missing BOROUGH values: 6047, make up 0.50% of the main dataset.\n",
      "---\n",
      "Still missing values in main df: 130419\n",
      "---\n"
     ]
    }
   ],
   "source": [
    "print(\"---\\nSummary:\\n---\")\n",
    "print(f'Missing BOROUGH: {missing_borough_sum}')\n",
    "print(f'Number of rows that could potentially be filled using LATITUDE, LONGITUDE or LOCATION: {values_provided_for_lat_long_loc}')\n",
    "print(f\"Number of filled missing boroughs using coordinates: {missing_borough_values_filled}\")\n",
    "print(f\"Number of missing BOROUGH values: {borough_values_not_filled}, make up {missing_borough_percentage:.2f}% of the main dataset.\")\n",
    "print('---')\n",
    "\n",
    "missing_borough_in_main = df['BOROUGH'].isna().sum()\n",
    "\n",
    "print(f'Still missing values in main df: {missing_borough_in_main}\\n---')"
   ]
  },
  {
   "cell_type": "markdown",
   "id": "54bdad2b-c26e-4aa2-9d24-49fc8b4a61b9",
   "metadata": {
    "jp-MarkdownHeadingCollapsed": true
   },
   "source": [
    "#### &nbsp;&nbsp;&nbsp;&nbsp;&nbsp;&nbsp;&nbsp;&nbsp;&nbsp;&nbsp;&nbsp;&nbsp;1.2.3.4 Attempt to infer missing BOROUGH values using LOCATION (likely outside NYC)"
   ]
  },
  {
   "cell_type": "code",
   "execution_count": 31,
   "id": "e64fc067-0d4e-4135-947c-05590e225fa7",
   "metadata": {},
   "outputs": [
    {
     "name": "stdout",
     "output_type": "stream",
     "text": [
      "Number of missing BOROUGH values in main df: 130419\n",
      "Number of rows where BOROUGH is missing and LOCATION is provided: 6047\n"
     ]
    }
   ],
   "source": [
    "missing_borough_main = df['BOROUGH'].isna().sum()\n",
    "count_missing_borough = df[df['BOROUGH'].isna() & df['LOCATION'].notna()].shape[0]\n",
    "\n",
    "print(f'Number of missing BOROUGH values in main df: {missing_borough_main}')\n",
    "print(f'Number of rows where BOROUGH is missing and LOCATION is provided: {count_missing_borough}')"
   ]
  },
  {
   "cell_type": "code",
   "execution_count": 32,
   "id": "6535abab-10e2-433f-8956-312cb2b5be11",
   "metadata": {},
   "outputs": [],
   "source": [
    "outside_nyc = df[df['BOROUGH'].isna() & df['LOCATION'].notna()].copy()\n",
    "\n",
    "# Extract coordinates\n",
    "outside_nyc['COORDINATES'] = outside_nyc['LOCATION'].str.extract(r'\\[([^\\]]+)\\]')[0]\n",
    "\n",
    "# Split and convert to float\n",
    "split_coords = outside_nyc['COORDINATES'].str.split(',', expand=True)\n",
    "outside_nyc['LON'] = split_coords[0].str.strip().astype(float)\n",
    "outside_nyc['LAT'] = split_coords[1].str.strip().astype(float)"
   ]
  },
  {
   "cell_type": "code",
   "execution_count": 33,
   "id": "2276c20e-097b-49f0-9d3a-a34ac564f2c6",
   "metadata": {},
   "outputs": [
    {
     "name": "stdout",
     "output_type": "stream",
     "text": [
      "55     -73.96012\n",
      "959    -73.92913\n",
      "2762   -73.91276\n",
      "2847   -73.92938\n",
      "3371   -73.92813\n",
      "Name: LON, dtype: float64\n",
      "55      40.756367\n",
      "959     40.727870\n",
      "2762    40.585710\n",
      "2847    40.727660\n",
      "3371    40.845467\n",
      "Name: LAT, dtype: float64\n"
     ]
    }
   ],
   "source": [
    "print(outside_nyc['LON'].head(5))\n",
    "print(outside_nyc['LAT'].head(5))"
   ]
  },
  {
   "cell_type": "code",
   "execution_count": 34,
   "id": "9c64a69d-1001-43af-be3e-b332b12df192",
   "metadata": {},
   "outputs": [
    {
     "name": "stdout",
     "output_type": "stream",
     "text": [
      "Filled 0 missing boroughs using location coordinates.\n"
     ]
    }
   ],
   "source": [
    "# Create geometry column\n",
    "geometry = [Point(xy) for xy in zip(outside_nyc['LON'], outside_nyc['LAT'])]\n",
    "gdf_missing = gpd.GeoDataFrame(outside_nyc, geometry=geometry, crs='EPSG:4326')\n",
    "\n",
    "# Perform spatial join to assign boroughs\n",
    "df_borough_updated = gpd.sjoin(gdf_missing, NYC_boroughs[['BoroName', 'geometry']], how='left', predicate='within')\n",
    "\n",
    "# Convert to uppercase to match existing BOROUGH categories\n",
    "df_borough_updated['BoroName'] = df_borough_updated['BoroName'].str.upper()\n",
    "\n",
    "# Fill in the BOROUGH values back to the main DataFrame\n",
    "df.loc[df_borough_updated.index, 'BOROUGH'] = df_borough_updated['BoroName']\n",
    "\n",
    "missing_borough_values_filled = df_borough_updated['BoroName'].notna().sum()\n",
    "\n",
    "# Done — preview how many were filled\n",
    "print(f\"Filled {df_borough_updated['BoroName'].notna().sum()} missing boroughs using location coordinates.\")"
   ]
  },
  {
   "cell_type": "markdown",
   "id": "469d5e7a-cbf9-4fc5-89cc-36068ee498ce",
   "metadata": {},
   "source": [
    "Using coordinates from LOCATION didn't fill up any additional BOROUGH values (6047 missing data, make up 0.50% of the main dataset). "
   ]
  },
  {
   "cell_type": "markdown",
   "id": "f88e01b5-2e35-4c3e-b109-cded0c8752e9",
   "metadata": {},
   "source": [
    "LOCATION provides the same values as LONGITUDE and LATITUDE, so LONGITUDE and LATITUDE were dropped."
   ]
  },
  {
   "cell_type": "code",
   "execution_count": 35,
   "id": "2ac2f381-312c-4991-8a74-1cf93a78522d",
   "metadata": {},
   "outputs": [],
   "source": [
    "df.drop(columns=['LATITUDE', 'LONGITUDE'], inplace=True)"
   ]
  },
  {
   "cell_type": "markdown",
   "id": "a4c7c976-17af-444d-81c3-55371067d3ef",
   "metadata": {
    "jp-MarkdownHeadingCollapsed": true
   },
   "source": [
    "#### &nbsp;&nbsp;&nbsp;&nbsp;&nbsp;&nbsp;&nbsp;&nbsp;&nbsp;&nbsp;&nbsp;&nbsp;1.2.3.5 Attempt to infer the missing BOROUGH values using streets data"
   ]
  },
  {
   "cell_type": "markdown",
   "id": "591198ee-52d8-4655-960b-25107e7dadb9",
   "metadata": {},
   "source": [
    "Checking the next column that is most likely to help fill the missing BOROUGH values"
   ]
  },
  {
   "cell_type": "code",
   "execution_count": 36,
   "id": "82729793-01bd-4069-96e1-f545af83ac01",
   "metadata": {},
   "outputs": [
    {
     "data": {
      "text/plain": [
       "BOROUGH               130419\n",
       "ON STREET NAME        240332\n",
       "CROSS STREET NAME     413493\n",
       "OFF STREET NAME      1046208\n",
       "dtype: int64"
      ]
     },
     "execution_count": 36,
     "metadata": {},
     "output_type": "execute_result"
    }
   ],
   "source": [
    "df[['BOROUGH', 'ON STREET NAME', 'CROSS STREET NAME', 'OFF STREET NAME']].isnull().sum()"
   ]
  },
  {
   "cell_type": "markdown",
   "id": "2e5e9dff-3597-4d0c-99b0-09751a7d0391",
   "metadata": {
    "jp-MarkdownHeadingCollapsed": true
   },
   "source": [
    "#### &nbsp;&nbsp;&nbsp;&nbsp;&nbsp;&nbsp;&nbsp;&nbsp;&nbsp;&nbsp;&nbsp;&nbsp;&nbsp;&nbsp;&nbsp;&nbsp;1.2.3.5.1 Attempt to fill missing BOROUGH values using ON STREET NAME"
   ]
  },
  {
   "cell_type": "code",
   "execution_count": 37,
   "id": "fee48a4f-cd48-448a-8a0c-58054ae088a2",
   "metadata": {},
   "outputs": [
    {
     "name": "stdout",
     "output_type": "stream",
     "text": [
      "---\n",
      "Number of missing BOROUGH values in main df: 130419\n",
      "Number of rows where BOROUGH is missing and ON STREET NAME is provided: 94114\n",
      "---\n",
      "Missing BOROUGH with provided ON STREET NAME make up 72.16% of the missing value for BOROUGH.\n",
      "Missing BOROUGH with provided ON STREET NAME make up 7.73% of the main dataset.\n",
      "---\n"
     ]
    }
   ],
   "source": [
    "missing_borough_main = df['BOROUGH'].isna().sum()\n",
    "count_missing_borough = df[df['BOROUGH'].isna() & df['ON STREET NAME'].notna()].shape[0]\n",
    "missing_borough_percentage = (count_missing_borough / missing_borough_main) * 100\n",
    "missing_borough_percentage_main = (count_missing_borough / df_len) * 100\n",
    "\n",
    "print(f'---\\nNumber of missing BOROUGH values in main df: {missing_borough_main}')\n",
    "print(f'Number of rows where BOROUGH is missing and ON STREET NAME is provided: {count_missing_borough}\\n---')\n",
    "\n",
    "print(f\"Missing BOROUGH with provided ON STREET NAME make up {missing_borough_percentage:.2f}% of the missing value for BOROUGH.\")\n",
    "print(f\"Missing BOROUGH with provided ON STREET NAME make up {missing_borough_percentage_main:.2f}% of the main dataset.\\n---\")"
   ]
  },
  {
   "cell_type": "code",
   "execution_count": 38,
   "id": "b549bbe8-bb4d-4bbc-81c0-cd83e474a26a",
   "metadata": {},
   "outputs": [],
   "source": [
    "df_missing_borough_onstreetname = df[df['BOROUGH'].isna() & df['ON STREET NAME'].notna()]"
   ]
  },
  {
   "cell_type": "code",
   "execution_count": 39,
   "id": "fe7ba68b-4ddb-4cfd-bc70-d061becbe05c",
   "metadata": {},
   "outputs": [
    {
     "name": "stdout",
     "output_type": "stream",
     "text": [
      "<class 'pandas.core.frame.DataFrame'>\n",
      "Index: 94114 entries, 26 to 1609980\n",
      "Data columns (total 25 columns):\n",
      " #   Column                         Non-Null Count  Dtype         \n",
      "---  ------                         --------------  -----         \n",
      " 0   DATETIME                       94114 non-null  datetime64[ns]\n",
      " 1   BOROUGH                        0 non-null      category      \n",
      " 2   LOCATION                       5467 non-null   category      \n",
      " 3   ON STREET NAME                 94114 non-null  object        \n",
      " 4   CROSS STREET NAME              72957 non-null  object        \n",
      " 5   OFF STREET NAME                30 non-null     object        \n",
      " 6   NUMBER OF PERSONS INJURED      94113 non-null  float32       \n",
      " 7   NUMBER OF PERSONS KILLED       94112 non-null  float32       \n",
      " 8   NUMBER OF PEDESTRIANS INJURED  94114 non-null  int8          \n",
      " 9   NUMBER OF PEDESTRIANS KILLED   94114 non-null  int8          \n",
      " 10  NUMBER OF CYCLIST INJURED      94114 non-null  int8          \n",
      " 11  NUMBER OF CYCLIST KILLED       94114 non-null  int8          \n",
      " 12  NUMBER OF MOTORIST INJURED     94114 non-null  int8          \n",
      " 13  NUMBER OF MOTORIST KILLED      94114 non-null  int8          \n",
      " 14  CONTRIBUTING FACTOR VEHICLE 1  93923 non-null  object        \n",
      " 15  CONTRIBUTING FACTOR VEHICLE 2  84314 non-null  object        \n",
      " 16  CONTRIBUTING FACTOR VEHICLE 3  6591 non-null   object        \n",
      " 17  CONTRIBUTING FACTOR VEHICLE 4  1314 non-null   object        \n",
      " 18  CONTRIBUTING FACTOR VEHICLE 5  310 non-null    object        \n",
      " 19  COLLISION_ID                   94114 non-null  int32         \n",
      " 20  VEHICLE TYPE CODE 1            93935 non-null  object        \n",
      " 21  VEHICLE TYPE CODE 2            82955 non-null  object        \n",
      " 22  VEHICLE TYPE CODE 3            7512 non-null   object        \n",
      " 23  VEHICLE TYPE CODE 4            2331 non-null   object        \n",
      " 24  VEHICLE TYPE CODE 5            536 non-null    object        \n",
      "dtypes: category(2), datetime64[ns](1), float32(2), int32(1), int8(6), object(13)\n",
      "memory usage: 18.3+ MB\n"
     ]
    }
   ],
   "source": [
    "df_missing_borough_onstreetname.info()"
   ]
  },
  {
   "cell_type": "code",
   "execution_count": 40,
   "id": "dbd57a9c-625b-4024-a57f-12d34af3a746",
   "metadata": {},
   "outputs": [
    {
     "data": {
      "text/plain": [
       "array(['WESTCHESTER AVENUE              ',\n",
       "       'HUTCHINSON RIVER PARKWAY        ',\n",
       "       'VANWYCK EXPRESSWAY              ', ...,\n",
       "       'ELK STREET                      ',\n",
       "       'BQE WEST SOUTH SR               ',\n",
       "       'MORROW STREET                   '], shape=(5087,), dtype=object)"
      ]
     },
     "execution_count": 40,
     "metadata": {},
     "output_type": "execute_result"
    }
   ],
   "source": [
    "df_missing_borough_onstreetname['ON STREET NAME'].unique()"
   ]
  },
  {
   "cell_type": "code",
   "execution_count": 41,
   "id": "88c8d8fb-f5ce-46e7-81fc-fdd072f0ca49",
   "metadata": {},
   "outputs": [
    {
     "name": "stdout",
     "output_type": "stream",
     "text": [
      "ON STREET NAME CLEAN\n",
      "HORACE HARDING EXPRESSWAY    1751\n",
      "FLATBUSH AVENUE              1263\n",
      "VERRAZANO BRIDGE UPPER       1251\n",
      "BRUCKNER BOULEVARD           1152\n",
      "BRONX WHITESTONE BRIDGE      1117\n",
      "QUEENS BOULEVARD              995\n",
      "NORTHERN BOULEVARD            968\n",
      "BELT PARKWAY                  966\n",
      "RICHMOND AVENUE               929\n",
      "ROCKAWAY BOULEVARD            905\n",
      "Name: count, dtype: int64\n"
     ]
    }
   ],
   "source": [
    "df_missing_borough_onstreetname = df_missing_borough_onstreetname.copy()\n",
    "\n",
    "# Cleaning the street names\n",
    "df_missing_borough_onstreetname.loc[:, 'ON STREET NAME CLEAN'] = df_missing_borough_onstreetname['ON STREET NAME'].str.strip().str.upper()\n",
    "\n",
    "# Counting the number of occurrences\n",
    "street_counts = df_missing_borough_onstreetname['ON STREET NAME CLEAN'].value_counts()\n",
    "\n",
    "print(street_counts.head(10))"
   ]
  },
  {
   "cell_type": "code",
   "execution_count": 42,
   "id": "668987d8-8c7e-4206-abf2-c800f7d4d8a9",
   "metadata": {},
   "outputs": [
    {
     "name": "stdout",
     "output_type": "stream",
     "text": [
      "195\n"
     ]
    }
   ],
   "source": [
    "# Filter street names with counts >= 100\n",
    "high_freq_streets = street_counts[street_counts >= 100]\n",
    "\n",
    "# Get the last index (least frequent among those >= 100)\n",
    "last_index_position = street_counts.index.get_loc(high_freq_streets.index[-1])\n",
    "print(last_index_position)"
   ]
  },
  {
   "cell_type": "markdown",
   "id": "8d6b159f-300f-4f21-96fe-23ac7ab93df6",
   "metadata": {},
   "source": [
    "Creating top_street_names.txt with street names that occur more than 100 times in the dataset:"
   ]
  },
  {
   "cell_type": "code",
   "execution_count": 43,
   "id": "7efe6f3b-fa43-4f07-a893-9aea6c6c8ef2",
   "metadata": {},
   "outputs": [],
   "source": [
    "top_street_names = street_counts.iloc[:196]\n",
    "\n",
    "# Save only the street names (index) to a .txt file\n",
    "with open(\"top_street_names_onstreetname.txt\", \"w\", encoding=\"utf-8\") as f:\n",
    "    for street_name in top_street_names.index:\n",
    "        f.write(f\"{street_name}\\n\")"
   ]
  },
  {
   "cell_type": "markdown",
   "id": "da663f79-8e50-4494-9eff-f7a8d7cc6ab2",
   "metadata": {},
   "source": [
    "Based on top_street_names.txt, the script street_to_borough.py labels each street by its borough. Streets that occur in more than one borough were dropped."
   ]
  },
  {
   "cell_type": "markdown",
   "id": "9aa15ead-7a7b-4010-a44a-00d5d360c436",
   "metadata": {},
   "source": [
    "Filling the BOROUGH column using labeled data from the borough dictionary in street_to_borough.py:"
   ]
  },
  {
   "cell_type": "code",
   "execution_count": 44,
   "id": "f6cd7112-ee03-4610-8919-f1c679d228e5",
   "metadata": {},
   "outputs": [
    {
     "name": "stdout",
     "output_type": "stream",
     "text": [
      "Number of borough values filled using street names: 57414\n"
     ]
    }
   ],
   "source": [
    "from street_to_borough import borough\n",
    "\n",
    "df_missing_borough_onstreetname['BOROUGH_FROM_STREET'] = df_missing_borough_onstreetname['ON STREET NAME CLEAN'].map(borough)\n",
    "df_missing_borough_onstreetname.loc[df_missing_borough_onstreetname['BOROUGH'].isna(), 'BOROUGH'] = \\\n",
    "    df_missing_borough_onstreetname.loc[df_missing_borough_onstreetname['BOROUGH'].isna(), 'BOROUGH_FROM_STREET']\n",
    "df_missing_borough_onstreetname.drop(columns=['BOROUGH_FROM_STREET', 'ON STREET NAME CLEAN'], inplace=True)\n",
    "\n",
    "# Count missing after\n",
    "missing_after = df_missing_borough_onstreetname['BOROUGH'].isna().sum()\n",
    "\n",
    "# Calculate how many were filled\n",
    "filled_count = count_missing_borough - missing_after\n",
    "print(f\"Number of borough values filled using street names: {filled_count}\")"
   ]
  },
  {
   "cell_type": "code",
   "execution_count": 45,
   "id": "189d74fc-b9d7-4885-905a-08263aef4b00",
   "metadata": {},
   "outputs": [],
   "source": [
    "df.loc[df_missing_borough_onstreetname.index, 'BOROUGH'] = df_missing_borough_onstreetname['BOROUGH']"
   ]
  },
  {
   "cell_type": "code",
   "execution_count": 46,
   "id": "9784265c-a88f-4075-8fe2-0d6952415275",
   "metadata": {},
   "outputs": [
    {
     "name": "stdout",
     "output_type": "stream",
     "text": [
      "---\n",
      "Number of missing BOROUGH values in main df: 73005\n",
      "Borough filled using street name: 57414\n",
      "---\n",
      "Filled BOROUGH using ON STREET NAME make up 61.00% of the missing values for BOROUGH.\n",
      "Missing BOROUGH make up 5.99% of the main dataset.\n",
      "---\n"
     ]
    }
   ],
   "source": [
    "missing_borough_main = df['BOROUGH'].isna().sum()\n",
    "missing_borough_percentage = (filled_count / count_missing_borough) * 100\n",
    "missing_borough_percentage_main = (missing_borough_main / df_len) * 100\n",
    "\n",
    "print(f'---\\nNumber of missing BOROUGH values in main df: {missing_borough_main}')\n",
    "print(f\"Borough filled using street name: {filled_count}\\n---\")\n",
    "\n",
    "print(f\"Filled BOROUGH using ON STREET NAME make up {missing_borough_percentage:.2f}% of the missing values for BOROUGH.\")\n",
    "print(f\"Missing BOROUGH make up {missing_borough_percentage_main:.2f}% of the main dataset.\\n---\")"
   ]
  },
  {
   "cell_type": "markdown",
   "id": "22bb1495-3886-43e6-bdef-a4709bb7eedd",
   "metadata": {
    "jp-MarkdownHeadingCollapsed": true
   },
   "source": [
    "#### &nbsp;&nbsp;&nbsp;&nbsp;&nbsp;&nbsp;&nbsp;&nbsp;&nbsp;&nbsp;&nbsp;&nbsp;&nbsp;&nbsp;&nbsp;&nbsp;1.2.3.5.2 Verifying if other street-related data can help complete the missing BOROUGH information."
   ]
  },
  {
   "cell_type": "code",
   "execution_count": 47,
   "id": "1b74906a-c816-4594-8c27-48f2c9a7c622",
   "metadata": {},
   "outputs": [
    {
     "data": {
      "text/plain": [
       "array([nan, 'GRAND STREET', '2 AVENUE', ...,\n",
       "       'BOULDER STREET                  ',\n",
       "       'JUPITER LANE                    ',\n",
       "       'SUTHERLAND STREET               '], shape=(16870,), dtype=object)"
      ]
     },
     "execution_count": 47,
     "metadata": {},
     "output_type": "execute_result"
    }
   ],
   "source": [
    "df['CROSS STREET NAME'].unique()"
   ]
  },
  {
   "cell_type": "code",
   "execution_count": 48,
   "id": "e9bff903-9bb3-46ac-89d7-286a45b989d3",
   "metadata": {},
   "outputs": [],
   "source": [
    "df_missing_borough_crossstreetname = df[df['BOROUGH'].isna() & df['CROSS STREET NAME'].notna()]"
   ]
  },
  {
   "cell_type": "code",
   "execution_count": 49,
   "id": "662accbf-e061-4411-973c-40f7a2612046",
   "metadata": {},
   "outputs": [
    {
     "name": "stdout",
     "output_type": "stream",
     "text": [
      "---\n",
      "Number of missing BOROUGH values in main df: 73005\n",
      "Number of rows where BOROUGH is missing and CROSS STREET NAME is provided: 33345\n",
      "---\n",
      "Missing BOROUGH with provided CROSS STREET NAME make up 45.67% of the missing value for BOROUGH.\n",
      "Missing BOROUGH with provided CROSS STREET NAME make up 2.74% of the main dataset.\n",
      "---\n"
     ]
    }
   ],
   "source": [
    "count_missing_borough = df_missing_borough_crossstreetname['BOROUGH'].isna().sum()\n",
    "missing_borough_percentage = (count_missing_borough / missing_borough_main) * 100\n",
    "missing_borough_percentage_main = (count_missing_borough / df_len) * 100\n",
    "\n",
    "print(f'---\\nNumber of missing BOROUGH values in main df: {missing_borough_main}')\n",
    "print(f'Number of rows where BOROUGH is missing and CROSS STREET NAME is provided: {count_missing_borough}\\n---')\n",
    "\n",
    "print(f\"Missing BOROUGH with provided CROSS STREET NAME make up {missing_borough_percentage:.2f}% of the missing value for BOROUGH.\")\n",
    "print(f\"Missing BOROUGH with provided CROSS STREET NAME make up {missing_borough_percentage_main:.2f}% of the main dataset.\\n---\")"
   ]
  },
  {
   "cell_type": "code",
   "execution_count": 50,
   "id": "51683a78-4aee-4849-a04b-32f5c29d0c4b",
   "metadata": {},
   "outputs": [
    {
     "name": "stdout",
     "output_type": "stream",
     "text": [
      "CROSS STREET NAME CLEAN\n",
      "SHORE PARKWAY                531\n",
      "BROADWAY                     449\n",
      "HORACE HARDING EXPRESSWAY    433\n",
      "BRUCKNER BOULEVARD           414\n",
      "CROSS BRONX EXPRESSWAY       381\n",
      "GRAND CENTRAL PARKWAY        379\n",
      "PARK AVENUE                  362\n",
      "JAMAICA AVENUE               309\n",
      "WHITESTONE EXPRESSWAY        301\n",
      "3 AVENUE                     260\n",
      "Name: count, dtype: int64\n"
     ]
    }
   ],
   "source": [
    "df_missing_borough_crossstreetname = df_missing_borough_crossstreetname.copy()\n",
    "\n",
    "# Cleaning the street names\n",
    "df_missing_borough_crossstreetname.loc[:, 'CROSS STREET NAME CLEAN'] = df_missing_borough_crossstreetname['CROSS STREET NAME'].str.strip().str.upper()\n",
    "\n",
    "# Counting the number of occurrences\n",
    "street_counts = df_missing_borough_crossstreetname['CROSS STREET NAME CLEAN'].value_counts()\n",
    "\n",
    "print(street_counts.head(10))"
   ]
  },
  {
   "cell_type": "code",
   "execution_count": 51,
   "id": "0f6b2d46-9347-4e5e-96f1-c45ef201dfb4",
   "metadata": {},
   "outputs": [
    {
     "name": "stdout",
     "output_type": "stream",
     "text": [
      "40\n"
     ]
    }
   ],
   "source": [
    "# Filter street names with counts >= 100\n",
    "high_freq_streets = street_counts[street_counts >= 100]\n",
    "\n",
    "# Get the last index (least frequent among those >= 100)\n",
    "last_index_position = street_counts.index.get_loc(high_freq_streets.index[-1])\n",
    "print(last_index_position)"
   ]
  },
  {
   "cell_type": "code",
   "execution_count": 52,
   "id": "cd17e28b-0291-440e-b5c8-45282edd699f",
   "metadata": {},
   "outputs": [],
   "source": [
    "top_street_names = street_counts.iloc[:41]\n",
    "\n",
    "# Save only the street names (index) to a .txt file\n",
    "with open(\"top_street_names_crossstreetname.txt\", \"w\", encoding=\"utf-8\") as f:\n",
    "    for street_name in top_street_names.index:\n",
    "        f.write(f\"{street_name}\\n\")"
   ]
  },
  {
   "cell_type": "code",
   "execution_count": 53,
   "id": "97a43c87-0976-4ae8-a142-253d332f3351",
   "metadata": {},
   "outputs": [
    {
     "name": "stdout",
     "output_type": "stream",
     "text": [
      "Borough filled using cross street name: 6128\n"
     ]
    }
   ],
   "source": [
    "from street_to_borough_crossnames import borough_from_cross_streets\n",
    "\n",
    "df_missing_borough_crossstreetname['BOROUGH_FROM_CROSS_STREET'] = df_missing_borough_crossstreetname['CROSS STREET NAME CLEAN'].map(borough_from_cross_streets)\n",
    "df_missing_borough_crossstreetname.loc[df_missing_borough_crossstreetname['BOROUGH'].isna(), 'BOROUGH'] = \\\n",
    "    df_missing_borough_crossstreetname.loc[df_missing_borough_crossstreetname['BOROUGH'].isna(), 'BOROUGH_FROM_CROSS_STREET']\n",
    "df_missing_borough_crossstreetname.drop(columns=['BOROUGH_FROM_CROSS_STREET', 'CROSS STREET NAME CLEAN'], inplace=True)\n",
    "\n",
    "# Count missing after\n",
    "missing_after = df_missing_borough_crossstreetname['BOROUGH'].isna().sum()\n",
    "\n",
    "# Calculate how many were filled\n",
    "filled_count = count_missing_borough - missing_after\n",
    "print(f\"Borough filled using cross street name: {filled_count}\")"
   ]
  },
  {
   "cell_type": "code",
   "execution_count": 54,
   "id": "c237e78a-9f0f-4fd5-a691-91e3a088f617",
   "metadata": {},
   "outputs": [],
   "source": [
    "df.loc[df_missing_borough_crossstreetname.index, 'BOROUGH'] = df_missing_borough_crossstreetname['BOROUGH']"
   ]
  },
  {
   "cell_type": "code",
   "execution_count": 55,
   "id": "2f2033c3-55f6-4f13-acfa-d3b5217ffd0f",
   "metadata": {},
   "outputs": [
    {
     "name": "stdout",
     "output_type": "stream",
     "text": [
      "---\n",
      "Number of missing BOROUGH values in main df: 66877\n",
      "Borough filled using CROSS STREET NAME: 6128\n",
      "---\n",
      "Filled BOROUGH using CROSS STREET NAME make up 18.38% of the missing values for BOROUGH.\n",
      "Missing BOROUGH make up 5.49% of the main dataset.\n",
      "---\n"
     ]
    }
   ],
   "source": [
    "missing_borough_main = df['BOROUGH'].isna().sum()\n",
    "missing_borough_percentage = (filled_count / count_missing_borough) * 100\n",
    "missing_borough_percentage_main = (missing_borough_main / df_len) * 100\n",
    "\n",
    "print(f'---\\nNumber of missing BOROUGH values in main df: {missing_borough_main}')\n",
    "print(f\"Borough filled using CROSS STREET NAME: {filled_count}\\n---\")\n",
    "\n",
    "print(f\"Filled BOROUGH using CROSS STREET NAME make up {missing_borough_percentage:.2f}% of the missing values for BOROUGH.\")\n",
    "print(f\"Missing BOROUGH make up {missing_borough_percentage_main:.2f}% of the main dataset.\\n---\")"
   ]
  },
  {
   "cell_type": "code",
   "execution_count": 56,
   "id": "ff8ea51a-06dd-468c-bda4-71b8e63959de",
   "metadata": {},
   "outputs": [
    {
     "data": {
      "text/plain": [
       "np.int64(13177)"
      ]
     },
     "execution_count": 56,
     "metadata": {},
     "output_type": "execute_result"
    }
   ],
   "source": [
    "df_missing_borough_offstreetname = df[df['BOROUGH'].isna() & df['OFF STREET NAME'].notna()]\n",
    "df_missing_borough_offstreetname['BOROUGH'].isna().sum()"
   ]
  },
  {
   "cell_type": "code",
   "execution_count": 57,
   "id": "3ea6955b-8bd2-4515-b254-b5e5bb49c833",
   "metadata": {},
   "outputs": [
    {
     "data": {
      "text/plain": [
       "OFF STREET NAME\n",
       "PARKING LOT 110-00 ROCKAWAY BOULEVARD       86\n",
       "PARKING LOT-772 EDGEWATER RD                61\n",
       "PARKING LOT OF 110-00 ROCKAWAY BOULEVARD    53\n",
       "8973 BAY PKWY (PARKING LOT)                 41\n",
       "MUNI LOT 1                                  37\n",
       "                                            ..\n",
       "PKG LOT OF 46-31 KISSENA BLVD                1\n",
       "1127 EAST 57 STREET(BRICK WALL)              1\n",
       "GAS STATION 119-01 ATLANTIC AVE              1\n",
       "SIDEWALK 105-36 90 STREET                    1\n",
       "GAS STATION 166-06 HILLSIDE AVE              1\n",
       "Name: count, Length: 9762, dtype: int64"
      ]
     },
     "execution_count": 57,
     "metadata": {},
     "output_type": "execute_result"
    }
   ],
   "source": [
    "df_missing_borough_offstreetname['OFF STREET NAME'].value_counts()"
   ]
  },
  {
   "cell_type": "markdown",
   "id": "883c26d2-3092-4824-b7e9-41caf7cc3fa9",
   "metadata": {},
   "source": [
    "Missing BOROUGH values make up 5,49% of the main dataset. "
   ]
  },
  {
   "cell_type": "markdown",
   "id": "34b7dc1b-88ea-4c86-8dd7-ca6b1cccbeb4",
   "metadata": {},
   "source": [
    "The provided data in the OFF STREET NAME column is not sufficient to efficiently fill the missing values in the BOROUGH column. Missing values in the BOROUGH column account for 5.49% of the dataset, of which 0.5% likely correspond to locations outside of NYC. Therefore, the decision was made to drop the remaining rows with missing borough values."
   ]
  },
  {
   "cell_type": "code",
   "execution_count": 58,
   "id": "2d0800f4-b81c-45df-b7fc-93f74c0b0a68",
   "metadata": {},
   "outputs": [],
   "source": [
    "df = df.dropna(subset=['BOROUGH'])"
   ]
  },
  {
   "cell_type": "markdown",
   "id": "e0a0e9cf-2943-40fd-9552-2cdfebbdf3c7",
   "metadata": {},
   "source": [
    "Creating a column STREET that contains the street information extracted from other street-related columns, which will be dropped afterward."
   ]
  },
  {
   "cell_type": "code",
   "execution_count": 59,
   "id": "d0bc375b-564b-48d8-973c-0cb11f47e160",
   "metadata": {},
   "outputs": [],
   "source": [
    "# Creating one column containing the thata from street-related columns\n",
    "df['STREET'] = df['ON STREET NAME'].fillna(df['CROSS STREET NAME']).fillna(df['OFF STREET NAME'])\n",
    "\n",
    "# Get the column list\n",
    "cols = df.columns.tolist()\n",
    "\n",
    "# Remove 'STREET' from the list and reinsert it at index 3\n",
    "cols.remove('STREET')\n",
    "cols.insert(3, 'STREET')\n",
    "\n",
    "# Reorder the DataFrame\n",
    "df = df[cols]"
   ]
  },
  {
   "cell_type": "code",
   "execution_count": 60,
   "id": "0ab78e1f-3ba4-41e4-91fd-900120b0e54f",
   "metadata": {},
   "outputs": [],
   "source": [
    "# dropping columns: ON STREET NAME, CROSS STREET NAME, OFF STREAT NAME\n",
    "df.drop(columns=['ON STREET NAME', 'CROSS STREET NAME', 'OFF STREET NAME'], inplace=True)"
   ]
  },
  {
   "cell_type": "code",
   "execution_count": 61,
   "id": "355715ef-9199-49b7-b447-e9d277144325",
   "metadata": {},
   "outputs": [
    {
     "name": "stdout",
     "output_type": "stream",
     "text": [
      "<class 'pandas.core.frame.DataFrame'>\n",
      "Index: 1151080 entries, 0 to 1611233\n",
      "Data columns (total 23 columns):\n",
      " #   Column                         Non-Null Count    Dtype         \n",
      "---  ------                         --------------    -----         \n",
      " 0   DATETIME                       1151080 non-null  datetime64[ns]\n",
      " 1   BOROUGH                        1151080 non-null  category      \n",
      " 2   LOCATION                       1070515 non-null  category      \n",
      " 3   STREET                         1105463 non-null  object        \n",
      " 4   NUMBER OF PERSONS INJURED      1151068 non-null  float32       \n",
      " 5   NUMBER OF PERSONS KILLED       1151057 non-null  float32       \n",
      " 6   NUMBER OF PEDESTRIANS INJURED  1151080 non-null  int8          \n",
      " 7   NUMBER OF PEDESTRIANS KILLED   1151080 non-null  int8          \n",
      " 8   NUMBER OF CYCLIST INJURED      1151080 non-null  int8          \n",
      " 9   NUMBER OF CYCLIST KILLED       1151080 non-null  int8          \n",
      " 10  NUMBER OF MOTORIST INJURED     1151080 non-null  int8          \n",
      " 11  NUMBER OF MOTORIST KILLED      1151080 non-null  int8          \n",
      " 12  CONTRIBUTING FACTOR VEHICLE 1  1147949 non-null  object        \n",
      " 13  CONTRIBUTING FACTOR VEHICLE 2  995335 non-null   object        \n",
      " 14  CONTRIBUTING FACTOR VEHICLE 3  73721 non-null    object        \n",
      " 15  CONTRIBUTING FACTOR VEHICLE 4  15376 non-null    object        \n",
      " 16  CONTRIBUTING FACTOR VEHICLE 5  3975 non-null     object        \n",
      " 17  COLLISION_ID                   1151080 non-null  int32         \n",
      " 18  VEHICLE TYPE CODE 1            1146894 non-null  object        \n",
      " 19  VEHICLE TYPE CODE 2            955518 non-null   object        \n",
      " 20  VEHICLE TYPE CODE 3            91892 non-null    object        \n",
      " 21  VEHICLE TYPE CODE 4            33479 non-null    object        \n",
      " 22  VEHICLE TYPE CODE 5            7303 non-null     object        \n",
      "dtypes: category(2), datetime64[ns](1), float32(2), int32(1), int8(6), object(11)\n",
      "memory usage: 144.8+ MB\n"
     ]
    }
   ],
   "source": [
    "df.info()"
   ]
  },
  {
   "cell_type": "code",
   "execution_count": 62,
   "id": "321276c1-f678-41a7-961d-5381b6f968a5",
   "metadata": {},
   "outputs": [
    {
     "data": {
      "text/plain": [
       "DATETIME                               0\n",
       "BOROUGH                                0\n",
       "LOCATION                           80565\n",
       "STREET                             45617\n",
       "NUMBER OF PERSONS INJURED             12\n",
       "NUMBER OF PERSONS KILLED              23\n",
       "NUMBER OF PEDESTRIANS INJURED          0\n",
       "NUMBER OF PEDESTRIANS KILLED           0\n",
       "NUMBER OF CYCLIST INJURED              0\n",
       "NUMBER OF CYCLIST KILLED               0\n",
       "NUMBER OF MOTORIST INJURED             0\n",
       "NUMBER OF MOTORIST KILLED              0\n",
       "CONTRIBUTING FACTOR VEHICLE 1       3131\n",
       "CONTRIBUTING FACTOR VEHICLE 2     155745\n",
       "CONTRIBUTING FACTOR VEHICLE 3    1077359\n",
       "CONTRIBUTING FACTOR VEHICLE 4    1135704\n",
       "CONTRIBUTING FACTOR VEHICLE 5    1147105\n",
       "COLLISION_ID                           0\n",
       "VEHICLE TYPE CODE 1                 4186\n",
       "VEHICLE TYPE CODE 2               195562\n",
       "VEHICLE TYPE CODE 3              1059188\n",
       "VEHICLE TYPE CODE 4              1117601\n",
       "VEHICLE TYPE CODE 5              1143777\n",
       "dtype: int64"
      ]
     },
     "execution_count": 62,
     "metadata": {},
     "output_type": "execute_result"
    }
   ],
   "source": [
    "df.isna().sum()"
   ]
  },
  {
   "cell_type": "markdown",
   "id": "334ee773-0f0e-4804-9091-6716bbd7afae",
   "metadata": {
    "jp-MarkdownHeadingCollapsed": true
   },
   "source": [
    "#### &nbsp;&nbsp;&nbsp;&nbsp;&nbsp;&nbsp;&nbsp;&nbsp;1.2.4 Handling missing NUMBER OF PERSONS INJURED/KILLED"
   ]
  },
  {
   "cell_type": "code",
   "execution_count": 63,
   "id": "b920936f-eb8a-45ec-ad73-a8c94cafc608",
   "metadata": {},
   "outputs": [],
   "source": [
    "# Filling NaN values with 0\n",
    "df['NUMBER OF PERSONS INJURED'] = df['NUMBER OF PERSONS INJURED'].fillna(0)\n",
    "df['NUMBER OF PERSONS KILLED'] = df['NUMBER OF PERSONS KILLED'].fillna(0)\n",
    "\n",
    "# Convert data types to int\n",
    "df['NUMBER OF PERSONS INJURED'] = df['NUMBER OF PERSONS INJURED'].astype('int8')\n",
    "df['NUMBER OF PERSONS KILLED'] = df['NUMBER OF PERSONS KILLED'].astype('int8')"
   ]
  },
  {
   "cell_type": "code",
   "execution_count": 64,
   "id": "592ccd78-082a-44ec-ab2d-d28b2156f73c",
   "metadata": {},
   "outputs": [
    {
     "name": "stdout",
     "output_type": "stream",
     "text": [
      "<class 'pandas.core.frame.DataFrame'>\n",
      "Index: 1151080 entries, 0 to 1611233\n",
      "Data columns (total 23 columns):\n",
      " #   Column                         Non-Null Count    Dtype         \n",
      "---  ------                         --------------    -----         \n",
      " 0   DATETIME                       1151080 non-null  datetime64[ns]\n",
      " 1   BOROUGH                        1151080 non-null  category      \n",
      " 2   LOCATION                       1070515 non-null  category      \n",
      " 3   STREET                         1105463 non-null  object        \n",
      " 4   NUMBER OF PERSONS INJURED      1151080 non-null  int8          \n",
      " 5   NUMBER OF PERSONS KILLED       1151080 non-null  int8          \n",
      " 6   NUMBER OF PEDESTRIANS INJURED  1151080 non-null  int8          \n",
      " 7   NUMBER OF PEDESTRIANS KILLED   1151080 non-null  int8          \n",
      " 8   NUMBER OF CYCLIST INJURED      1151080 non-null  int8          \n",
      " 9   NUMBER OF CYCLIST KILLED       1151080 non-null  int8          \n",
      " 10  NUMBER OF MOTORIST INJURED     1151080 non-null  int8          \n",
      " 11  NUMBER OF MOTORIST KILLED      1151080 non-null  int8          \n",
      " 12  CONTRIBUTING FACTOR VEHICLE 1  1147949 non-null  object        \n",
      " 13  CONTRIBUTING FACTOR VEHICLE 2  995335 non-null   object        \n",
      " 14  CONTRIBUTING FACTOR VEHICLE 3  73721 non-null    object        \n",
      " 15  CONTRIBUTING FACTOR VEHICLE 4  15376 non-null    object        \n",
      " 16  CONTRIBUTING FACTOR VEHICLE 5  3975 non-null     object        \n",
      " 17  COLLISION_ID                   1151080 non-null  int32         \n",
      " 18  VEHICLE TYPE CODE 1            1146894 non-null  object        \n",
      " 19  VEHICLE TYPE CODE 2            955518 non-null   object        \n",
      " 20  VEHICLE TYPE CODE 3            91892 non-null    object        \n",
      " 21  VEHICLE TYPE CODE 4            33479 non-null    object        \n",
      " 22  VEHICLE TYPE CODE 5            7303 non-null     object        \n",
      "dtypes: category(2), datetime64[ns](1), int32(1), int8(8), object(11)\n",
      "memory usage: 138.3+ MB\n"
     ]
    }
   ],
   "source": [
    "df.info()"
   ]
  },
  {
   "cell_type": "markdown",
   "id": "207bcfda-1aae-4454-ac19-e3c99bf78bc8",
   "metadata": {
    "jp-MarkdownHeadingCollapsed": true
   },
   "source": [
    "#### &nbsp;&nbsp;&nbsp;&nbsp;&nbsp;&nbsp;&nbsp;&nbsp;&nbsp;&nbsp;&nbsp;&nbsp;1.2.4.1 Verifying whether the NUMBER OF PERSONS INJURED and NUMBER OF PERSONS KILLED columns represent the total counts of pedestrians, cyclists, and motorists."
   ]
  },
  {
   "cell_type": "code",
   "execution_count": 65,
   "id": "eea6af94-f0ab-4940-b601-5852a22ec98a",
   "metadata": {},
   "outputs": [
    {
     "name": "stdout",
     "output_type": "stream",
     "text": [
      "Number of rows where the total number of injured OR killed differs from the sum of pedestrians, cyclists, and motorists: 291.\n",
      "Number of rows where the total number of injured AND killed differs from the sum of pedestrians, cyclists, and motorists: 1.\n"
     ]
    }
   ],
   "source": [
    "# Check for discrepancies in NUMBER OF PERSONS INJURED\n",
    "injured_missing = (df['NUMBER OF PERSONS INJURED'] != (\n",
    "                       df['NUMBER OF PEDESTRIANS INJURED'] + \n",
    "                       df['NUMBER OF CYCLIST INJURED'] + \n",
    "                       df['NUMBER OF MOTORIST INJURED']))\n",
    "\n",
    "# Check for discrepancies in NUMBER OF PERSONS KILLED\n",
    "killed_missing = (df['NUMBER OF PERSONS KILLED'] != (\n",
    "                       df['NUMBER OF PEDESTRIANS KILLED'] + \n",
    "                       df['NUMBER OF CYCLIST KILLED'] + \n",
    "                       df['NUMBER OF MOTORIST KILLED']))\n",
    "\n",
    "# Combine both conditions and filter the rows with discrepancies\n",
    "injured_and_killed_missing = df[injured_missing & killed_missing].shape[0]\n",
    "injured_killed_missing = df[injured_missing | killed_missing].shape[0]\n",
    "\n",
    "print(f'Number of rows where the total number of injured OR killed differs from the sum of pedestrians, cyclists, and motorists: {injured_killed_missing}.')\n",
    "print(f'Number of rows where the total number of injured AND killed differs from the sum of pedestrians, cyclists, and motorists: {injured_and_killed_missing}.')"
   ]
  },
  {
   "cell_type": "code",
   "execution_count": 66,
   "id": "c9a7d728-d74c-45b9-b8c7-0dcb06291b59",
   "metadata": {},
   "outputs": [
    {
     "name": "stdout",
     "output_type": "stream",
     "text": [
      "---\n",
      "Number of dataset rows: 1151080\n",
      "Percentage of differed values for injured/killed: 0.025%\n",
      "---\n"
     ]
    }
   ],
   "source": [
    "df_len = df.shape[0]\n",
    "injured_killed_missing_percentage = (injured_killed_missing / df_len) * 100\n",
    "\n",
    "print(f'---\\nNumber of dataset rows: {df_len}')\n",
    "print(f'Percentage of differed values for injured/killed: {injured_killed_missing_percentage:.3f}%\\n---')"
   ]
  },
  {
   "cell_type": "markdown",
   "id": "17f6807d-ba8b-408b-963c-674414f02c12",
   "metadata": {},
   "source": [
    "The number of discrepancies is small enough to be considered data errors. Therefore, treating the NUMBER OF PERSONS INJURED and NUMBER OF PERSONS KILLED as accurate totals seems reasonable."
   ]
  },
  {
   "cell_type": "code",
   "execution_count": 67,
   "id": "01d5a1d5-bbbb-4f5f-ae85-0afa01b7e97c",
   "metadata": {},
   "outputs": [
    {
     "name": "stdout",
     "output_type": "stream",
     "text": [
      "Updated NUMBER OF PERSONS INJURED from sum: 151\n",
      "Updated NUMBER OF PERSONS KILLED from sum: 5\n"
     ]
    }
   ],
   "source": [
    "# Calculate the component sums\n",
    "sum_injured = df['NUMBER OF PEDESTRIANS INJURED'] + df['NUMBER OF CYCLIST INJURED'] + df['NUMBER OF MOTORIST INJURED']\n",
    "sum_killed = df['NUMBER OF PEDESTRIANS KILLED'] + df['NUMBER OF CYCLIST KILLED'] + df['NUMBER OF MOTORIST KILLED']\n",
    "\n",
    "# Masks for updates\n",
    "mask_injured_update = (df['NUMBER OF PERSONS INJURED'] == 0) & (sum_injured > 0)\n",
    "mask_killed_update = (df['NUMBER OF PERSONS KILLED'] == 0) & (sum_killed > 0)\n",
    "\n",
    "# Perform updates\n",
    "df.loc[mask_injured_update, 'NUMBER OF PERSONS INJURED'] = sum_injured\n",
    "df.loc[mask_killed_update, 'NUMBER OF PERSONS KILLED'] = sum_killed\n",
    "\n",
    "print(f\"Updated NUMBER OF PERSONS INJURED from sum: {mask_injured_update.sum()}\")\n",
    "print(f\"Updated NUMBER OF PERSONS KILLED from sum: {mask_killed_update.sum()}\")"
   ]
  },
  {
   "cell_type": "code",
   "execution_count": 68,
   "id": "e4a220ca-fc4b-4613-ad01-2f7f139d004f",
   "metadata": {},
   "outputs": [
    {
     "name": "stdout",
     "output_type": "stream",
     "text": [
      "Number of rows where the total number of injured or killed differs from the sum of pedestrians, cyclists, and motorists: 136.\n"
     ]
    }
   ],
   "source": [
    "# Check for discrepancies in NUMBER OF PERSONS INJURED\n",
    "injured_missing = (df['NUMBER OF PERSONS INJURED'] != (\n",
    "                       df['NUMBER OF PEDESTRIANS INJURED'] + \n",
    "                       df['NUMBER OF CYCLIST INJURED'] + \n",
    "                       df['NUMBER OF MOTORIST INJURED']))\n",
    "\n",
    "# Check for discrepancies in NUMBER OF PERSONS KILLED\n",
    "killed_missing = (df['NUMBER OF PERSONS KILLED'] != (\n",
    "                       df['NUMBER OF PEDESTRIANS KILLED'] + \n",
    "                       df['NUMBER OF CYCLIST KILLED'] + \n",
    "                       df['NUMBER OF MOTORIST KILLED']))\n",
    "\n",
    "# Combine both conditions and filter the rows with discrepancies\n",
    "injured_killed_missing = df[injured_missing | killed_missing].shape[0]\n",
    "\n",
    "print(f'Number of rows where the total number of injured or killed differs from the sum of pedestrians, cyclists, and motorists: {injured_killed_missing}.')"
   ]
  },
  {
   "cell_type": "code",
   "execution_count": 69,
   "id": "7b23fe56-e65c-475c-8af5-890f6a6956b7",
   "metadata": {},
   "outputs": [
    {
     "name": "stdout",
     "output_type": "stream",
     "text": [
      "---\n",
      "Number of dataset rows: 1151080\n",
      "Percentage of differed values for injured/killed: 0.012%\n",
      "---\n"
     ]
    }
   ],
   "source": [
    "injured_killed_missing_percentage = (injured_killed_missing / df_len) * 100\n",
    "\n",
    "print(f'---\\nNumber of dataset rows: {df_len}')\n",
    "print(f'Percentage of differed values for injured/killed: {injured_killed_missing_percentage:.3f}%\\n---')"
   ]
  },
  {
   "cell_type": "markdown",
   "id": "777d4a9d-f4e9-4e22-9596-7f881e679e5b",
   "metadata": {},
   "source": [
    "Decided to drop the remaining rows where the total number of injured or killed does not match the sum of pedestrians, cyclists, and motorists, as the data is likely inaccurate. These rows account for only 0.012% of the dataset, so their removal is not expected to significantly impact the overall analysis."
   ]
  },
  {
   "cell_type": "code",
   "execution_count": 70,
   "id": "c8dbf63d-4d57-4836-8b93-70b045a4db97",
   "metadata": {},
   "outputs": [],
   "source": [
    "invalid_rows = injured_missing | killed_missing\n",
    "df = df[~invalid_rows].copy()"
   ]
  },
  {
   "cell_type": "code",
   "execution_count": 71,
   "id": "17539328-c1bd-4980-8247-a0cc8de81486",
   "metadata": {},
   "outputs": [
    {
     "name": "stdout",
     "output_type": "stream",
     "text": [
      "<class 'pandas.core.frame.DataFrame'>\n",
      "Index: 1150944 entries, 0 to 1611233\n",
      "Data columns (total 23 columns):\n",
      " #   Column                         Non-Null Count    Dtype         \n",
      "---  ------                         --------------    -----         \n",
      " 0   DATETIME                       1150944 non-null  datetime64[ns]\n",
      " 1   BOROUGH                        1150944 non-null  category      \n",
      " 2   LOCATION                       1070392 non-null  category      \n",
      " 3   STREET                         1105331 non-null  object        \n",
      " 4   NUMBER OF PERSONS INJURED      1150944 non-null  int8          \n",
      " 5   NUMBER OF PERSONS KILLED       1150944 non-null  int8          \n",
      " 6   NUMBER OF PEDESTRIANS INJURED  1150944 non-null  int8          \n",
      " 7   NUMBER OF PEDESTRIANS KILLED   1150944 non-null  int8          \n",
      " 8   NUMBER OF CYCLIST INJURED      1150944 non-null  int8          \n",
      " 9   NUMBER OF CYCLIST KILLED       1150944 non-null  int8          \n",
      " 10  NUMBER OF MOTORIST INJURED     1150944 non-null  int8          \n",
      " 11  NUMBER OF MOTORIST KILLED      1150944 non-null  int8          \n",
      " 12  CONTRIBUTING FACTOR VEHICLE 1  1147832 non-null  object        \n",
      " 13  CONTRIBUTING FACTOR VEHICLE 2  995281 non-null   object        \n",
      " 14  CONTRIBUTING FACTOR VEHICLE 3  73714 non-null    object        \n",
      " 15  CONTRIBUTING FACTOR VEHICLE 4  15374 non-null    object        \n",
      " 16  CONTRIBUTING FACTOR VEHICLE 5  3974 non-null     object        \n",
      " 17  COLLISION_ID                   1150944 non-null  int32         \n",
      " 18  VEHICLE TYPE CODE 1            1146774 non-null  object        \n",
      " 19  VEHICLE TYPE CODE 2            955461 non-null   object        \n",
      " 20  VEHICLE TYPE CODE 3            91880 non-null    object        \n",
      " 21  VEHICLE TYPE CODE 4            33476 non-null    object        \n",
      " 22  VEHICLE TYPE CODE 5            7303 non-null     object        \n",
      "dtypes: category(2), datetime64[ns](1), int32(1), int8(8), object(11)\n",
      "memory usage: 138.2+ MB\n"
     ]
    }
   ],
   "source": [
    "df.info()"
   ]
  },
  {
   "cell_type": "markdown",
   "id": "0825bffe-5d45-4758-98e3-a686b139dad0",
   "metadata": {},
   "source": [
    "#### &nbsp;&nbsp;&nbsp;&nbsp;&nbsp;&nbsp;&nbsp;&nbsp;1.2.5 Handling CONTRIBUTING FACTOR VEHICLE 1-5 and VEHICLE TYPE CODE 1-5"
   ]
  },
  {
   "cell_type": "markdown",
   "id": "6f072d2a-7930-4968-9470-dbee49ffcc7f",
   "metadata": {
    "jp-MarkdownHeadingCollapsed": true
   },
   "source": [
    "#### &nbsp;&nbsp;&nbsp;&nbsp;&nbsp;&nbsp;&nbsp;&nbsp; &nbsp;&nbsp;&nbsp;&nbsp;1.2.5.1 Checking CONTRIBUTING FACTOR VEHICLE 1-5"
   ]
  },
  {
   "cell_type": "code",
   "execution_count": 72,
   "id": "a8b822b6-cfee-49fc-b8bf-227500f024b4",
   "metadata": {},
   "outputs": [
    {
     "data": {
      "text/plain": [
       "DATETIME                               0\n",
       "BOROUGH                                0\n",
       "LOCATION                           80552\n",
       "STREET                             45613\n",
       "NUMBER OF PERSONS INJURED              0\n",
       "NUMBER OF PERSONS KILLED               0\n",
       "NUMBER OF PEDESTRIANS INJURED          0\n",
       "NUMBER OF PEDESTRIANS KILLED           0\n",
       "NUMBER OF CYCLIST INJURED              0\n",
       "NUMBER OF CYCLIST KILLED               0\n",
       "NUMBER OF MOTORIST INJURED             0\n",
       "NUMBER OF MOTORIST KILLED              0\n",
       "CONTRIBUTING FACTOR VEHICLE 1       3112\n",
       "CONTRIBUTING FACTOR VEHICLE 2     155663\n",
       "CONTRIBUTING FACTOR VEHICLE 3    1077230\n",
       "CONTRIBUTING FACTOR VEHICLE 4    1135570\n",
       "CONTRIBUTING FACTOR VEHICLE 5    1146970\n",
       "COLLISION_ID                           0\n",
       "VEHICLE TYPE CODE 1                 4170\n",
       "VEHICLE TYPE CODE 2               195483\n",
       "VEHICLE TYPE CODE 3              1059064\n",
       "VEHICLE TYPE CODE 4              1117468\n",
       "VEHICLE TYPE CODE 5              1143641\n",
       "dtype: int64"
      ]
     },
     "execution_count": 72,
     "metadata": {},
     "output_type": "execute_result"
    }
   ],
   "source": [
    "df.isnull().sum()"
   ]
  },
  {
   "cell_type": "code",
   "execution_count": 73,
   "id": "6dd9aef5-75e3-40fd-8fea-41a0d6bdfc32",
   "metadata": {},
   "outputs": [
    {
     "name": "stdout",
     "output_type": "stream",
     "text": [
      "Number of rows where CONTRIBUTING FACTOR VEHICLE 1 is missing, but at least one of CONTRIBUTING FACTOR VEHICLE 2-5 is provided: 0\n"
     ]
    }
   ],
   "source": [
    "mask = (\n",
    "    df['CONTRIBUTING FACTOR VEHICLE 1'].isnull() & (\n",
    "    df['CONTRIBUTING FACTOR VEHICLE 2'].notnull() |\n",
    "    df['CONTRIBUTING FACTOR VEHICLE 3'].notnull() |\n",
    "    df['CONTRIBUTING FACTOR VEHICLE 4'].notnull() |\n",
    "    df['CONTRIBUTING FACTOR VEHICLE 5'].notnull())\n",
    ")\n",
    "\n",
    "first_factor_missing_other_in = df[mask].shape[0]\n",
    "print(f'Number of rows where CONTRIBUTING FACTOR VEHICLE 1 is missing, but at least one of CONTRIBUTING FACTOR VEHICLE 2-5 is provided: {first_factor_missing_other_in}')"
   ]
  },
  {
   "cell_type": "code",
   "execution_count": 74,
   "id": "68bf6109-fb32-410b-bb2c-b2195e4fb226",
   "metadata": {},
   "outputs": [
    {
     "name": "stdout",
     "output_type": "stream",
     "text": [
      "Number of rows where CONTRIBUTING FACTOR VEHICLE 1-5 is missing: 3112, which is 0.27% of main dataset.\n"
     ]
    }
   ],
   "source": [
    "# Length of dataset\n",
    "df_len = df.shape[0]\n",
    "\n",
    "missing_contributing_factor = df['CONTRIBUTING FACTOR VEHICLE 1'].isnull().sum()\n",
    "missing_contributing_factor_percentage = (missing_contributing_factor / df_len) * 100\n",
    "\n",
    "\n",
    "print(f'Number of rows where CONTRIBUTING FACTOR VEHICLE 1-5 is missing: {missing_contributing_factor}, which is {missing_contributing_factor_percentage:.2f}% of main dataset.')"
   ]
  },
  {
   "cell_type": "markdown",
   "id": "571096a1-181b-496e-9e3a-b87fd95d8a2d",
   "metadata": {},
   "source": [
    "Checking how many unique values are for contributing factors and how often they apper in dataset"
   ]
  },
  {
   "cell_type": "code",
   "execution_count": 75,
   "id": "abd554a7-81da-4757-88c2-4b056f1df32e",
   "metadata": {},
   "outputs": [
    {
     "name": "stdout",
     "output_type": "stream",
     "text": [
      "Number of unique contributing factors: 59\n"
     ]
    }
   ],
   "source": [
    "# Gathering all factors\n",
    "factor_cols = [\n",
    "    'CONTRIBUTING FACTOR VEHICLE 1',\n",
    "    'CONTRIBUTING FACTOR VEHICLE 2',\n",
    "    'CONTRIBUTING FACTOR VEHICLE 3',\n",
    "    'CONTRIBUTING FACTOR VEHICLE 4',\n",
    "    'CONTRIBUTING FACTOR VEHICLE 5'\n",
    "]\n",
    "\n",
    "all_factors = df[factor_cols].stack().str.strip().str.title()\n",
    "\n",
    "# Checking how many unique values are for contributing factors\n",
    "unique_count = all_factors.nunique()\n",
    "\n",
    "print(f\"Number of unique contributing factors: {unique_count}\")"
   ]
  },
  {
   "cell_type": "code",
   "execution_count": 76,
   "id": "038c8fc4-9b52-4326-be02-bdb727774e20",
   "metadata": {},
   "outputs": [
    {
     "data": {
      "text/plain": [
       "Unspecified                                              1334476\n",
       "Driver Inattention/Distraction                            274558\n",
       "Failure To Yield Right-Of-Way                              77869\n",
       "Following Too Closely                                      71841\n",
       "Other Vehicular                                            57435\n",
       "Backing Unsafely                                           49273\n",
       "Fatigued/Drowsy                                            37724\n",
       "Passing Or Lane Usage Improper                             36210\n",
       "Turning Improperly                                         34500\n",
       "Passing Too Closely                                        31647\n",
       "Unsafe Lane Changing                                       27243\n",
       "Traffic Control Disregarded                                21413\n",
       "Driver Inexperience                                        20835\n",
       "Lost Consciousness                                         16916\n",
       "Prescription Medication                                    12821\n",
       "Pavement Slippery                                          12703\n",
       "Reaction To Uninvolved Vehicle                             12467\n",
       "Unsafe Speed                                               12333\n",
       "Alcohol Involvement                                        11875\n",
       "Outside Car Distraction                                     9464\n",
       "Oversized Vehicle                                           8911\n",
       "View Obstructed/Limited                                     8811\n",
       "Physical Disability                                         7946\n",
       "Passenger Distraction                                       5997\n",
       "Aggressive Driving/Road Rage                                5315\n",
       "Pedestrian/Bicyclist/Other Pedestrian Error/Confusion       5037\n",
       "Brakes Defective                                            3774\n",
       "Fell Asleep                                                 3089\n",
       "Obstruction/Debris                                          2672\n",
       "Glare                                                       2580\n",
       "Failure To Keep Right                                       2396\n",
       "Other Electronic Device                                     2029\n",
       "Illness                                                     1818\n",
       "Pavement Defective                                          1554\n",
       "Steering Failure                                            1351\n",
       "Tire Failure/Inadequate                                     1326\n",
       "Reaction To Other Uninvolved Vehicle                        1186\n",
       "Lane Marking Improper/Inadequate                             961\n",
       "Animals Action                                               908\n",
       "Drugs (Illegal)                                              764\n",
       "Traffic Control Device Improper/Non-Working                  738\n",
       "Illnes                                                       709\n",
       "Driverless/Runaway Vehicle                                   676\n",
       "Accelerator Defective                                        592\n",
       "Cell Phone (Hand-Held)                                       344\n",
       "Cell Phone (Hands-Free)                                      200\n",
       "Other Lighting Defects                                       126\n",
       "Tow Hitch Defective                                          116\n",
       "Headlights Defective                                          97\n",
       "80                                                            96\n",
       "Tinted Windows                                                83\n",
       "Using On Board Navigation Device                              77\n",
       "Vehicle Vandalism                                             73\n",
       "Eating Or Drinking                                            58\n",
       "Windshield Inadequate                                         57\n",
       "Shoulders Defective/Improper                                  52\n",
       "Texting                                                       26\n",
       "Listening/Using Headphones                                    15\n",
       "1                                                             12\n",
       "Name: count, dtype: int64"
      ]
     },
     "execution_count": 76,
     "metadata": {},
     "output_type": "execute_result"
    }
   ],
   "source": [
    "factor_counts = all_factors.value_counts()\n",
    "factor_counts.head(60)"
   ]
  },
  {
   "cell_type": "markdown",
   "id": "71f5ec24-8e0b-4455-b385-50585ab581a8",
   "metadata": {},
   "source": [
    "The most frequently occurring value for the contributing factor is 'Unspecified'. To avoid losing any potentially important data, it was decided to overwrite all missing values in CONTRIBUTING FACTOR VEHICLE 1 with 'Unspecified', since at least one vehicle was involved in each collision."
   ]
  },
  {
   "cell_type": "code",
   "execution_count": 77,
   "id": "d5577026-ed39-4ecb-9412-f5e560e1f0c0",
   "metadata": {},
   "outputs": [],
   "source": [
    "df['CONTRIBUTING FACTOR VEHICLE 1'] = df['CONTRIBUTING FACTOR VEHICLE 1'].fillna(\"Unspecified\")"
   ]
  },
  {
   "cell_type": "markdown",
   "id": "91793bac-fb40-40b7-a684-45d1b00d2a8b",
   "metadata": {
    "jp-MarkdownHeadingCollapsed": true
   },
   "source": [
    "#### &nbsp;&nbsp;&nbsp;&nbsp;&nbsp;&nbsp;&nbsp;&nbsp; &nbsp;&nbsp;&nbsp;&nbsp;1.2.5.2 Checking VEHICLE TYPE CODE 1-5"
   ]
  },
  {
   "cell_type": "code",
   "execution_count": 78,
   "id": "f39ec86b-a443-4f8e-8896-6c988f6e46b7",
   "metadata": {},
   "outputs": [
    {
     "name": "stdout",
     "output_type": "stream",
     "text": [
      "Number of rows where VEHICLE TYPE CODE 1 is missing, but at least one of VEHICLE TYPE CODE 2-5 is provided: 4\n"
     ]
    }
   ],
   "source": [
    "mask = (\n",
    "    df['VEHICLE TYPE CODE 1'].isnull() & (\n",
    "    df['VEHICLE TYPE CODE 2'].notnull() |\n",
    "    df['VEHICLE TYPE CODE 3'].notnull() |\n",
    "    df['VEHICLE TYPE CODE 4'].notnull() |\n",
    "    df['VEHICLE TYPE CODE 5'].notnull())\n",
    ")\n",
    "\n",
    "first_vehicle_missing_other_in = df[mask].shape[0]\n",
    "print(f'Number of rows where VEHICLE TYPE CODE 1 is missing, but at least one of VEHICLE TYPE CODE 2-5 is provided: {first_vehicle_missing_other_in}')"
   ]
  },
  {
   "cell_type": "code",
   "execution_count": 79,
   "id": "38acbd9c-c4c3-454f-b09e-1b24805a96b4",
   "metadata": {},
   "outputs": [
    {
     "data": {
      "text/html": [
       "<div>\n",
       "<style scoped>\n",
       "    .dataframe tbody tr th:only-of-type {\n",
       "        vertical-align: middle;\n",
       "    }\n",
       "\n",
       "    .dataframe tbody tr th {\n",
       "        vertical-align: top;\n",
       "    }\n",
       "\n",
       "    .dataframe thead th {\n",
       "        text-align: right;\n",
       "    }\n",
       "</style>\n",
       "<table border=\"1\" class=\"dataframe\">\n",
       "  <thead>\n",
       "    <tr style=\"text-align: right;\">\n",
       "      <th></th>\n",
       "      <th>DATETIME</th>\n",
       "      <th>BOROUGH</th>\n",
       "      <th>LOCATION</th>\n",
       "      <th>STREET</th>\n",
       "      <th>NUMBER OF PERSONS INJURED</th>\n",
       "      <th>NUMBER OF PERSONS KILLED</th>\n",
       "      <th>NUMBER OF PEDESTRIANS INJURED</th>\n",
       "      <th>NUMBER OF PEDESTRIANS KILLED</th>\n",
       "      <th>NUMBER OF CYCLIST INJURED</th>\n",
       "      <th>NUMBER OF CYCLIST KILLED</th>\n",
       "      <th>NUMBER OF MOTORIST INJURED</th>\n",
       "      <th>NUMBER OF MOTORIST KILLED</th>\n",
       "      <th>CONTRIBUTING FACTOR VEHICLE 1</th>\n",
       "      <th>CONTRIBUTING FACTOR VEHICLE 2</th>\n",
       "      <th>CONTRIBUTING FACTOR VEHICLE 3</th>\n",
       "      <th>CONTRIBUTING FACTOR VEHICLE 4</th>\n",
       "      <th>CONTRIBUTING FACTOR VEHICLE 5</th>\n",
       "      <th>COLLISION_ID</th>\n",
       "      <th>VEHICLE TYPE CODE 1</th>\n",
       "      <th>VEHICLE TYPE CODE 2</th>\n",
       "      <th>VEHICLE TYPE CODE 3</th>\n",
       "      <th>VEHICLE TYPE CODE 4</th>\n",
       "      <th>VEHICLE TYPE CODE 5</th>\n",
       "    </tr>\n",
       "  </thead>\n",
       "  <tbody>\n",
       "    <tr>\n",
       "      <th>1041076</th>\n",
       "      <td>2015-05-05 11:40:00</td>\n",
       "      <td>MANHATTAN</td>\n",
       "      <td>{'type': 'Point', 'coordinates': [-74.0072736,...</td>\n",
       "      <td>HUDSON STREET</td>\n",
       "      <td>0</td>\n",
       "      <td>0</td>\n",
       "      <td>0</td>\n",
       "      <td>0</td>\n",
       "      <td>0</td>\n",
       "      <td>0</td>\n",
       "      <td>0</td>\n",
       "      <td>0</td>\n",
       "      <td>Unspecified</td>\n",
       "      <td>Unspecified</td>\n",
       "      <td>NaN</td>\n",
       "      <td>NaN</td>\n",
       "      <td>NaN</td>\n",
       "      <td>3214569</td>\n",
       "      <td>NaN</td>\n",
       "      <td>PASSENGER VEHICLE</td>\n",
       "      <td>NaN</td>\n",
       "      <td>NaN</td>\n",
       "      <td>NaN</td>\n",
       "    </tr>\n",
       "    <tr>\n",
       "      <th>1041543</th>\n",
       "      <td>2015-04-14 13:00:00</td>\n",
       "      <td>MANHATTAN</td>\n",
       "      <td>{'type': 'Point', 'coordinates': [-74.0102592,...</td>\n",
       "      <td>CHAMBERS STREET</td>\n",
       "      <td>0</td>\n",
       "      <td>0</td>\n",
       "      <td>0</td>\n",
       "      <td>0</td>\n",
       "      <td>0</td>\n",
       "      <td>0</td>\n",
       "      <td>0</td>\n",
       "      <td>0</td>\n",
       "      <td>Unspecified</td>\n",
       "      <td>Unspecified</td>\n",
       "      <td>NaN</td>\n",
       "      <td>NaN</td>\n",
       "      <td>NaN</td>\n",
       "      <td>3202121</td>\n",
       "      <td>NaN</td>\n",
       "      <td>TAXI</td>\n",
       "      <td>NaN</td>\n",
       "      <td>NaN</td>\n",
       "      <td>NaN</td>\n",
       "    </tr>\n",
       "    <tr>\n",
       "      <th>1158522</th>\n",
       "      <td>2015-03-30 12:45:00</td>\n",
       "      <td>MANHATTAN</td>\n",
       "      <td>{'type': 'Point', 'coordinates': [-74.0157846,...</td>\n",
       "      <td>SOUTH END AVENUE</td>\n",
       "      <td>0</td>\n",
       "      <td>0</td>\n",
       "      <td>0</td>\n",
       "      <td>0</td>\n",
       "      <td>0</td>\n",
       "      <td>0</td>\n",
       "      <td>0</td>\n",
       "      <td>0</td>\n",
       "      <td>Other Vehicular</td>\n",
       "      <td>Prescription Medication</td>\n",
       "      <td>NaN</td>\n",
       "      <td>NaN</td>\n",
       "      <td>NaN</td>\n",
       "      <td>3194318</td>\n",
       "      <td>NaN</td>\n",
       "      <td>UNKNOWN</td>\n",
       "      <td>NaN</td>\n",
       "      <td>NaN</td>\n",
       "      <td>NaN</td>\n",
       "    </tr>\n",
       "    <tr>\n",
       "      <th>1251689</th>\n",
       "      <td>2014-12-29 19:00:00</td>\n",
       "      <td>MANHATTAN</td>\n",
       "      <td>{'type': 'Point', 'coordinates': [-74.0025032,...</td>\n",
       "      <td>PEARL STREET</td>\n",
       "      <td>0</td>\n",
       "      <td>0</td>\n",
       "      <td>0</td>\n",
       "      <td>0</td>\n",
       "      <td>0</td>\n",
       "      <td>0</td>\n",
       "      <td>0</td>\n",
       "      <td>0</td>\n",
       "      <td>Unspecified</td>\n",
       "      <td>NaN</td>\n",
       "      <td>NaN</td>\n",
       "      <td>NaN</td>\n",
       "      <td>NaN</td>\n",
       "      <td>3144358</td>\n",
       "      <td>NaN</td>\n",
       "      <td>UNKNOWN</td>\n",
       "      <td>NaN</td>\n",
       "      <td>NaN</td>\n",
       "      <td>NaN</td>\n",
       "    </tr>\n",
       "  </tbody>\n",
       "</table>\n",
       "</div>"
      ],
      "text/plain": [
       "                   DATETIME    BOROUGH  \\\n",
       "1041076 2015-05-05 11:40:00  MANHATTAN   \n",
       "1041543 2015-04-14 13:00:00  MANHATTAN   \n",
       "1158522 2015-03-30 12:45:00  MANHATTAN   \n",
       "1251689 2014-12-29 19:00:00  MANHATTAN   \n",
       "\n",
       "                                                  LOCATION  \\\n",
       "1041076  {'type': 'Point', 'coordinates': [-74.0072736,...   \n",
       "1041543  {'type': 'Point', 'coordinates': [-74.0102592,...   \n",
       "1158522  {'type': 'Point', 'coordinates': [-74.0157846,...   \n",
       "1251689  {'type': 'Point', 'coordinates': [-74.0025032,...   \n",
       "\n",
       "                                   STREET  NUMBER OF PERSONS INJURED  \\\n",
       "1041076  HUDSON STREET                                             0   \n",
       "1041543  CHAMBERS STREET                                           0   \n",
       "1158522  SOUTH END AVENUE                                          0   \n",
       "1251689  PEARL STREET                                              0   \n",
       "\n",
       "         NUMBER OF PERSONS KILLED  NUMBER OF PEDESTRIANS INJURED  \\\n",
       "1041076                         0                              0   \n",
       "1041543                         0                              0   \n",
       "1158522                         0                              0   \n",
       "1251689                         0                              0   \n",
       "\n",
       "         NUMBER OF PEDESTRIANS KILLED  NUMBER OF CYCLIST INJURED  \\\n",
       "1041076                             0                          0   \n",
       "1041543                             0                          0   \n",
       "1158522                             0                          0   \n",
       "1251689                             0                          0   \n",
       "\n",
       "         NUMBER OF CYCLIST KILLED  NUMBER OF MOTORIST INJURED  \\\n",
       "1041076                         0                           0   \n",
       "1041543                         0                           0   \n",
       "1158522                         0                           0   \n",
       "1251689                         0                           0   \n",
       "\n",
       "         NUMBER OF MOTORIST KILLED CONTRIBUTING FACTOR VEHICLE 1  \\\n",
       "1041076                          0                   Unspecified   \n",
       "1041543                          0                   Unspecified   \n",
       "1158522                          0               Other Vehicular   \n",
       "1251689                          0                   Unspecified   \n",
       "\n",
       "        CONTRIBUTING FACTOR VEHICLE 2 CONTRIBUTING FACTOR VEHICLE 3  \\\n",
       "1041076                   Unspecified                           NaN   \n",
       "1041543                   Unspecified                           NaN   \n",
       "1158522       Prescription Medication                           NaN   \n",
       "1251689                           NaN                           NaN   \n",
       "\n",
       "        CONTRIBUTING FACTOR VEHICLE 4 CONTRIBUTING FACTOR VEHICLE 5  \\\n",
       "1041076                           NaN                           NaN   \n",
       "1041543                           NaN                           NaN   \n",
       "1158522                           NaN                           NaN   \n",
       "1251689                           NaN                           NaN   \n",
       "\n",
       "         COLLISION_ID VEHICLE TYPE CODE 1 VEHICLE TYPE CODE 2  \\\n",
       "1041076       3214569                 NaN   PASSENGER VEHICLE   \n",
       "1041543       3202121                 NaN                TAXI   \n",
       "1158522       3194318                 NaN             UNKNOWN   \n",
       "1251689       3144358                 NaN             UNKNOWN   \n",
       "\n",
       "        VEHICLE TYPE CODE 3 VEHICLE TYPE CODE 4 VEHICLE TYPE CODE 5  \n",
       "1041076                 NaN                 NaN                 NaN  \n",
       "1041543                 NaN                 NaN                 NaN  \n",
       "1158522                 NaN                 NaN                 NaN  \n",
       "1251689                 NaN                 NaN                 NaN  "
      ]
     },
     "execution_count": 79,
     "metadata": {},
     "output_type": "execute_result"
    }
   ],
   "source": [
    "df[mask].head()"
   ]
  },
  {
   "cell_type": "code",
   "execution_count": 80,
   "id": "d3cad72a-b1be-41bb-8dd3-e9ec8e331d9e",
   "metadata": {},
   "outputs": [
    {
     "name": "stdout",
     "output_type": "stream",
     "text": [
      "Number of rows where VEHICLE TYPE CODE 1-5 is missing: 4170, which is 0.36% of main dataset.\n"
     ]
    }
   ],
   "source": [
    "# Length of dataset\n",
    "df_len = df.shape[0]\n",
    "\n",
    "missing_vehicle_type = df['VEHICLE TYPE CODE 1'].isnull().sum()\n",
    "missing_vehicle_type_percentage = (missing_vehicle_type / df_len) * 100\n",
    "\n",
    "\n",
    "print(f'Number of rows where VEHICLE TYPE CODE 1-5 is missing: {missing_vehicle_type}, which is {missing_vehicle_type_percentage:.2f}% of main dataset.')"
   ]
  },
  {
   "cell_type": "code",
   "execution_count": 81,
   "id": "b1348a9a-7011-4004-8291-996382391c26",
   "metadata": {},
   "outputs": [],
   "source": [
    "vehicle_type_cols = [\n",
    "    'VEHICLE TYPE CODE 1',\n",
    "    'VEHICLE TYPE CODE 2',\n",
    "    'VEHICLE TYPE CODE 3',\n",
    "    'VEHICLE TYPE CODE 4',\n",
    "    'VEHICLE TYPE CODE 5'\n",
    "]\n",
    "\n",
    "# Define replacements for known inconsistent labels\n",
    "vehicle_type_replacements = {\n",
    "    'SPORT UTILITY / STATION WAGON': 'SPORT UTILITY / STATION WAGON',\n",
    "    'SPORT UTILITY/STATION WAGON': 'SPORT UTILITY / STATION WAGON',\n",
    "    'STATION WAGON / SPORT UTILITY': 'SPORT UTILITY / STATION WAGON',\n",
    "    'STATION WAGON/SPORT UTILITY': 'SPORT UTILITY / STATION WAGON',\n",
    "    'SPORT UTILITY VEHICLE / STATION WAGON': 'SPORT UTILITY / STATION WAGON',\n",
    "    'STATION WAGON / SPORT UTILITY VEHICLE': 'SPORT UTILITY / STATION WAGON',\n",
    "    'STATION WAGON/SPORT UTILITY VEHICLE': 'SPORT UTILITY / STATION WAGON',\n",
    "    'SPORT UTILITY VEHICLE': 'SPORT UTILITY',\n",
    "    'STATION WAGON': 'STATION WAGON',\n",
    "    'BICYCLE': 'BIKE',\n",
    "    'E-BIK': 'BIKE',\n",
    "    '4 DR SEDAN': 'SEDAN',\n",
    "    'MOTORBIKE': 'MOTORCYCLE',\n",
    "    'MOTORSCOOTER': 'MOTORCYCLE',\n",
    "    'SCOOTER': 'MOTORCYCLE',\n",
    "    'MOPED': 'MOTORCYCLE',\n",
    "    'E-SCO': 'MOTORCYCLE',\n",
    "    'AMBUL': 'AMBULANCE',\n",
    "    'TRACTOR TRUCK DIESEL': 'TRUCK',\n",
    "    'TRACTOR TRUCK GASOLINE': 'TRUCK',\n",
    "    'TANKER': 'TRUCK',\n",
    "    'BEVERAGE TRUCK': 'TRUCK',\n",
    "    'BU': 'BUS',\n",
    "    'FIRE': 'FIRE TRUCK',\n",
    "    'UNKNO': 'UNKNOWN',\n",
    "    '3-DOOR': 'PASSENGER VEHICLE',\n",
    "    'CONV': 'CONVERTIBLE',\n",
    "    'REFRIGERATED VAN': 'VAN',\n",
    "}\n",
    "\n",
    "for col in vehicle_type_cols:\n",
    "    df[col] = df[col].str.strip().str.upper().replace(vehicle_type_replacements)\n",
    "\n",
    "all_vehicle_type = df[vehicle_type_cols].stack()\n",
    "all_vehicle_type = all_vehicle_type.str.strip().str.upper()\n",
    "\n",
    "all_vehicle_type = all_vehicle_type.replace(vehicle_type_replacements)"
   ]
  },
  {
   "cell_type": "code",
   "execution_count": 82,
   "id": "337caa06-78c4-4ed7-8bac-def671554f88",
   "metadata": {},
   "outputs": [
    {
     "data": {
      "text/plain": [
       "PASSENGER VEHICLE                 918292\n",
       "SPORT UTILITY / STATION WAGON     616080\n",
       "SEDAN                             229657\n",
       "TAXI                               95136\n",
       "UNKNOWN                            70221\n",
       "PICK-UP TRUCK                      51419\n",
       "VAN                                40198\n",
       "OTHER                              33689\n",
       "BIKE                               32877\n",
       "BUS                                31214\n",
       "SMALL COM VEH(4 TIRES)             20615\n",
       "LARGE COM VEH(6 OR MORE TIRES)     18003\n",
       "BOX TRUCK                          13603\n",
       "MOTORCYCLE                         13567\n",
       "LIVERY VEHICLE                     13311\n",
       "TRUCK                               6931\n",
       "TK                                  4278\n",
       "AMBULANCE                           4197\n",
       "CONVERTIBLE                         2328\n",
       "DUMP                                1989\n",
       "DS                                  1626\n",
       "FLAT BED                            1283\n",
       "PK                                  1264\n",
       "FIRE TRUCK                          1198\n",
       "VN                                  1115\n",
       "GARBAGE OR REFUSE                   1063\n",
       "CARRY ALL                            921\n",
       "DP                                   593\n",
       "TOW TRUCK / WRECKER                  589\n",
       "FB                                   389\n",
       "CHASSIS CAB                          387\n",
       "AM                                   365\n",
       "GG                                   330\n",
       "CONCRETE MIXER                       283\n",
       "TRAIL                                280\n",
       "TR                                   271\n",
       "LL                                   270\n",
       "FLAT RACK                            194\n",
       "TT                                   189\n",
       "PEDICAB                              166\n",
       "ARMORED TRUCK                        163\n",
       "CB                                   146\n",
       "TN                                   129\n",
       "FDNY                                 127\n",
       "LIFT BOOM                            107\n",
       "RF                                   100\n",
       "LIMO                                  92\n",
       "TRACT                                 90\n",
       "CM                                    85\n",
       "FORKL                                 80\n",
       "STAKE OR RACK                         78\n",
       "SCHOO                                 77\n",
       "USPS                                  76\n",
       "ELECT                                 76\n",
       "SCHOOL BUS                            69\n",
       "SCOOT                                 66\n",
       "TOW T                                 65\n",
       "MS                                    60\n",
       "BR                                    60\n",
       "AR                                    59\n",
       "Name: count, dtype: int64"
      ]
     },
     "execution_count": 82,
     "metadata": {},
     "output_type": "execute_result"
    }
   ],
   "source": [
    "vehicle_types = all_vehicle_type.value_counts()\n",
    "vehicle_types.iloc[0:60]"
   ]
  },
  {
   "cell_type": "markdown",
   "id": "935b3c26-459f-4058-b81d-a6ab91c4a6d1",
   "metadata": {
    "jp-MarkdownHeadingCollapsed": true
   },
   "source": [
    "#### &nbsp;&nbsp;&nbsp;&nbsp;&nbsp;&nbsp;&nbsp;&nbsp; &nbsp;&nbsp;&nbsp;&nbsp;1.2.5.3 Filling missing values in CONTRIBUTING FACTOR VEHICLE 1-5 and VEHICLE TYPE CODE 1-5"
   ]
  },
  {
   "cell_type": "code",
   "execution_count": 83,
   "id": "cdaf9941-6c1b-4303-8361-0dcae5a61f8c",
   "metadata": {},
   "outputs": [
    {
     "name": "stdout",
     "output_type": "stream",
     "text": [
      "Mismatches between CONTRIBUTING FACTOR VEHICLE 1 and VEHICLE TYPE CODE 1: 4170 rows make up 0.36% of main dataset.\n",
      "Mismatches between CONTRIBUTING FACTOR VEHICLE 2 and VEHICLE TYPE CODE 2: 82188 rows make up 7.14% of main dataset.\n",
      "Mismatches between CONTRIBUTING FACTOR VEHICLE 3 and VEHICLE TYPE CODE 3: 24904 rows make up 2.16% of main dataset.\n",
      "Mismatches between CONTRIBUTING FACTOR VEHICLE 4 and VEHICLE TYPE CODE 4: 19416 rows make up 1.69% of main dataset.\n",
      "Mismatches between CONTRIBUTING FACTOR VEHICLE 5 and VEHICLE TYPE CODE 5: 3653 rows make up 0.32% of main dataset.\n"
     ]
    }
   ],
   "source": [
    "for i in range(1, 6):\n",
    "    factor_col = f'CONTRIBUTING FACTOR VEHICLE {i}'\n",
    "    vehicle_col = f'VEHICLE TYPE CODE {i}'\n",
    "    \n",
    "    mismatch = df[(df[factor_col].notna() & df[vehicle_col].isna()) | (df[factor_col].isna() & df[vehicle_col].notna())]\n",
    "\n",
    "    mismatch_percentage = (mismatch.shape[0] / df_len) * 100\n",
    "    \n",
    "    print(f'Mismatches between {factor_col} and {vehicle_col}: {mismatch.shape[0]} rows make up {mismatch_percentage:.2f}% of main dataset.')"
   ]
  },
  {
   "cell_type": "markdown",
   "id": "789cae53-4f73-4fcc-9a45-1acd780d09e7",
   "metadata": {},
   "source": [
    "The most significant mismatch is seen for vehicle 2. It was decided to fill missing values in each corresponding column when the other column provides a value."
   ]
  },
  {
   "cell_type": "code",
   "execution_count": 84,
   "id": "4ee01508-46dd-44bb-8afd-9e03d04a794c",
   "metadata": {},
   "outputs": [
    {
     "name": "stdout",
     "output_type": "stream",
     "text": [
      "For vehicle 1: Filled 0 (0.00%) missing contributing factors and 4170 (0.36%) missing vehicle types.\n",
      "For vehicle 2: Filled 21184 (1.84%) missing contributing factors and 61004 (5.30%) missing vehicle types.\n",
      "For vehicle 3: Filled 21535 (1.87%) missing contributing factors and 3369 (0.29%) missing vehicle types.\n",
      "For vehicle 4: Filled 18759 (1.63%) missing contributing factors and 657 (0.06%) missing vehicle types.\n",
      "For vehicle 5: Filled 3491 (0.30%) missing contributing factors and 162 (0.01%) missing vehicle types.\n"
     ]
    }
   ],
   "source": [
    "for i in range(1, 6):\n",
    "    factor_col = f'CONTRIBUTING FACTOR VEHICLE {i}'\n",
    "    vehicle_col = f'VEHICLE TYPE CODE {i}'\n",
    "\n",
    "    # Count missing before filling\n",
    "    missing_factor_before = df[factor_col].isna().sum()\n",
    "    missing_vehicle_before = df[vehicle_col].isna().sum()\n",
    "\n",
    "    # Fill missing factor where vehicle type is present\n",
    "    df.loc[df[factor_col].isna() & df[vehicle_col].notna(), factor_col] = 'Unspecified'\n",
    "\n",
    "    # Fill missing vehicle type where factor is present\n",
    "    df.loc[df[vehicle_col].isna() & df[factor_col].notna(), vehicle_col] = 'Unknown'\n",
    "\n",
    "    # Count missing after filling\n",
    "    missing_factor_after = df[factor_col].isna().sum()\n",
    "    missing_vehicle_after = df[vehicle_col].isna().sum()\n",
    "\n",
    "    # Calculate how many were filled\n",
    "    factor_filled = missing_factor_before - missing_factor_after\n",
    "    vehicle_filled = missing_vehicle_before - missing_vehicle_after\n",
    "\n",
    "    factor_filled_percentage = (factor_filled / df_len) * 100\n",
    "    vehicle_filled_percentage = (vehicle_filled / df_len) * 100\n",
    "\n",
    "    print(f'For vehicle {i}: Filled {factor_filled} ({factor_filled_percentage:.2f}%) missing contributing factors and {vehicle_filled} ({vehicle_filled_percentage:.2f}%) missing vehicle types.')"
   ]
  },
  {
   "cell_type": "code",
   "execution_count": 85,
   "id": "fc2d3282-5c2b-4e35-9afd-bd68e2f952f2",
   "metadata": {},
   "outputs": [
    {
     "data": {
      "text/plain": [
       "DATETIME                               0\n",
       "BOROUGH                                0\n",
       "LOCATION                           80552\n",
       "STREET                             45613\n",
       "NUMBER OF PERSONS INJURED              0\n",
       "NUMBER OF PERSONS KILLED               0\n",
       "NUMBER OF PEDESTRIANS INJURED          0\n",
       "NUMBER OF PEDESTRIANS KILLED           0\n",
       "NUMBER OF CYCLIST INJURED              0\n",
       "NUMBER OF CYCLIST KILLED               0\n",
       "NUMBER OF MOTORIST INJURED             0\n",
       "NUMBER OF MOTORIST KILLED              0\n",
       "CONTRIBUTING FACTOR VEHICLE 1          0\n",
       "CONTRIBUTING FACTOR VEHICLE 2     134479\n",
       "CONTRIBUTING FACTOR VEHICLE 3    1055695\n",
       "CONTRIBUTING FACTOR VEHICLE 4    1116811\n",
       "CONTRIBUTING FACTOR VEHICLE 5    1143479\n",
       "COLLISION_ID                           0\n",
       "VEHICLE TYPE CODE 1                    0\n",
       "VEHICLE TYPE CODE 2               134479\n",
       "VEHICLE TYPE CODE 3              1055695\n",
       "VEHICLE TYPE CODE 4              1116811\n",
       "VEHICLE TYPE CODE 5              1143479\n",
       "dtype: int64"
      ]
     },
     "execution_count": 85,
     "metadata": {},
     "output_type": "execute_result"
    }
   ],
   "source": [
    "df.isna().sum()"
   ]
  },
  {
   "cell_type": "markdown",
   "id": "3675c79b-0ca3-4ec3-aed2-dd645160ed4c",
   "metadata": {
    "jp-MarkdownHeadingCollapsed": true
   },
   "source": [
    "### &nbsp;&nbsp;&nbsp;&nbsp;1.3 Exporting cleaned data to .csv file"
   ]
  },
  {
   "cell_type": "code",
   "execution_count": 86,
   "id": "f4b6f12e-564e-4fa4-b836-cbeccc10addd",
   "metadata": {},
   "outputs": [],
   "source": [
    "df = df.reset_index(drop=True)"
   ]
  },
  {
   "cell_type": "code",
   "execution_count": 87,
   "id": "46cd6faf-65da-42d4-8a43-0f42744550d8",
   "metadata": {},
   "outputs": [],
   "source": [
    "df.to_csv('cleaned_data.csv', index=False)"
   ]
  },
  {
   "cell_type": "code",
   "execution_count": 88,
   "id": "b8d14215-1fdf-4e54-b8d6-2536951a9d85",
   "metadata": {},
   "outputs": [
    {
     "name": "stdout",
     "output_type": "stream",
     "text": [
      "<class 'pandas.core.frame.DataFrame'>\n",
      "RangeIndex: 1150944 entries, 0 to 1150943\n",
      "Data columns (total 23 columns):\n",
      " #   Column                         Non-Null Count    Dtype         \n",
      "---  ------                         --------------    -----         \n",
      " 0   DATETIME                       1150944 non-null  datetime64[ns]\n",
      " 1   BOROUGH                        1150944 non-null  category      \n",
      " 2   LOCATION                       1070392 non-null  category      \n",
      " 3   STREET                         1105331 non-null  object        \n",
      " 4   NUMBER OF PERSONS INJURED      1150944 non-null  int8          \n",
      " 5   NUMBER OF PERSONS KILLED       1150944 non-null  int8          \n",
      " 6   NUMBER OF PEDESTRIANS INJURED  1150944 non-null  int8          \n",
      " 7   NUMBER OF PEDESTRIANS KILLED   1150944 non-null  int8          \n",
      " 8   NUMBER OF CYCLIST INJURED      1150944 non-null  int8          \n",
      " 9   NUMBER OF CYCLIST KILLED       1150944 non-null  int8          \n",
      " 10  NUMBER OF MOTORIST INJURED     1150944 non-null  int8          \n",
      " 11  NUMBER OF MOTORIST KILLED      1150944 non-null  int8          \n",
      " 12  CONTRIBUTING FACTOR VEHICLE 1  1150944 non-null  object        \n",
      " 13  CONTRIBUTING FACTOR VEHICLE 2  1016465 non-null  object        \n",
      " 14  CONTRIBUTING FACTOR VEHICLE 3  95249 non-null    object        \n",
      " 15  CONTRIBUTING FACTOR VEHICLE 4  34133 non-null    object        \n",
      " 16  CONTRIBUTING FACTOR VEHICLE 5  7465 non-null     object        \n",
      " 17  COLLISION_ID                   1150944 non-null  int32         \n",
      " 18  VEHICLE TYPE CODE 1            1150944 non-null  object        \n",
      " 19  VEHICLE TYPE CODE 2            1016465 non-null  object        \n",
      " 20  VEHICLE TYPE CODE 3            95249 non-null    object        \n",
      " 21  VEHICLE TYPE CODE 4            34133 non-null    object        \n",
      " 22  VEHICLE TYPE CODE 5            7465 non-null     object        \n",
      "dtypes: category(2), datetime64[ns](1), int32(1), int8(8), object(11)\n",
      "memory usage: 129.5+ MB\n"
     ]
    }
   ],
   "source": [
    "df.info()"
   ]
  },
  {
   "cell_type": "markdown",
   "id": "ba362a0f-dd64-431e-a7a6-16ecb800597a",
   "metadata": {
    "jp-MarkdownHeadingCollapsed": true
   },
   "source": [
    "## 2. Data exploration"
   ]
  },
  {
   "cell_type": "markdown",
   "id": "35752a12-2bfc-4c75-8250-5c97ca9cf2f8",
   "metadata": {},
   "source": [
    "In 02_Data_Exploration_DA-Project-II"
   ]
  },
  {
   "cell_type": "markdown",
   "id": "c3959fea-7f31-4670-b48f-2aee83a13b14",
   "metadata": {
    "jp-MarkdownHeadingCollapsed": true
   },
   "source": [
    "## 3. Data visualization and insights"
   ]
  },
  {
   "cell_type": "markdown",
   "id": "f4aaae15-f03c-40a6-8558-b1759dc2faa2",
   "metadata": {},
   "source": [
    "In 03_Data_Visualization_DA-Project-III"
   ]
  },
  {
   "cell_type": "code",
   "execution_count": null,
   "id": "3fbbcb3b-ea55-4824-92ee-44d432818742",
   "metadata": {},
   "outputs": [],
   "source": []
  }
 ],
 "metadata": {
  "kernelspec": {
   "display_name": "Python 3 (ipykernel)",
   "language": "python",
   "name": "python3"
  },
  "language_info": {
   "codemirror_mode": {
    "name": "ipython",
    "version": 3
   },
   "file_extension": ".py",
   "mimetype": "text/x-python",
   "name": "python",
   "nbconvert_exporter": "python",
   "pygments_lexer": "ipython3",
   "version": "3.13.2"
  }
 },
 "nbformat": 4,
 "nbformat_minor": 5
}
