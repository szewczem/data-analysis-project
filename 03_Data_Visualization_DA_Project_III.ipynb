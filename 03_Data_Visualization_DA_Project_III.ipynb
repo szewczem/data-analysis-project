{
 "cells": [
  {
   "cell_type": "markdown",
   "id": "612d73c1-cefe-4fc6-a1ed-5833bace9896",
   "metadata": {},
   "source": [
    "# Analysis of the motor vehicle collisions in NYC part III"
   ]
  },
  {
   "cell_type": "markdown",
   "id": "963e4cf2-706c-4d09-937b-00419a8fb77b",
   "metadata": {},
   "source": [
    "## 3. Data visualization"
   ]
  },
  {
   "cell_type": "markdown",
   "id": "843e7838-353d-4b0b-afb1-d01baff58163",
   "metadata": {},
   "source": [
    "This part of the project contains visual exploration of the dataset and created plots to identify trends and patterns in NYC collisions from July 2012 to November 2019."
   ]
  },
  {
   "cell_type": "markdown",
   "id": "e1347e27-681e-46f3-ad98-45c518e50b6c",
   "metadata": {},
   "source": [
    "Key questions of the analisys:\n",
    "- Identifying the most dangerous factors in accidents in each of the New York City boroughs.\n",
    "- Presenting how many deaths and injuries were caused by unsafe speed in each borough.\n",
    "- Determining the 3 most common accident factors broken down by borough and overall for the entire city.\n",
    "- Identifying which vehicle types most frequently participated in accidents.\n",
    "- Statistics on the number of accidents for each borough.\n",
    "- Most common accident locations (optional)."
   ]
  },
  {
   "cell_type": "markdown",
   "id": "58711a33-c784-418d-bfbf-26f5c250c9bd",
   "metadata": {
    "jp-MarkdownHeadingCollapsed": true
   },
   "source": [
    "### &nbsp;&nbsp;&nbsp;&nbsp;3.1 Data visualization by contributing factors for collisions in NYC"
   ]
  },
  {
   "cell_type": "markdown",
   "id": "7d6d0fd7-6ab3-4afb-9385-93d7340fdeda",
   "metadata": {
    "jp-MarkdownHeadingCollapsed": true
   },
   "source": [
    "#### &nbsp;&nbsp;&nbsp;&nbsp;&nbsp;&nbsp;&nbsp;&nbsp;3.1.1 Contributing factors in NYC collisions"
   ]
  },
  {
   "cell_type": "markdown",
   "id": "868aa36a-e2c0-4dce-9be1-39c749376be3",
   "metadata": {},
   "source": [
    "![The most common factors in colissions for the entire city](./plots/top25_contributing_factors_all_NYC.png)"
   ]
  },
  {
   "cell_type": "markdown",
   "id": "5c264ef4-95da-4fc8-9040-2a3ba017bf6d",
   "metadata": {},
   "source": [
    "'Unspecified' was the leading factor in many collisions, but due to its lack of informative value, it was excluded from visualizations."
   ]
  },
  {
   "cell_type": "markdown",
   "id": "39718848-4a34-4752-85dd-ed15b0fa3147",
   "metadata": {},
   "source": [
    "![The most common factors in colissions for the entire city excluding \"Unspecified\"](./plots/top25_contributing_factors_NYC.png)"
   ]
  },
  {
   "cell_type": "markdown",
   "id": "1fb16121-f345-4578-ac55-227c95b0d9c1",
   "metadata": {},
   "source": [
    "The most common contributing factor indicated in the provided data is 'Driver Inattention/Distraction'."
   ]
  },
  {
   "cell_type": "markdown",
   "id": "890f4a8a-850f-48e5-bfe8-3001cd561c89",
   "metadata": {
    "jp-MarkdownHeadingCollapsed": true
   },
   "source": [
    "#### &nbsp;&nbsp;&nbsp;&nbsp;&nbsp;&nbsp;&nbsp;&nbsp;3.1.2 Percentage of contributing factors in NYC collisions"
   ]
  },
  {
   "cell_type": "markdown",
   "id": "e528b387-694d-4fd8-8375-af6a0746cff7",
   "metadata": {},
   "source": [
    "![The most common factors in colissions for the entire city excluding \"Unspecified\" - percentage](./plots/top10_contributing_factors_percentage_NYC.png)"
   ]
  },
  {
   "cell_type": "markdown",
   "id": "17f8bc79-deaa-4761-8c5e-3e2e0cc7c6b8",
   "metadata": {},
   "source": [
    "'Driver Inattention/Distraction' accounts for 30.4% of all informative factors. The second most common factor is 'Failure to Yield Right-of-Way', representing 8.6% of all informative factors."
   ]
  },
  {
   "cell_type": "markdown",
   "id": "1772c234-5981-4146-b155-c3c96ae07286",
   "metadata": {},
   "source": [
    "![The most common factors in colissions for the entire city excluding \"Unspecified\" - percentage](./plots/top10_contributing_factors_percentage_NYC_other.png)"
   ]
  },
  {
   "cell_type": "markdown",
   "id": "52b6e660-c1e7-4967-9a8e-db55b28bbd0d",
   "metadata": {},
   "source": [
    "The 'Other' factors account for 22.6% of all informative factors."
   ]
  },
  {
   "cell_type": "markdown",
   "id": "35628d58-b62b-4f6c-8a74-2c3ea423059e",
   "metadata": {
    "jp-MarkdownHeadingCollapsed": true
   },
   "source": [
    "### &nbsp;&nbsp;&nbsp;&nbsp;3.2 Data visualization by contributing factors for collisions in each borough"
   ]
  },
  {
   "cell_type": "markdown",
   "id": "096d992b-c2be-4659-827e-bf720a2cee2f",
   "metadata": {
    "jp-MarkdownHeadingCollapsed": true
   },
   "source": [
    "#### &nbsp;&nbsp;&nbsp;&nbsp;&nbsp;&nbsp;&nbsp;&nbsp;3.2.1 Top 5 factors for collisions in each borough, relative to all collisions in NYC"
   ]
  },
  {
   "cell_type": "markdown",
   "id": "fc9afa58-b704-4ffd-a5b5-c417d8e40e5a",
   "metadata": {},
   "source": [
    "![Top 5 factors in colissions in each borough (relative to total colisions in NYC)](./plots/top5_contributing_factors_by_borough_NYC.png)"
   ]
  },
  {
   "cell_type": "markdown",
   "id": "737fe0c8-2b8d-44e6-8772-2b4dc901e4f2",
   "metadata": {},
   "source": [
    "The greatest number of recorded collisions occurred in Queens, with the lowest in Staten Island. The most common contributing factor in each borough was 'Driver Inattention/Distraction'."
   ]
  },
  {
   "cell_type": "markdown",
   "id": "31e90641-518b-4bbf-b25c-d38fe7e52bb7",
   "metadata": {
    "jp-MarkdownHeadingCollapsed": true
   },
   "source": [
    "#### &nbsp;&nbsp;&nbsp;&nbsp;&nbsp;&nbsp;&nbsp;&nbsp;3.2.2 Top 5 factors for collisions in each borough, relative to all collisions per borough (percentage)"
   ]
  },
  {
   "cell_type": "markdown",
   "id": "1dcb539d-dbe8-4f32-af45-ae7f2ae567b8",
   "metadata": {},
   "source": [
    "![Top 5 factors in colissions in each borough (relative to total colisions in borough)](./plots/top5_contributing_factors_by_borough_in_borough.png)"
   ]
  },
  {
   "cell_type": "markdown",
   "id": "8b99c7e3-7049-4854-be65-c19666a0a3eb",
   "metadata": {},
   "source": [
    "Comparison of contributing factors in collisions across each borough shows that the percentage occurrence of each factor is fairly similar among the boroughs."
   ]
  },
  {
   "cell_type": "markdown",
   "id": "afd5a9db-45ea-4330-82cb-8bdfd25c0372",
   "metadata": {
    "jp-MarkdownHeadingCollapsed": true
   },
   "source": [
    "#### &nbsp;&nbsp;&nbsp;&nbsp;&nbsp;&nbsp;&nbsp;&nbsp;3.2.3 Top 5 injury collision factors per borough, relative to all injury collisions in that borough"
   ]
  },
  {
   "cell_type": "markdown",
   "id": "48496ac4-f4f9-4928-a10e-ccbe60341cf3",
   "metadata": {},
   "source": [
    "![Top 5 factors in colissions in each borough for injured (relative to total colisions in NYC)](./plots/top5_contributing_factors_for_injured_by_borough_in_borough.png)"
   ]
  },
  {
   "cell_type": "markdown",
   "id": "4329722f-3c6e-4f60-a00d-03e05825a554",
   "metadata": {},
   "source": [
    "Considering only the factors where persons were injured, the top factor in each borough is ‘Driver Inattention/Distraction’, followed by ‘Failure to Yield Right-of-Way’. Other notable factors include ‘Traffic Control Disregarded’ and ‘Unsafe Speed’."
   ]
  },
  {
   "cell_type": "markdown",
   "id": "489e5bf8-d4be-43cf-930f-f2bbc0b22f67",
   "metadata": {
    "jp-MarkdownHeadingCollapsed": true
   },
   "source": [
    "#### &nbsp;&nbsp;&nbsp;&nbsp;&nbsp;&nbsp;&nbsp;&nbsp;3.2.4 Top 5 contributing factors for fatal collisions in each borough, relative to all fatal collisions per borough"
   ]
  },
  {
   "cell_type": "markdown",
   "id": "c3f7c555-0068-4561-a06c-6e4de00641ff",
   "metadata": {},
   "source": [
    "![Top 5 factors in colissions in each borough for injured (relative to total colisions in NYC)](./plots/top5_contributing_factors_for_killed_by_borough_in_borough.png)"
   ]
  },
  {
   "cell_type": "markdown",
   "id": "90e16f1e-04d0-480b-b5e9-c0f0cf81a334",
   "metadata": {},
   "source": [
    "For fatal collisions, the distribution of contributing factors is more diversified. The percentage share of factors other than ‘Driver Inattention/Distraction’ is higher, and in Queens, this factor drops to third place, with ‘Unsafe Speed’ and ‘Traffic Control Disregarded’ taking the lead in this borough."
   ]
  },
  {
   "cell_type": "markdown",
   "id": "1f3665ca-790a-42ac-bb7c-5b3d4cc1ab0b",
   "metadata": {
    "jp-MarkdownHeadingCollapsed": true
   },
   "source": [
    "### &nbsp;&nbsp;&nbsp;&nbsp;3.3 Data visualization of collision contributing factors in NYC by years"
   ]
  },
  {
   "cell_type": "markdown",
   "id": "9b6fa2f9-236c-4620-8c24-c85c72128065",
   "metadata": {
    "jp-MarkdownHeadingCollapsed": true
   },
   "source": [
    "#### &nbsp;&nbsp;&nbsp;&nbsp;&nbsp;&nbsp;&nbsp;&nbsp;3.3.1 Top 5 contributing factors for collisions in each borough, from 2013 to 2018"
   ]
  },
  {
   "cell_type": "markdown",
   "id": "920a5177-b8b1-49a6-81fa-034facc2c647",
   "metadata": {},
   "source": [
    "![Top 3 factors in colissions in entire city](./plots/top3_factors_by_borough_per_year.png)"
   ]
  },
  {
   "cell_type": "markdown",
   "id": "da902c79-8c3e-4a34-a157-a9539f5ca3a7",
   "metadata": {},
   "source": [
    "Due to incomplete data for 2012 and 2019, these years were excluded from the analysis. The plot presents the top contributing factors for collisions in New York City from 2013 to 2018."
   ]
  },
  {
   "cell_type": "markdown",
   "id": "dcdc06d6-7215-42ab-8a96-7bb6b7dc6ba8",
   "metadata": {
    "jp-MarkdownHeadingCollapsed": true
   },
   "source": [
    "#### &nbsp;&nbsp;&nbsp;&nbsp;&nbsp;&nbsp;&nbsp;&nbsp;3.3.2 Top 3 contributing factors for collisions in each borough, relative to all collisions within the same borough (2013–2018)"
   ]
  },
  {
   "cell_type": "markdown",
   "id": "b3c2e460-5c74-4a36-bb0a-ca6020fa4f87",
   "metadata": {},
   "source": [
    "![Top 3 factors in colissions in each borough for years 2013-2018](./plots/top3_factors_for_victims_in_borough_per_year.png)"
   ]
  },
  {
   "cell_type": "markdown",
   "id": "8a061e69-35f8-4429-8c56-97e46efc83e8",
   "metadata": {},
   "source": [
    "Analyzing the top three contributing factors for each borough for all type of victims from 2013 to 2019 reveals that 'Fatigued/Drowsy' no longer appears after 2015, with 'Following Too Closely' emerging as a more frequent factor. Throughout all years and boroughs, the leading cause of collisions remains 'Driver Inattention/Distraction'."
   ]
  },
  {
   "cell_type": "markdown",
   "id": "a88e7999-3057-4ac2-92d1-3d6efe3cdbd4",
   "metadata": {
    "jp-MarkdownHeadingCollapsed": true
   },
   "source": [
    "#### &nbsp;&nbsp;&nbsp;&nbsp;&nbsp;&nbsp;&nbsp;&nbsp;3.3.3 Top 3 contributing factors for fatal collisions in each borough, relative to all collisions within the same borough (2013-2018)"
   ]
  },
  {
   "cell_type": "markdown",
   "id": "324cd37f-1250-4b3a-a04b-69603de10aaf",
   "metadata": {},
   "source": [
    "![Top 3 factors in colissions in each borough for years 2013-2018 for killed](./plots/top3_factors_for_killed_in_borough_per_year.png)"
   ]
  },
  {
   "cell_type": "markdown",
   "id": "1a9cc4db-588b-476e-914a-bd8020ad831b",
   "metadata": {},
   "source": [
    "Analyzing the top three contributing factors in fatal collisions reveals a growing share of previously less common factors. After 2015, 'Unsafe Speed' emerges as a leading cause, particularly in Queens and Staten Island."
   ]
  },
  {
   "cell_type": "markdown",
   "id": "113828bb-9ec1-4996-a2b6-199f883f2c26",
   "metadata": {
    "jp-MarkdownHeadingCollapsed": true
   },
   "source": [
    "### &nbsp;&nbsp;&nbsp;&nbsp;3.4 Data visualization of collision severity and victim types by borough and year"
   ]
  },
  {
   "cell_type": "markdown",
   "id": "13238aa5-0cdb-41d2-a70b-b2598a4adc3a",
   "metadata": {
    "jp-MarkdownHeadingCollapsed": true
   },
   "source": [
    "#### &nbsp;&nbsp;&nbsp;&nbsp;&nbsp;&nbsp;&nbsp;&nbsp;3.4.1 Severity of collisions over years in NYC"
   ]
  },
  {
   "cell_type": "markdown",
   "id": "1d06e6d6-d0cc-49b4-b355-b64b6512797d",
   "metadata": {},
   "source": [
    "![Killed and injured in NYC in 2013-2018](./plots/killed_injured_noinjury_per_year_NYC.png)"
   ]
  },
  {
   "cell_type": "markdown",
   "id": "6a895de5-3622-46d8-a092-804c9ed8c975",
   "metadata": {},
   "source": [
    "The majority of reported collisions involved no injuries or fatalities. Overall, the number of recorded collisions increased annually, with slight declines observed in 2015 and 2017."
   ]
  },
  {
   "cell_type": "markdown",
   "id": "a0c10328-f093-4343-ae23-0ff4d320025c",
   "metadata": {
    "jp-MarkdownHeadingCollapsed": true
   },
   "source": [
    "#### &nbsp;&nbsp;&nbsp;&nbsp;&nbsp;&nbsp;&nbsp;&nbsp;3.4.2 Total number of victims in NYC collisions (2013–2018), broken down by victim type"
   ]
  },
  {
   "cell_type": "markdown",
   "id": "0b63db4a-7c03-4afb-81f5-0bbcfeddb4d7",
   "metadata": {},
   "source": [
    "![Injured in NYC in 2013-2018](./plots/total_victims_per_year_pedestrians_cyclist_motorist_NYC_2.png)"
   ]
  },
  {
   "cell_type": "markdown",
   "id": "859953a1-67e5-40e9-ad12-e3e2ac790e8b",
   "metadata": {},
   "source": [
    "Motorists consistently account for the largest share of collision victims, followed by pedestrians and cyclists. While the overall number of victims increased over the years, a slight decline was observed in 2015."
   ]
  },
  {
   "cell_type": "markdown",
   "id": "9247e532-60c0-403a-948b-7b15acfd2f13",
   "metadata": {
    "jp-MarkdownHeadingCollapsed": true
   },
   "source": [
    "#### &nbsp;&nbsp;&nbsp;&nbsp;&nbsp;&nbsp;&nbsp;&nbsp;3.4.3 Number of persons injured in NYC collisions (2013–2018), broken down by victim type"
   ]
  },
  {
   "cell_type": "markdown",
   "id": "35e8c5fd-2b0f-4f92-8e6a-b9b1b9828f17",
   "metadata": {},
   "source": [
    "![Injured in NYC in 2013-2018](./plots/injured_per_year_pedestrians_cyclist_motorist_NYC.png)"
   ]
  },
  {
   "cell_type": "markdown",
   "id": "f0c71da9-4a43-4f47-96e7-e5824ac3879c",
   "metadata": {},
   "source": [
    "Since injured individuals make up the majority of victims, the plot showing only injuries closely mirrors the overall victim trend."
   ]
  },
  {
   "cell_type": "markdown",
   "id": "f65e8428-4bfa-4ae4-86b9-d05ec56c1b7c",
   "metadata": {
    "jp-MarkdownHeadingCollapsed": true
   },
   "source": [
    "#### &nbsp;&nbsp;&nbsp;&nbsp;&nbsp;&nbsp;&nbsp;&nbsp;3.4.4 Number of persons killed in NYC collisions (2013–2018), broken down by victim type"
   ]
  },
  {
   "cell_type": "markdown",
   "id": "1fd7d7a3-245a-4615-9503-7539b4b77bf4",
   "metadata": {},
   "source": [
    "![Injured in NYC in 2013-2018](./plots/killed_per_year_pedestrians_cyclist_motorist_NYC.png)"
   ]
  },
  {
   "cell_type": "markdown",
   "id": "3053c3da-f402-48cd-91b1-4d9bce69c5a2",
   "metadata": {},
   "source": [
    "Unlike the trend for injuries, fatalities in collisions show a distinct pattern over the years. Pedestrians consistently represent the largest share of fatalities each year, while cyclists remain the smallest group among those killed."
   ]
  },
  {
   "cell_type": "markdown",
   "id": "36611152-61a6-4b7c-9318-7756ef2b006c",
   "metadata": {
    "jp-MarkdownHeadingCollapsed": true
   },
   "source": [
    "### &nbsp;&nbsp;&nbsp;&nbsp;3.5 Data visualization of collision severity trends over months in boroughs"
   ]
  },
  {
   "cell_type": "markdown",
   "id": "ca337d8d-eb9a-4d83-8283-cedb2bfb4764",
   "metadata": {
    "jp-MarkdownHeadingCollapsed": true
   },
   "source": [
    "#### &nbsp;&nbsp;&nbsp;&nbsp;&nbsp;&nbsp;&nbsp;&nbsp;3.5.1 Monthly trend for total number of victims in NYC collisions"
   ]
  },
  {
   "cell_type": "markdown",
   "id": "b0e167c6-5a4e-44bd-bdc0-a5d9b313a555",
   "metadata": {},
   "source": [
    "![Total number of victims monthly 2013-2018](./plots/monthly_number_of_victims_by_borough.png)"
   ]
  },
  {
   "cell_type": "markdown",
   "id": "4590f73b-cea4-4f1d-a00f-78cadf13571a",
   "metadata": {},
   "source": [
    "The monthly trend of collisions across all boroughs is relatively consistent, with noticeable increases around July and August, and dips typically occurring in February, June, and September."
   ]
  },
  {
   "cell_type": "markdown",
   "id": "9af22e81-c8f7-4be0-9578-cb1d630c10bf",
   "metadata": {
    "jp-MarkdownHeadingCollapsed": true
   },
   "source": [
    "#### &nbsp;&nbsp;&nbsp;&nbsp;&nbsp;&nbsp;&nbsp;&nbsp;3.5.2 Monthly trend for total number of injured persons in NYC collisions"
   ]
  },
  {
   "cell_type": "markdown",
   "id": "92914fb4-c69a-4d43-b9ca-c58a879d8e9e",
   "metadata": {},
   "source": [
    "![Total number of victims monthly 2013-2018](./plots/monthly_number_of_injured_by_borough.png)"
   ]
  },
  {
   "cell_type": "markdown",
   "id": "6624feaa-1957-4f6c-b7d4-3dc5236db21b",
   "metadata": {},
   "source": [
    "The trends for injured persons closely mirror those of all victims, as injured individuals constitute the majority."
   ]
  },
  {
   "cell_type": "markdown",
   "id": "b74c6043-2fad-4ee3-9810-ff9e30e4c0b1",
   "metadata": {
    "jp-MarkdownHeadingCollapsed": true
   },
   "source": [
    "#### &nbsp;&nbsp;&nbsp;&nbsp;&nbsp;&nbsp;&nbsp;&nbsp;3.5.3 Monthly trend for total number of killed persons in NYC collisions"
   ]
  },
  {
   "cell_type": "markdown",
   "id": "4a029cca-fc23-4398-b6b3-29abb5bb3b72",
   "metadata": {},
   "source": [
    "![Total number of victims monthly 2013-2018](./plots/monthly_number_of_killed_by_borough_filtered.png)"
   ]
  },
  {
   "cell_type": "markdown",
   "id": "7938d25e-8f69-479f-a3b8-3c3bc057bdda",
   "metadata": {},
   "source": [
    "Queens experiences significant increases in July, August, and November, with notable declines in June and September. Across all boroughs, a consistent downward trend is observed in September. Additionally, Staten Island shows a marked increase in June."
   ]
  },
  {
   "cell_type": "markdown",
   "id": "7c3c11d5-c1bd-4d5f-8c02-1c1c869219cd",
   "metadata": {
    "jp-MarkdownHeadingCollapsed": true
   },
   "source": [
    "### &nbsp;&nbsp;&nbsp;&nbsp;3.6 Data visualization of collisions involving unsafe speed"
   ]
  },
  {
   "cell_type": "markdown",
   "id": "38bab4a5-5d02-4e12-975e-1f61adb0850e",
   "metadata": {
    "jp-MarkdownHeadingCollapsed": true
   },
   "source": [
    "#### &nbsp;&nbsp;&nbsp;&nbsp;&nbsp;&nbsp;&nbsp;&nbsp;3.6.1 Yearly percentage of persons killed and injured due to unsafe speed in NYC"
   ]
  },
  {
   "cell_type": "markdown",
   "id": "1b66660b-b3e2-4e78-9d11-fe5397d32403",
   "metadata": {},
   "source": [
    "![Total number of victims monthly 2013-2018](./plots/yearly_killed_injured_by_borough_for_unsafespeed.png)"
   ]
  },
  {
   "cell_type": "markdown",
   "id": "2b594954-c152-47da-94d0-f586940883d8",
   "metadata": {},
   "source": [
    "The proportion of fatalities associated with the contributing factor 'Unsafe Speed' is significantly higher than that of injured victims. This increase has been particularly noticeable since 2015."
   ]
  },
  {
   "cell_type": "markdown",
   "id": "849f0503-212b-4d81-becd-07f5bddad56c",
   "metadata": {
    "jp-MarkdownHeadingCollapsed": true
   },
   "source": [
    "#### &nbsp;&nbsp;&nbsp;&nbsp;&nbsp;&nbsp;&nbsp;&nbsp;3.6.2 Percent of injured due to unsafe speed per borough"
   ]
  },
  {
   "cell_type": "markdown",
   "id": "d311031d-bd64-491d-a9c1-89d78517a602",
   "metadata": {},
   "source": [
    "![Total number of victims monthly 2013-2018](./plots/percentage_of_injured_by_unsafespeed_per_year_relative_to_all_NYC.png)"
   ]
  },
  {
   "cell_type": "markdown",
   "id": "211ba3df-8c25-4af7-96ae-746cfe03b47f",
   "metadata": {},
   "source": [
    "![Total number of victims monthly 2013-2018](./plots/percentage_of_injured_by_unsafespeed_per_year_relative_to_all_boroughs.png)"
   ]
  },
  {
   "cell_type": "markdown",
   "id": "100f6390-7254-4360-9729-99ee6793ab47",
   "metadata": {},
   "source": [
    "Since 2016, Queens has recorded the highest number of injured individuals among all boroughs, surpassing Brooklyn, which previously held the lead. Relative to the occurrence of collisions attributed to unsafe speed, Staten Island consistently exhibits a higher percentage each year compared to the other boroughs.\n",
    "&nbsp;"
   ]
  },
  {
   "cell_type": "markdown",
   "id": "807836a1-574f-4290-a86f-24373ba0b378",
   "metadata": {
    "jp-MarkdownHeadingCollapsed": true
   },
   "source": [
    "#### &nbsp;&nbsp;&nbsp;&nbsp;&nbsp;&nbsp;&nbsp;&nbsp;3.6.3 Percent of fatalities due to unsafe speed per borough"
   ]
  },
  {
   "cell_type": "markdown",
   "id": "d0ca9e79-6ce7-4c24-b3ce-7f10f330d7e1",
   "metadata": {},
   "source": [
    "![Total number of victims monthly 2013-2018](./plots/percentage_of_killed_by_unsafespeed_per_year_relative_to_all_NYC.png)"
   ]
  },
  {
   "cell_type": "markdown",
   "id": "71615fa2-15a8-431d-855f-88dbd6fec856",
   "metadata": {},
   "source": [
    "![Total number of victims monthly 2013-2018](./plots/percentage_of_killed_by_unsafespeed_per_year_relative_to_all_boroughs.png)"
   ]
  },
  {
   "cell_type": "markdown",
   "id": "664146b5-f0f1-4ac2-8a2b-b0d7bc88bbab",
   "metadata": {},
   "source": [
    "Across all NYC collisions, Queens consistently records the highest number of fatalities due to unsafe speed, with a steady annual increase. Since 2015, fatalities related to unsafe speed have risen in all boroughs, except for a decline in 2018 observed in Brooklyn, the Bronx, and Staten Island.\n",
    "&nbsp;\n",
    "When examining the percentage of fatalities attributable to unsafe speed relative to total borough fatalities, Staten Island stands out with over 25% of fatal collisions linked to this factor since 2016. Additionally, all boroughs show a noticeable increase in this proportion after 2015 compared to previous years."
   ]
  },
  {
   "cell_type": "markdown",
   "id": "151394f9-8495-4ea4-8680-61d589f5bbad",
   "metadata": {
    "jp-MarkdownHeadingCollapsed": true
   },
   "source": [
    "### &nbsp;&nbsp;&nbsp;&nbsp;3.7 Frequency of vehicle types involved in collisions in NYC"
   ]
  },
  {
   "cell_type": "markdown",
   "id": "c28646cb-4f5a-49cf-b568-01f7315e9bbb",
   "metadata": {
    "jp-MarkdownHeadingCollapsed": true
   },
   "source": [
    "#### &nbsp;&nbsp;&nbsp;&nbsp;&nbsp;&nbsp;&nbsp;&nbsp;3.7.1 Top 10 Most Common Vehicle Types in Collisions"
   ]
  },
  {
   "cell_type": "markdown",
   "id": "590f4fdf-c51e-4449-ac20-d44e5c3e4ed3",
   "metadata": {},
   "source": [
    "![Total number of victims monthly 2013-2018](./plots/top10_vehicle_types_in_collisions_NYC.png)"
   ]
  },
  {
   "cell_type": "markdown",
   "id": "029fa829-a28b-4443-b9c1-7e55cb206543",
   "metadata": {},
   "source": [
    "The most common vehicle type involved in collisions is passenger vehicles, accounting for 39.9% of cases. This is followed by sport utility vehicles and station wagons at 26.7%, with sedans ranking third, comprising just over 10% of collisions."
   ]
  },
  {
   "cell_type": "markdown",
   "id": "364f8c01-7e6f-40a6-8a68-1b74e7a7f012",
   "metadata": {
    "jp-MarkdownHeadingCollapsed": true
   },
   "source": [
    "#### &nbsp;&nbsp;&nbsp;&nbsp;&nbsp;&nbsp;&nbsp;&nbsp;3.7.2 Percentage of contributing factors for the top 6 vehicle types involved in collisins in NYC"
   ]
  },
  {
   "cell_type": "markdown",
   "id": "9ec3b79a-27d3-465b-a8a3-819ef03c88a7",
   "metadata": {},
   "source": [
    "![Total number of victims monthly 2013-2018](./plots/top6_vehicle_types_with_factors_NYC.png)"
   ]
  },
  {
   "cell_type": "markdown",
   "id": "730f0344-839c-4125-a937-71f4113388d6",
   "metadata": {},
   "source": [
    "A large share of the informative contributing factors per top vehicle type involved in collisions is ‘Driver Inattention/Distraction’."
   ]
  },
  {
   "cell_type": "markdown",
   "id": "37ec5f24-14d6-4294-9b9a-e5703299c591",
   "metadata": {
    "jp-MarkdownHeadingCollapsed": true
   },
   "source": [
    "#### &nbsp;&nbsp;&nbsp;&nbsp;&nbsp;&nbsp;&nbsp;&nbsp;3.7.3 Percentage of contributing factors for the top 5 vehicle types involved in fatal collisins in NYC"
   ]
  },
  {
   "cell_type": "markdown",
   "id": "3ef45729-7e4f-4eab-a136-afbcc16fdf14",
   "metadata": {},
   "source": [
    "![Total number of victims monthly 2013-2018](./plots/top5_vehicle_types_with_factors_for_killed_NYC.png)"
   ]
  },
  {
   "cell_type": "markdown",
   "id": "09eec761-05ff-4941-8106-10e61fbe3ce4",
   "metadata": {},
   "source": [
    "For both motorcycles and sedans, over 25% of all fatal collisions are attributed to unsafe speed."
   ]
  },
  {
   "cell_type": "markdown",
   "id": "743e29d2-ffd1-4c59-9906-266301c189bf",
   "metadata": {
    "jp-MarkdownHeadingCollapsed": true
   },
   "source": [
    "#### &nbsp;&nbsp;&nbsp;&nbsp;&nbsp;&nbsp;&nbsp;&nbsp;3.7.4 Top 5 vehicle types involved in fatal collisions due to unsafe speed per borough"
   ]
  },
  {
   "cell_type": "markdown",
   "id": "527b2c8f-e6df-4d05-a49c-550d648adf06",
   "metadata": {},
   "source": [
    "![Total number of victims monthly 2013-2018](./plots/top5_vehicle_types_for_killed_unsafespeed_per_borough_NYC.png)"
   ]
  },
  {
   "cell_type": "markdown",
   "id": "cbdc9fae-fe43-4afc-ba78-8f60e56ce1ab",
   "metadata": {},
   "source": [
    "Sedans and Passenger Vehicles are involved in fatal collisions across all boroughs, while Motorcycles are present in every borough except Staten Island."
   ]
  },
  {
   "cell_type": "markdown",
   "id": "7cdc1b4d-441f-4805-adf5-3a6a34aebb98",
   "metadata": {
    "jp-MarkdownHeadingCollapsed": true
   },
   "source": [
    "### &nbsp;&nbsp;&nbsp;&nbsp;3.8 Data visualization for collisions hotspots"
   ]
  },
  {
   "cell_type": "markdown",
   "id": "fee5ac36-3aae-4d8c-9300-256bc6dd1e82",
   "metadata": {
    "jp-MarkdownHeadingCollapsed": true
   },
   "source": [
    "#### &nbsp;&nbsp;&nbsp;&nbsp;&nbsp;&nbsp;&nbsp;&nbsp;3.8.1 Top 10 streets with most injuries"
   ]
  },
  {
   "cell_type": "markdown",
   "id": "3ad1abc2-93a7-4548-9663-723cb8fb9027",
   "metadata": {},
   "source": [
    "![Total number of victims monthly 2013-2018](./plots/top10_injured_streets.png)"
   ]
  },
  {
   "cell_type": "markdown",
   "id": "7e510c4d-a1a2-40c5-bf3b-b6e76868baa2",
   "metadata": {},
   "source": [
    "Atlantic Avenue in Brooklyn recorded the highest number of collisions involving injuries."
   ]
  },
  {
   "cell_type": "markdown",
   "id": "29f664b7-f139-4160-a649-9bfd04ec3a4f",
   "metadata": {
    "jp-MarkdownHeadingCollapsed": true
   },
   "source": [
    "#### &nbsp;&nbsp;&nbsp;&nbsp;&nbsp;&nbsp;&nbsp;&nbsp;3.8.2 Top 10 streets with most killed"
   ]
  },
  {
   "cell_type": "markdown",
   "id": "3e76c5a8-f976-40b6-8953-40f914a6c457",
   "metadata": {},
   "source": [
    "![Total number of victims monthly 2013-2018](./plots/top10_killed_streets.png)"
   ]
  },
  {
   "cell_type": "markdown",
   "id": "abe4c7b8-5165-4803-90ce-3b5fce9b7e67",
   "metadata": {},
   "source": [
    "Broadway in Manhattan recorded the highest number of fatal collisions."
   ]
  },
  {
   "cell_type": "markdown",
   "id": "1b196466-fcc0-439a-8aee-9615830488e9",
   "metadata": {
    "jp-MarkdownHeadingCollapsed": true
   },
   "source": [
    "#### &nbsp;&nbsp;&nbsp;&nbsp;&nbsp;&nbsp;&nbsp;&nbsp;3.8.3 Top 3 contributing factors per top 10 most fatal streets (with \"Unspecified\" factor)"
   ]
  },
  {
   "cell_type": "markdown",
   "id": "0209f926-6490-443e-8e4d-597cc46bc37c",
   "metadata": {},
   "source": [
    "![Total number of victims monthly 2013-2018](./plots/top3_factors_killed_for_streets_all.png)"
   ]
  },
  {
   "cell_type": "markdown",
   "id": "de25cdfb-eff3-4010-901d-b196aa8a0edb",
   "metadata": {},
   "source": [
    "The factor \"Unspecified\" appears among the top three contributing factors in fatal collisions on most streets. While it lacks informative value, its frequent occurrence is important to acknowledge."
   ]
  },
  {
   "cell_type": "markdown",
   "id": "9aa709b4-7f73-4729-917c-4140ed6c58ba",
   "metadata": {
    "jp-MarkdownHeadingCollapsed": true
   },
   "source": [
    "#### &nbsp;&nbsp;&nbsp;&nbsp;&nbsp;&nbsp;&nbsp;&nbsp;3.8.4 Top 3 contributing factors per top 10 most fatal streets (only informative factors)"
   ]
  },
  {
   "cell_type": "markdown",
   "id": "d934616b-0d02-4158-9d6e-0a00d3a66bc9",
   "metadata": {},
   "source": [
    "![Total number of victims monthly 2013-2018](./plots/top3_factors_killed_for_streets.png)"
   ]
  },
  {
   "cell_type": "markdown",
   "id": "475ac710-31ed-45d9-98e1-ded252b9684b",
   "metadata": {},
   "source": [
    "When considering only informative contributing factors, 'Driver Inattention/Distraction' appears most frequently across streets. On Northern Boulevard and Grand Central Parkway in Queens, the majority of fatal collisions are attributed to Unsafe Speed."
   ]
  }
 ],
 "metadata": {
  "kernelspec": {
   "display_name": "Python 3 (ipykernel)",
   "language": "python",
   "name": "python3"
  },
  "language_info": {
   "codemirror_mode": {
    "name": "ipython",
    "version": 3
   },
   "file_extension": ".py",
   "mimetype": "text/x-python",
   "name": "python",
   "nbconvert_exporter": "python",
   "pygments_lexer": "ipython3",
   "version": "3.13.2"
  }
 },
 "nbformat": 4,
 "nbformat_minor": 5
}
